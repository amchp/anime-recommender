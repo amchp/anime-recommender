{
 "cells": [
  {
   "cell_type": "code",
   "execution_count": 1,
   "metadata": {},
   "outputs": [],
   "source": [
    "import pandas as pd\n",
    "import matplotlib.pyplot as plt"
   ]
  },
  {
   "cell_type": "code",
   "execution_count": 2,
   "metadata": {},
   "outputs": [],
   "source": [
    "data = pd.read_csv('datos/final_animedataset.csv')"
   ]
  },
  {
   "cell_type": "code",
   "execution_count": 3,
   "metadata": {},
   "outputs": [
    {
     "data": {
      "text/html": [
       "<div>\n",
       "<style scoped>\n",
       "    .dataframe tbody tr th:only-of-type {\n",
       "        vertical-align: middle;\n",
       "    }\n",
       "\n",
       "    .dataframe tbody tr th {\n",
       "        vertical-align: top;\n",
       "    }\n",
       "\n",
       "    .dataframe thead th {\n",
       "        text-align: right;\n",
       "    }\n",
       "</style>\n",
       "<table border=\"1\" class=\"dataframe\">\n",
       "  <thead>\n",
       "    <tr style=\"text-align: right;\">\n",
       "      <th></th>\n",
       "      <th>username</th>\n",
       "      <th>anime_id</th>\n",
       "      <th>my_score</th>\n",
       "      <th>user_id</th>\n",
       "      <th>gender</th>\n",
       "      <th>title</th>\n",
       "      <th>type</th>\n",
       "      <th>source</th>\n",
       "      <th>score</th>\n",
       "      <th>scored_by</th>\n",
       "      <th>rank</th>\n",
       "      <th>popularity</th>\n",
       "      <th>genre</th>\n",
       "    </tr>\n",
       "  </thead>\n",
       "  <tbody>\n",
       "    <tr>\n",
       "      <th>0</th>\n",
       "      <td>karthiga</td>\n",
       "      <td>21</td>\n",
       "      <td>9</td>\n",
       "      <td>2255153</td>\n",
       "      <td>Female</td>\n",
       "      <td>One Piece</td>\n",
       "      <td>TV</td>\n",
       "      <td>Manga</td>\n",
       "      <td>8.54</td>\n",
       "      <td>423868</td>\n",
       "      <td>91.0</td>\n",
       "      <td>35</td>\n",
       "      <td>Action, Adventure, Comedy, Super Power, Drama,...</td>\n",
       "    </tr>\n",
       "    <tr>\n",
       "      <th>1</th>\n",
       "      <td>karthiga</td>\n",
       "      <td>59</td>\n",
       "      <td>7</td>\n",
       "      <td>2255153</td>\n",
       "      <td>Female</td>\n",
       "      <td>Chobits</td>\n",
       "      <td>TV</td>\n",
       "      <td>Manga</td>\n",
       "      <td>7.53</td>\n",
       "      <td>175388</td>\n",
       "      <td>1546.0</td>\n",
       "      <td>188</td>\n",
       "      <td>Sci-Fi, Comedy, Drama, Romance, Ecchi, Seinen</td>\n",
       "    </tr>\n",
       "    <tr>\n",
       "      <th>2</th>\n",
       "      <td>karthiga</td>\n",
       "      <td>74</td>\n",
       "      <td>7</td>\n",
       "      <td>2255153</td>\n",
       "      <td>Female</td>\n",
       "      <td>Gakuen Alice</td>\n",
       "      <td>TV</td>\n",
       "      <td>Manga</td>\n",
       "      <td>7.77</td>\n",
       "      <td>33244</td>\n",
       "      <td>941.0</td>\n",
       "      <td>1291</td>\n",
       "      <td>Comedy, School, Shoujo, Super Power</td>\n",
       "    </tr>\n",
       "    <tr>\n",
       "      <th>3</th>\n",
       "      <td>karthiga</td>\n",
       "      <td>120</td>\n",
       "      <td>7</td>\n",
       "      <td>2255153</td>\n",
       "      <td>Female</td>\n",
       "      <td>Fruits Basket</td>\n",
       "      <td>TV</td>\n",
       "      <td>Manga</td>\n",
       "      <td>7.77</td>\n",
       "      <td>167968</td>\n",
       "      <td>939.0</td>\n",
       "      <td>222</td>\n",
       "      <td>Slice of Life, Comedy, Drama, Romance, Fantasy...</td>\n",
       "    </tr>\n",
       "    <tr>\n",
       "      <th>4</th>\n",
       "      <td>karthiga</td>\n",
       "      <td>178</td>\n",
       "      <td>7</td>\n",
       "      <td>2255153</td>\n",
       "      <td>Female</td>\n",
       "      <td>Ultra Maniac</td>\n",
       "      <td>TV</td>\n",
       "      <td>Manga</td>\n",
       "      <td>7.26</td>\n",
       "      <td>9663</td>\n",
       "      <td>2594.0</td>\n",
       "      <td>2490</td>\n",
       "      <td>Magic, Comedy, Romance, School, Shoujo</td>\n",
       "    </tr>\n",
       "  </tbody>\n",
       "</table>\n",
       "</div>"
      ],
      "text/plain": [
       "   username  anime_id  my_score  user_id  gender          title type source  \\\n",
       "0  karthiga        21         9  2255153  Female      One Piece   TV  Manga   \n",
       "1  karthiga        59         7  2255153  Female        Chobits   TV  Manga   \n",
       "2  karthiga        74         7  2255153  Female   Gakuen Alice   TV  Manga   \n",
       "3  karthiga       120         7  2255153  Female  Fruits Basket   TV  Manga   \n",
       "4  karthiga       178         7  2255153  Female   Ultra Maniac   TV  Manga   \n",
       "\n",
       "   score  scored_by    rank  popularity  \\\n",
       "0   8.54     423868    91.0          35   \n",
       "1   7.53     175388  1546.0         188   \n",
       "2   7.77      33244   941.0        1291   \n",
       "3   7.77     167968   939.0         222   \n",
       "4   7.26       9663  2594.0        2490   \n",
       "\n",
       "                                               genre  \n",
       "0  Action, Adventure, Comedy, Super Power, Drama,...  \n",
       "1      Sci-Fi, Comedy, Drama, Romance, Ecchi, Seinen  \n",
       "2                Comedy, School, Shoujo, Super Power  \n",
       "3  Slice of Life, Comedy, Drama, Romance, Fantasy...  \n",
       "4             Magic, Comedy, Romance, School, Shoujo  "
      ]
     },
     "execution_count": 3,
     "metadata": {},
     "output_type": "execute_result"
    }
   ],
   "source": [
    "data.head()"
   ]
  },
  {
   "cell_type": "code",
   "execution_count": 8,
   "metadata": {},
   "outputs": [
    {
     "data": {
      "text/html": [
       "<div>\n",
       "<style scoped>\n",
       "    .dataframe tbody tr th:only-of-type {\n",
       "        vertical-align: middle;\n",
       "    }\n",
       "\n",
       "    .dataframe tbody tr th {\n",
       "        vertical-align: top;\n",
       "    }\n",
       "\n",
       "    .dataframe thead th {\n",
       "        text-align: right;\n",
       "    }\n",
       "</style>\n",
       "<table border=\"1\" class=\"dataframe\">\n",
       "  <thead>\n",
       "    <tr style=\"text-align: right;\">\n",
       "      <th></th>\n",
       "      <th>anime_id</th>\n",
       "      <th>my_score</th>\n",
       "      <th>user_id</th>\n",
       "      <th>score</th>\n",
       "      <th>scored_by</th>\n",
       "      <th>rank</th>\n",
       "      <th>popularity</th>\n",
       "    </tr>\n",
       "  </thead>\n",
       "  <tbody>\n",
       "    <tr>\n",
       "      <th>count</th>\n",
       "      <td>3.530570e+07</td>\n",
       "      <td>3.530570e+07</td>\n",
       "      <td>3.530570e+07</td>\n",
       "      <td>3.530570e+07</td>\n",
       "      <td>3.530570e+07</td>\n",
       "      <td>3.455372e+07</td>\n",
       "      <td>3.530570e+07</td>\n",
       "    </tr>\n",
       "    <tr>\n",
       "      <th>mean</th>\n",
       "      <td>1.148159e+04</td>\n",
       "      <td>4.591388e+00</td>\n",
       "      <td>1.863856e+06</td>\n",
       "      <td>7.527708e+00</td>\n",
       "      <td>1.096508e+05</td>\n",
       "      <td>2.045874e+03</td>\n",
       "      <td>1.335952e+03</td>\n",
       "    </tr>\n",
       "    <tr>\n",
       "      <th>std</th>\n",
       "      <td>1.121719e+04</td>\n",
       "      <td>3.909503e+00</td>\n",
       "      <td>1.963096e+06</td>\n",
       "      <td>7.279344e-01</td>\n",
       "      <td>1.479300e+05</td>\n",
       "      <td>1.972325e+03</td>\n",
       "      <td>1.563161e+03</td>\n",
       "    </tr>\n",
       "    <tr>\n",
       "      <th>min</th>\n",
       "      <td>1.000000e+00</td>\n",
       "      <td>0.000000e+00</td>\n",
       "      <td>1.000000e+00</td>\n",
       "      <td>1.900000e+00</td>\n",
       "      <td>2.000000e+02</td>\n",
       "      <td>1.000000e+00</td>\n",
       "      <td>1.000000e+00</td>\n",
       "    </tr>\n",
       "    <tr>\n",
       "      <th>25%</th>\n",
       "      <td>1.661000e+03</td>\n",
       "      <td>0.000000e+00</td>\n",
       "      <td>2.130750e+05</td>\n",
       "      <td>7.110000e+00</td>\n",
       "      <td>1.737600e+04</td>\n",
       "      <td>5.000000e+02</td>\n",
       "      <td>2.510000e+02</td>\n",
       "    </tr>\n",
       "    <tr>\n",
       "      <th>50%</th>\n",
       "      <td>7.724000e+03</td>\n",
       "      <td>6.000000e+00</td>\n",
       "      <td>1.057347e+06</td>\n",
       "      <td>7.560000e+00</td>\n",
       "      <td>5.388100e+04</td>\n",
       "      <td>1.414000e+03</td>\n",
       "      <td>7.690000e+02</td>\n",
       "    </tr>\n",
       "    <tr>\n",
       "      <th>75%</th>\n",
       "      <td>1.911700e+04</td>\n",
       "      <td>8.000000e+00</td>\n",
       "      <td>3.557933e+06</td>\n",
       "      <td>8.030000e+00</td>\n",
       "      <td>1.396270e+05</td>\n",
       "      <td>3.039000e+03</td>\n",
       "      <td>1.824000e+03</td>\n",
       "    </tr>\n",
       "    <tr>\n",
       "      <th>max</th>\n",
       "      <td>3.786300e+04</td>\n",
       "      <td>1.000000e+01</td>\n",
       "      <td>7.251737e+06</td>\n",
       "      <td>9.250000e+00</td>\n",
       "      <td>1.009477e+06</td>\n",
       "      <td>9.527000e+03</td>\n",
       "      <td>1.026500e+04</td>\n",
       "    </tr>\n",
       "  </tbody>\n",
       "</table>\n",
       "</div>"
      ],
      "text/plain": [
       "           anime_id      my_score       user_id         score     scored_by  \\\n",
       "count  3.530570e+07  3.530570e+07  3.530570e+07  3.530570e+07  3.530570e+07   \n",
       "mean   1.148159e+04  4.591388e+00  1.863856e+06  7.527708e+00  1.096508e+05   \n",
       "std    1.121719e+04  3.909503e+00  1.963096e+06  7.279344e-01  1.479300e+05   \n",
       "min    1.000000e+00  0.000000e+00  1.000000e+00  1.900000e+00  2.000000e+02   \n",
       "25%    1.661000e+03  0.000000e+00  2.130750e+05  7.110000e+00  1.737600e+04   \n",
       "50%    7.724000e+03  6.000000e+00  1.057347e+06  7.560000e+00  5.388100e+04   \n",
       "75%    1.911700e+04  8.000000e+00  3.557933e+06  8.030000e+00  1.396270e+05   \n",
       "max    3.786300e+04  1.000000e+01  7.251737e+06  9.250000e+00  1.009477e+06   \n",
       "\n",
       "               rank    popularity  \n",
       "count  3.455372e+07  3.530570e+07  \n",
       "mean   2.045874e+03  1.335952e+03  \n",
       "std    1.972325e+03  1.563161e+03  \n",
       "min    1.000000e+00  1.000000e+00  \n",
       "25%    5.000000e+02  2.510000e+02  \n",
       "50%    1.414000e+03  7.690000e+02  \n",
       "75%    3.039000e+03  1.824000e+03  \n",
       "max    9.527000e+03  1.026500e+04  "
      ]
     },
     "execution_count": 8,
     "metadata": {},
     "output_type": "execute_result"
    }
   ],
   "source": [
    "data.describe()"
   ]
  },
  {
   "cell_type": "code",
   "execution_count": 8,
   "metadata": {},
   "outputs": [
    {
     "data": {
      "image/png": "[encoded data removed]",
      "text/plain": [
       "<Figure size 640x480 with 1 Axes>"
      ]
     },
     "metadata": {},
     "output_type": "display_data"
    }
   ],
   "source": [
    "plt.hist(data['score'], bins=100)\n",
    "plt.xlabel('Mean Anime Score')\n",
    "plt.ylabel('Frecuency')\n",
    "plt.title('Mean Anime Score Histogram')\n",
    "plt.show()"
   ]
  },
  {
   "cell_type": "code",
   "execution_count": 7,
   "metadata": {},
   "outputs": [
    {
     "data": {
      "image/png": "[encoded data removed]",
      "text/plain": [
       "<Figure size 640x480 with 1 Axes>"
      ]
     },
     "metadata": {},
     "output_type": "display_data"
    }
   ],
   "source": [
    "plt.hist(data['scored_by'], bins=100)\n",
    "plt.xlabel('Scored By')\n",
    "plt.ylabel('Frecuency')\n",
    "plt.title('Scored By Histogram')\n",
    "plt.show()"
   ]
  },
  {
   "cell_type": "code",
   "execution_count": 12,
   "metadata": {},
   "outputs": [
    {
     "data": {
      "image/png": "[encoded data removed]",
      "text/plain": [
       "<Figure size 640x480 with 1 Axes>"
      ]
     },
     "metadata": {},
     "output_type": "display_data"
    }
   ],
   "source": [
    "plt.hist(data['popularity'], bins=100)\n",
    "plt.xlabel('Popularity')\n",
    "plt.ylabel('Frecuency')\n",
    "plt.title('Popularity Histogram')\n",
    "plt.show()"
   ]
  }
 ],
 "metadata": {
  "kernelspec": {
   "display_name": "Python 3",
   "language": "python",
   "name": "python3"
  },
  "language_info": {
   "codemirror_mode": {
    "name": "ipython",
    "version": 3
   },
   "file_extension": ".py",
   "mimetype": "text/x-python",
   "name": "python",
   "nbconvert_exporter": "python",
   "pygments_lexer": "ipython3",
   "version": "3.10.11"
  }
 },
 "nbformat": 4,
 "nbformat_minor": 2
}
