{
 "cells": [
  {
   "cell_type": "code",
   "execution_count": null,
   "id": "477a8a06",
   "metadata": {},
   "outputs": [
    {
     "data": {
      "text/html": [
       "Current session configs: <tt>{'conf': {'spark.pyspark.python': 'python3', 'spark.pyspark.virtualenv.enabled': 'true', 'spark.pyspark.virtualenv.type': 'native', 'spark.pyspark.virtualenv.bin.path': '/usr/bin/virtualenv'}, 'proxyUser': 'jovyan', 'kind': 'pyspark'}</tt><br>"
      ],
      "text/plain": [
       "<IPython.core.display.HTML object>"
      ]
     },
     "metadata": {},
     "output_type": "display_data"
    },
    {
     "data": {
      "text/html": [
       "No active sessions."
      ],
      "text/plain": [
       "<IPython.core.display.HTML object>"
      ]
     },
     "metadata": {},
     "output_type": "display_data"
    }
   ],
   "source": [
    "%%configure -f\n",
    "{ \"conf\":{\n",
    "          \"spark.pyspark.python\": \"python3\",\n",
    "          \"spark.pyspark.virtualenv.enabled\": \"true\",\n",
    "          \"spark.pyspark.virtualenv.type\":\"native\",\n",
    "          \"spark.pyspark.virtualenv.bin.path\":\"/usr/bin/virtualenv\"\n",
    "         }\n",
    "}"
   ]
  },
  {
   "cell_type": "code",
   "execution_count": null,
   "id": "f623fbea",
   "metadata": {},
   "outputs": [
    {
     "name": "stdout",
     "output_type": "stream",
     "text": [
      "Starting Spark application\n"
     ]
    },
    {
     "data": {
      "text/html": [
       "<table>\n",
       "<tr><th>ID</th><th>YARN Application ID</th><th>Kind</th><th>State</th><th>Spark UI</th><th>Driver log</th><th>User</th><th>Current session?</th></tr><tr><td>0</td><td>application_1731967368081_0001</td><td>pyspark</td><td>idle</td><td><a target=\"_blank\" href=\"http://ip-172-31-75-238.ec2.internal:20888/proxy/application_1731967368081_0001/\">Link</a></td><td><a target=\"_blank\" href=\"http://ip-172-31-70-11.ec2.internal:8042/node/containerlogs/container_1731967368081_0001_01_000001/livy\">Link</a></td><td>None</td><td>✔</td></tr></table>"
      ],
      "text/plain": [
       "<IPython.core.display.HTML object>"
      ]
     },
     "metadata": {},
     "output_type": "display_data"
    },
    {
     "data": {
      "application/vnd.jupyter.widget-view+json": {
       "model_id": "",
       "version_major": 2,
       "version_minor": 0
      },
      "text/plain": [
       "FloatProgress(value=0.0, bar_style='info', description='Progress:', layout=Layout(height='25px', width='50%'),…"
      ]
     },
     "metadata": {},
     "output_type": "display_data"
    },
    {
     "name": "stdout",
     "output_type": "stream",
     "text": [
      "SparkSession available as 'spark'.\n"
     ]
    },
    {
     "data": {
      "application/vnd.jupyter.widget-view+json": {
       "model_id": "",
       "version_major": 2,
       "version_minor": 0
      },
      "text/plain": [
       "FloatProgress(value=0.0, bar_style='info', description='Progress:', layout=Layout(height='25px', width='50%'),…"
      ]
     },
     "metadata": {},
     "output_type": "display_data"
    },
    {
     "name": "stdout",
     "output_type": "stream",
     "text": [
      "Collecting pandas\n",
      "  Downloading pandas-2.2.3-cp39-cp39-manylinux_2_17_x86_64.manylinux2014_x86_64.whl (13.1 MB)\n",
      "Collecting python-dateutil>=2.8.2\n",
      "  Downloading python_dateutil-2.9.0.post0-py2.py3-none-any.whl (229 kB)\n",
      "Collecting tzdata>=2022.7\n",
      "  Downloading tzdata-2024.2-py2.py3-none-any.whl (346 kB)\n",
      "Requirement already satisfied: pytz>=2020.1 in /usr/local/lib/python3.9/site-packages (from pandas) (2024.2)\n",
      "Collecting numpy>=1.22.4\n",
      "  Downloading numpy-2.0.2-cp39-cp39-manylinux_2_17_x86_64.manylinux2014_x86_64.whl (19.5 MB)\n",
      "Requirement already satisfied: six>=1.5 in /usr/local/lib/python3.9/site-packages (from python-dateutil>=2.8.2->pandas) (1.13.0)\n",
      "Installing collected packages: tzdata, python-dateutil, numpy, pandas\n",
      "  Attempting uninstall: python-dateutil\n",
      "    Found existing installation: python-dateutil 2.8.1\n",
      "    Not uninstalling python-dateutil at /usr/lib/python3.9/site-packages, outside environment /mnt1/yarn/usercache/livy/appcache/application_1731967368081_0001/container_1731967368081_0001_01_000001/tmp/spark-c0572c3c-9fc8-4a71-b63f-9c58d34a116a\n",
      "    Can't uninstall 'python-dateutil'. No files were found to uninstall.\n",
      "Successfully installed numpy-2.0.2 pandas-2.2.3 python-dateutil-2.9.0.post0 tzdata-2024.2\n",
      "\n",
      "Requirement already satisfied: numpy in ./tmp/spark-c0572c3c-9fc8-4a71-b63f-9c58d34a116a/lib64/python3.9/site-packages (2.0.2)\n",
      "\n",
      "WARNING: The directory '/home/.cache/pip' or its parent directory is not owned or is not writable by the current user. The cache has been disabled. Check the permissions and owner of that directory. If executing pip with sudo, you should use sudo's -H flag.\n",
      "ERROR: pip's dependency resolver does not currently take into account all the packages that are installed. This behaviour is the source of the following dependency conflicts.\n",
      "awscli 2.15.30 requires python-dateutil<=2.8.2,>=2.1, but you have python-dateutil 2.9.0.post0 which is incompatible.\n",
      "\n",
      "WARNING: The directory '/home/.cache/pip' or its parent directory is not owned or is not writable by the current user. The cache has been disabled. Check the permissions and owner of that directory. If executing pip with sudo, you should use sudo's -H flag."
     ]
    }
   ],
   "source": [
    "sc.install_pypi_package(\"pandas\")\n",
    "sc.install_pypi_package(\"numpy\")"
   ]
  },
  {
   "cell_type": "code",
   "execution_count": null,
   "id": "f8dfe7dd",
   "metadata": {},
   "outputs": [
    {
     "data": {
      "application/vnd.jupyter.widget-view+json": {
       "model_id": "",
       "version_major": 2,
       "version_minor": 0
      },
      "text/plain": [
       "FloatProgress(value=0.0, bar_style='info', description='Progress:', layout=Layout(height='25px', width='50%'),…"
      ]
     },
     "metadata": {},
     "output_type": "display_data"
    }
   ],
   "source": [
    "from pyspark.sql import SparkSession\n",
    "\n",
    "spark = SparkSession.builder.appName(\"RecommenderSystem\").getOrCreate()"
   ]
  },
  {
   "cell_type": "code",
   "execution_count": null,
   "id": "c179de08",
   "metadata": {},
   "outputs": [
    {
     "data": {
      "application/vnd.jupyter.widget-view+json": {
       "model_id": "",
       "version_major": 2,
       "version_minor": 0
      },
      "text/plain": [
       "FloatProgress(value=0.0, bar_style='info', description='Progress:', layout=Layout(height='25px', width='50%'),…"
      ]
     },
     "metadata": {},
     "output_type": "display_data"
    }
   ],
   "source": [
    "import numpy as np\n",
    "from pyspark.sql.window import Window\n",
    "from pyspark.sql.functions import expr, rank, col, udf\n",
    "from pyspark.ml.feature import StringIndexer, IndexToString\n",
    "from pyspark.sql.types import ArrayType, StructType, StructField, StringType, FloatType\n",
    "from pyspark.ml.evaluation import RegressionEvaluator\n",
    "from pyspark.ml.recommendation import ALS\n",
    "from pyspark.ml.tuning import ParamGridBuilder, CrossValidator\n",
    "from pyspark.mllib.evaluation import RankingMetrics\n",
    "from pyspark.sql import functions as F"
   ]
  },
  {
   "cell_type": "code",
   "execution_count": null,
   "id": "7881ecdb",
   "metadata": {},
   "outputs": [
    {
     "data": {
      "application/vnd.jupyter.widget-view+json": {
       "model_id": "",
       "version_major": 2,
       "version_minor": 0
      },
      "text/plain": [
       "FloatProgress(value=0.0, bar_style='info', description='Progress:', layout=Layout(height='25px', width='50%'),…"
      ]
     },
     "metadata": {},
     "output_type": "display_data"
    }
   ],
   "source": [
    "df = spark.read.csv(\"s3://proyecto-mineria-de-datos/user-filtered.csv\", header=True, inferSchema=True)"
   ]
  },
  {
   "cell_type": "code",
   "execution_count": null,
   "id": "4accacb8",
   "metadata": {},
   "outputs": [
    {
     "data": {
      "application/vnd.jupyter.widget-view+json": {
       "model_id": "",
       "version_major": 2,
       "version_minor": 0
      },
      "text/plain": [
       "FloatProgress(value=0.0, bar_style='info', description='Progress:', layout=Layout(height='25px', width='50%'),…"
      ]
     },
     "metadata": {},
     "output_type": "display_data"
    },
    {
     "name": "stdout",
     "output_type": "stream",
     "text": [
      "root\n",
      " |-- user_id: integer (nullable = true)\n",
      " |-- anime_id: integer (nullable = true)\n",
      " |-- rating: integer (nullable = true)"
     ]
    }
   ],
   "source": [
    "df.printSchema()"
   ]
  },
  {
   "cell_type": "code",
   "execution_count": null,
   "id": "4d7dc944",
   "metadata": {},
   "outputs": [
    {
     "data": {
      "application/vnd.jupyter.widget-view+json": {
       "model_id": "",
       "version_major": 2,
       "version_minor": 0
      },
      "text/plain": [
       "FloatProgress(value=0.0, bar_style='info', description='Progress:', layout=Layout(height='25px', width='50%'),…"
      ]
     },
     "metadata": {},
     "output_type": "display_data"
    }
   ],
   "source": [
    "df = df.filter(df.rating != 0)"
   ]
  },
  {
   "cell_type": "code",
   "execution_count": null,
   "id": "4de91c83",
   "metadata": {},
   "outputs": [
    {
     "data": {
      "application/vnd.jupyter.widget-view+json": {
       "model_id": "",
       "version_major": 2,
       "version_minor": 0
      },
      "text/plain": [
       "FloatProgress(value=0.0, bar_style='info', description='Progress:', layout=Layout(height='25px', width='50%'),…"
      ]
     },
     "metadata": {},
     "output_type": "display_data"
    }
   ],
   "source": [
    "df = df.orderBy(\"user_id\", \"anime_id\")"
   ]
  },
  {
   "cell_type": "code",
   "execution_count": null,
   "id": "f135e80d",
   "metadata": {},
   "outputs": [
    {
     "data": {
      "application/vnd.jupyter.widget-view+json": {
       "model_id": "",
       "version_major": 2,
       "version_minor": 0
      },
      "text/plain": [
       "FloatProgress(value=0.0, bar_style='info', description='Progress:', layout=Layout(height='25px', width='50%'),…"
      ]
     },
     "metadata": {},
     "output_type": "display_data"
    },
    {
     "name": "stdout",
     "output_type": "stream",
     "text": [
      "+-------+--------+------+\n",
      "|user_id|anime_id|rating|\n",
      "+-------+--------+------+\n",
      "|      0|      21|    10|\n",
      "|      0|      24|     9|\n",
      "|      0|      67|     9|\n",
      "|      0|      68|     6|\n",
      "|      0|     121|     9|\n",
      "|      0|     164|     8|\n",
      "|      0|     169|     7|\n",
      "|      0|     174|     4|\n",
      "|      0|     199|     8|\n",
      "|      0|     235|    10|\n",
      "|      0|     242|    10|\n",
      "|      0|     269|     9|\n",
      "|      0|     356|     9|\n",
      "|      0|     415|    10|\n",
      "|      0|     419|     8|\n",
      "|      0|     430|     9|\n",
      "|      0|     431|     8|\n",
      "|      0|     433|     6|\n",
      "|      0|     448|     5|\n",
      "|      0|     459|     9|\n",
      "+-------+--------+------+\n",
      "only showing top 20 rows"
     ]
    }
   ],
   "source": [
    "df.show()"
   ]
  },
  {
   "cell_type": "code",
   "execution_count": null,
   "id": "2b9c4089",
   "metadata": {},
   "outputs": [
    {
     "data": {
      "application/vnd.jupyter.widget-view+json": {
       "model_id": "",
       "version_major": 2,
       "version_minor": 0
      },
      "text/plain": [
       "FloatProgress(value=0.0, bar_style='info', description='Progress:', layout=Layout(height='25px', width='50%'),…"
      ]
     },
     "metadata": {},
     "output_type": "display_data"
    }
   ],
   "source": [
    "user_window = Window.partitionBy(\"user_id\").orderBy(col(\"anime_id\").desc())\n",
    "df = df.withColumn(\"num_animes\", expr(\"count(*) over (partition by user_id)\"))"
   ]
  },
  {
   "cell_type": "code",
   "execution_count": null,
   "id": "7d120a1f",
   "metadata": {},
   "outputs": [
    {
     "data": {
      "application/vnd.jupyter.widget-view+json": {
       "model_id": "",
       "version_major": 2,
       "version_minor": 0
      },
      "text/plain": [
       "FloatProgress(value=0.0, bar_style='info', description='Progress:', layout=Layout(height='25px', width='50%'),…"
      ]
     },
     "metadata": {},
     "output_type": "display_data"
    }
   ],
   "source": [
    "percent_animes_to_mask = 0.3\n",
    "\n",
    "df_final = df.withColumn(\"num_animes_to_mask\", (col(\"num_animes\") * percent_animes_to_mask).cast(\"int\"))\n",
    "df_final = df_final.withColumn(\"anime_rank\", rank().over(user_window))\n",
    "\n",
    "indexer_user = StringIndexer(inputCol='user_id', outputCol='user_index').setHandleInvalid(\"keep\")\n",
    "indexer_anime = StringIndexer(inputCol='anime_id', outputCol='anime_index').setHandleInvalid(\"keep\")\n",
    "\n",
    "user_indexer_model = indexer_user.fit(df_final)\n",
    "anime_indexer_model = indexer_anime.fit(df_final)\n",
    "\n",
    "df_final = user_indexer_model.transform(df_final)\n",
    "df_final = anime_indexer_model.transform(df_final)\n",
    "\n",
    "df_final = df_final.withColumn('user_index', df_final['user_index'].cast('integer'))\n",
    "df_final = df_final.withColumn('anime_index', df_final['anime_index'].cast('integer'))\n",
    "\n",
    "user_converter = IndexToString(inputCol='user_index', outputCol='user_id')\n",
    "anime_converter = IndexToString(inputCol='anime_index', outputCol='anime_id')\n",
    "\n",
    "user_converter.setLabels(user_indexer_model.labels)\n",
    "anime_converter.setLabels(anime_indexer_model.labels)\n",
    "\n",
    "train_data = df_final.filter(col(\"anime_rank\") > col(\"num_animes_to_mask\"))\n",
    "test_data = df_final.filter(col(\"anime_rank\") <= col(\"num_animes_to_mask\"))"
   ]
  },
  {
   "cell_type": "code",
   "execution_count": null,
   "id": "ebe3d29a",
   "metadata": {},
   "outputs": [
    {
     "data": {
      "application/vnd.jupyter.widget-view+json": {
       "model_id": "",
       "version_major": 2,
       "version_minor": 0
      },
      "text/plain": [
       "FloatProgress(value=0.0, bar_style='info', description='Progress:', layout=Layout(height='25px', width='50%'),…"
      ]
     },
     "metadata": {},
     "output_type": "display_data"
    }
   ],
   "source": [
    "als = ALS(\n",
    "    userCol='user_index',\n",
    "    itemCol='anime_index',\n",
    "    ratingCol='rating',\n",
    "    coldStartStrategy='drop',\n",
    "    nonnegative=True,\n",
    "    rank=10,\n",
    "    maxIter=20,\n",
    "    regParam=0.15\n",
    ")\n",
    "\n",
    "best_model = als.fit(train_data)"
   ]
  },
  {
   "cell_type": "code",
   "execution_count": null,
   "id": "957631fb",
   "metadata": {},
   "outputs": [
    {
     "data": {
      "application/vnd.jupyter.widget-view+json": {
       "model_id": "",
       "version_major": 2,
       "version_minor": 0
      },
      "text/plain": [
       "FloatProgress(value=0.0, bar_style='info', description='Progress:', layout=Layout(height='25px', width='50%'),…"
      ]
     },
     "metadata": {},
     "output_type": "display_data"
    },
    {
     "name": "stdout",
     "output_type": "stream",
     "text": [
      "Root Mean Squared Error (RMSE): 1.2781915597322315\n",
      "Mean Absolute Error (MAE): 0.9646012172565509\n",
      "Mean Squared Error (MSE): 1.6337736633707147\n",
      "R? (coefficient of determination): 0.482501354062024"
     ]
    }
   ],
   "source": [
    "predictions = best_model.transform(test_data)\n",
    "predictions = predictions.withColumn(\"prediction\", expr(\"CASE WHEN prediction < 1 THEN 1 WHEN prediction > 10 THEN 10 ELSE prediction END\"))\n",
    "evaluator = RegressionEvaluator(labelCol='rating', predictionCol='prediction')\n",
    "\n",
    "metrics = {}\n",
    "\n",
    "metric_names = ['rmse', 'mae', 'mse', 'r2']\n",
    "\n",
    "for metric in metric_names:\n",
    "    evaluator.setMetricName(metric)\n",
    "    metrics[metric] = evaluator.evaluate(predictions)\n",
    "\n",
    "print(f\"Root Mean Squared Error (RMSE): {metrics['rmse']}\")\n",
    "print(f\"Mean Absolute Error (MAE): {metrics['mae']}\")\n",
    "print(f\"Mean Squared Error (MSE): {metrics['mse']}\")\n",
    "print(f\"R² (coefficient of determination): {metrics['r2']}\")"
   ]
  },
  {
   "cell_type": "code",
   "execution_count": null,
   "id": "a62f2afd",
   "metadata": {},
   "outputs": [
    {
     "data": {
      "application/vnd.jupyter.widget-view+json": {
       "model_id": "",
       "version_major": 2,
       "version_minor": 0
      },
      "text/plain": [
       "FloatProgress(value=0.0, bar_style='info', description='Progress:', layout=Layout(height='25px', width='50%'),…"
      ]
     },
     "metadata": {},
     "output_type": "display_data"
    },
    {
     "name": "stdout",
     "output_type": "stream",
     "text": [
      "MAP: 0.0010\n",
      "NDCG at K: 0.0157\n",
      "Precision at K: 0.0197\n",
      "Recall at K: 0.0056\n",
      "/mnt1/yarn/usercache/livy/appcache/application_1731967368081_0001/container_1731967368081_0001_01_000001/pyspark.zip/pyspark/sql/context.py:158: FutureWarning: Deprecated in 3.0.0. Use SparkSession.builder.getOrCreate() instead."
     ]
    }
   ],
   "source": [
    "def evaluate_als_recommendations(model, test_data, k=10):\n",
    "    user_subset = test_data.select('user_index').distinct()\n",
    "    recommendations = model.recommendForUserSubset(user_subset, k)\n",
    "\n",
    "    predicted_rankings = recommendations.rdd.map(\n",
    "        lambda row: (row.user_index, [int(x.anime_index) for x in row.recommendations])\n",
    "    )\n",
    "\n",
    "    actual_rankings = test_data.groupBy('user_index').agg(\n",
    "        F.collect_list('anime_index').alias('actual_items')\n",
    "    ).rdd.map(\n",
    "        lambda row: (row.user_index, [int(x) for x in row.actual_items])\n",
    "    )\n",
    "\n",
    "    prediction_truth = predicted_rankings.join(actual_rankings)\n",
    "\n",
    "    metrics = RankingMetrics(prediction_truth.map(lambda x: (x[1][0], x[1][1])))\n",
    "\n",
    "    # Calculate various metrics\n",
    "    results = {\n",
    "        'MAP': metrics.meanAveragePrecision,\n",
    "        'NDCG at K': metrics.ndcgAt(k),\n",
    "        'Precision at K': metrics.precisionAt(k),\n",
    "        'Recall at K': metrics.recallAt(k)\n",
    "    }\n",
    "\n",
    "    return results\n",
    "\n",
    "# Use the evaluation function\n",
    "metrics_results = evaluate_als_recommendations(best_model, test_data, k=10)\n",
    "\n",
    "# Print results\n",
    "for metric_name, value in metrics_results.items():\n",
    "    print(f\"{metric_name}: {value:.4f}\")"
   ]
  },
  {
   "cell_type": "code",
   "execution_count": null,
   "id": "c7141fab",
   "metadata": {},
   "outputs": [
    {
     "data": {
      "application/vnd.jupyter.widget-view+json": {
       "model_id": "",
       "version_major": 2,
       "version_minor": 0
      },
      "text/plain": [
       "FloatProgress(value=0.0, bar_style='info', description='Progress:', layout=Layout(height='25px', width='50%'),…"
      ]
     },
     "metadata": {},
     "output_type": "display_data"
    }
   ],
   "source": [
    "final_als = ALS(\n",
    "    userCol='user_index',\n",
    "    itemCol='anime_index',\n",
    "    ratingCol='rating',\n",
    "    coldStartStrategy='drop',\n",
    "    nonnegative=True,\n",
    "    rank=10,\n",
    "    maxIter=20,\n",
    "    regParam=0.15\n",
    ")\n",
    "\n",
    "final_model = final_als.fit(df_final)"
   ]
  },
  {
   "cell_type": "code",
   "execution_count": null,
   "id": "79d4a2d7",
   "metadata": {},
   "outputs": [
    {
     "data": {
      "application/vnd.jupyter.widget-view+json": {
       "model_id": "",
       "version_major": 2,
       "version_minor": 0
      },
      "text/plain": [
       "FloatProgress(value=0.0, bar_style='info', description='Progress:', layout=Layout(height='25px', width='50%'),…"
      ]
     },
     "metadata": {},
     "output_type": "display_data"
    }
   ],
   "source": [
    "userRecs = final_model.recommendForAllUsers(10)\n",
    "userRecs = user_converter.transform(userRecs)\n",
    "\n",
    "def create_reverse_recommendations():\n",
    "    anime_labels = anime_indexer_model.labels\n",
    "\n",
    "    @udf(ArrayType(StructType([\n",
    "        StructField(\"anime_id\", StringType(), True),\n",
    "        StructField(\"rating\", FloatType(), True)\n",
    "    ])))\n",
    "    def convert_recommendations(recommendations):\n",
    "        return [{\"anime_id\": str(anime_labels[int(rec.anime_index)]),\n",
    "                \"rating\": float(rec.rating)}\n",
    "                for rec in recommendations]\n",
    "\n",
    "    return convert_recommendations\n",
    "\n",
    "convert_recs = create_reverse_recommendations()\n",
    "userRecs = userRecs.withColumn(\"recommendations\", convert_recs(col(\"recommendations\")))"
   ]
  },
  {
   "cell_type": "code",
   "execution_count": null,
   "id": "d944c969",
   "metadata": {},
   "outputs": [
    {
     "data": {
      "application/vnd.jupyter.widget-view+json": {
       "model_id": "",
       "version_major": 2,
       "version_minor": 0
      },
      "text/plain": [
       "FloatProgress(value=0.0, bar_style='info', description='Progress:', layout=Layout(height='25px', width='50%'),…"
      ]
     },
     "metadata": {},
     "output_type": "display_data"
    },
    {
     "name": "stdout",
     "output_type": "stream",
     "text": [
      "+-------+----------+----------------------+----------+----------------------+----------+----------------------+----------+----------------------+----------+----------------------+----------+----------------------+----------+----------------------+----------+----------------------+----------+----------------------+----------+-----------------------+\n",
      "|user_id|0_anime_id|recommendation_1_score|1_anime_id|recommendation_2_score|2_anime_id|recommendation_3_score|3_anime_id|recommendation_4_score|4_anime_id|recommendation_5_score|5_anime_id|recommendation_6_score|6_anime_id|recommendation_7_score|7_anime_id|recommendation_8_score|8_anime_id|recommendation_9_score|9_anime_id|recommendation_10_score|\n",
      "+-------+----------+----------------------+----------+----------------------+----------+----------------------+----------+----------------------+----------+----------------------+----------+----------------------+----------+----------------------+----------+----------------------+----------+----------------------+----------+-----------------------+\n",
      "|      0|     44511|             11.508946|     35054|              11.19725|     35058|             10.717719|     35035|             10.382718|     33894|              9.681907|     31004|              9.633505|     26293|              9.614492|     39486|               9.55427|     28023|              9.448798|     42916|               9.362709|\n",
      "|      1|     44511|            11.5253725|     35054|             11.334157|     35058|             10.784395|     35035|             10.462463|     35055|              9.656812|     42916|              9.487168|     39486|               9.41385|     26293|              9.326929|     40028|              9.296944|     38524|               9.236201|\n",
      "|     10|     44511|             12.273844|     35054|             11.073846|     35058|             10.564326|     35035|             10.366351|     36322|             10.353507|     41674|             10.208136|       820|              9.918789|      3786|               9.75077|      2921|              9.706575|     41277|               9.675491|\n",
      "|   1000|     42916|              9.161975|     43772|               8.99208|     41218|              8.502162|     42485|              8.243172|     40554|               8.20152|     34531|              8.120483|     35609|              7.976732|     35054|              7.968999|     48418|              7.942654|     48417|               7.942654|\n",
      "|  10000|     44511|             11.470617|     35054|             10.138788|     35058|              9.731273|     41674|              9.669159|       820|              9.650623|     36322|              9.642041|      2921|                9.5666|     35035|               9.51444|     45556|              9.436576|     24701|               9.226246|\n",
      "+-------+----------+----------------------+----------+----------------------+----------+----------------------+----------+----------------------+----------+----------------------+----------+----------------------+----------+----------------------+----------+----------------------+----------+----------------------+----------+-----------------------+\n",
      "only showing top 5 rows"
     ]
    }
   ],
   "source": [
    "def format_recommendations_for_export(userRecs):\n",
    "    flattened = userRecs.select(\n",
    "        'user_id',\n",
    "        F.posexplode('recommendations').alias('position', 'rec')\n",
    "    ).select(\n",
    "        'user_id',\n",
    "        'position',\n",
    "        'rec.anime_id',\n",
    "        'rec.rating'\n",
    "    )\n",
    "\n",
    "    pivoted = flattened.groupBy('user_id').pivot('position').agg(\n",
    "        F.first('anime_id').alias('anime_id'),\n",
    "        F.first('rating').alias('predicted_rating')\n",
    "    )\n",
    "\n",
    "    for i in range(10):\n",
    "        pivoted = (pivoted\n",
    "            .withColumnRenamed(f'{i}anime_id', f'recommendation_{i+1}_anime_id')\n",
    "            .withColumnRenamed(f'{i}_predicted_rating', f'recommendation_{i+1}_score'))\n",
    "\n",
    "    final_df = pivoted.orderBy('user_id')\n",
    "\n",
    "    return final_df\n",
    "\n",
    "formatted_recs = format_recommendations_for_export(userRecs)\n",
    "\n",
    "formatted_recs.toPandas().to_csv('anime_recommendations.csv', index=False)\n",
    "\n",
    "formatted_recs.coalesce(1).write.mode('overwrite').option('header', 'true').csv('s3://proyecto-mineria-de-datos/anime_recommendations_spark')\n",
    "\n",
    "formatted_recs.show(5)"
   ]
  }
 ],
 "metadata": {
  "kernelspec": {
   "display_name": "Python 3",
   "language": "python",
   "name": "python3"
  },
  "language_info": {
   "codemirror_mode": {
    "name": "python",
    "version": 3
   },
   "file_extension": ".py",
   "mimetype": "text/x-python",
   "name": "python",
   "pygments_lexer": "python3",
   "version": "3.10.11"
  }
 },
 "nbformat": 4,
 "nbformat_minor": 5
}
