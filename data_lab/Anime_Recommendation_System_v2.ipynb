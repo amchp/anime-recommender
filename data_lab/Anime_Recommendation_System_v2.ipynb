{
 "cells": [
  {
   "cell_type": "code",
   "execution_count": null,
   "metadata": {},
   "outputs": [],
   "source": [
    "%%configure -f\n",
    "{ \"conf\":{\n",
    "          \"spark.pyspark.python\": \"python3\",\n",
    "          \"spark.pyspark.virtualenv.enabled\": \"true\",\n",
    "          \"spark.pyspark.virtualenv.type\":\"native\",\n",
    "          \"spark.pyspark.virtualenv.bin.path\":\"/usr/bin/virtualenv\"\n",
    "         }\n",
    "}"
   ]
  },
  {
   "cell_type": "code",
   "execution_count": null,
   "metadata": {},
   "outputs": [],
   "source": [
    "sc.install_pypi_package(\"pandas\")\n",
    "sc.install_pypi_package(\"numpy\")"
   ]
  },
  {
   "cell_type": "code",
   "execution_count": null,
   "metadata": {
    "id": "L4B3-4j3AgiG"
   },
   "outputs": [],
   "source": [
    "from pyspark.sql import SparkSession\n",
    "\n",
    "spark = SparkSession.builder.appName(\"RecommenderSystem\").getOrCreate()"
   ]
  },
  {
   "cell_type": "code",
   "execution_count": null,
   "metadata": {
    "id": "PpNxAfA_7G9T"
   },
   "outputs": [],
   "source": [
    "import numpy as np\n",
    "from pyspark.sql.window import Window\n",
    "from pyspark.sql.functions import expr, rank, col, udf\n",
    "from pyspark.ml.feature import StringIndexer, IndexToString\n",
    "from pyspark.sql.types import ArrayType, StructType, StructField, StringType, FloatType\n",
    "from pyspark.ml.evaluation import RegressionEvaluator\n",
    "from pyspark.ml.recommendation import ALS\n",
    "from pyspark.ml.tuning import ParamGridBuilder, CrossValidator\n",
    "from pyspark.mllib.evaluation import RankingMetrics\n",
    "from pyspark.sql import functions as F"
   ]
  },
  {
   "cell_type": "code",
   "execution_count": 5,
   "metadata": {
    "id": "8cgE-PwC9-6O"
   },
   "outputs": [],
   "source": [
    "df = spark.read.csv(\"sample-user-filtered-2023.csv\", header=True, inferSchema=True)"
   ]
  },
  {
   "cell_type": "code",
   "execution_count": null,
   "metadata": {},
   "outputs": [],
   "source": [
    "df = df.filter(df.rating != 0)"
   ]
  },
  {
   "cell_type": "code",
   "execution_count": 6,
   "metadata": {
    "id": "WIOS7iT3vaJY"
   },
   "outputs": [],
   "source": [
    "df = df.orderBy(\"user_id\", \"anime_id\")"
   ]
  },
  {
   "cell_type": "code",
   "execution_count": 7,
   "metadata": {
    "colab": {
     "base_uri": "https://localhost:8080/"
    },
    "id": "Ul-CzqPP-I5D",
    "outputId": "5e236465-6c37-4c85-841a-c536b3555775"
   },
   "outputs": [
    {
     "name": "stdout",
     "output_type": "stream",
     "text": [
      "+-------+--------+------+\n",
      "|user_id|anime_id|rating|\n",
      "+-------+--------+------+\n",
      "|      1|      19|     9|\n",
      "|      1|      20|    10|\n",
      "|      1|      21|     9|\n",
      "|      1|     154|     8|\n",
      "|      1|     199|    10|\n",
      "|      1|     269|     7|\n",
      "|      1|     442|     7|\n",
      "|      1|     481|     8|\n",
      "|      1|    1535|     9|\n",
      "|      1|    1575|    10|\n",
      "|      1|    1735|    10|\n",
      "|      1|    2472|     7|\n",
      "|      1|    4224|     9|\n",
      "|      1|    5081|     8|\n",
      "|      1|    5114|    10|\n",
      "|      1|    6547|     6|\n",
      "|      1|    7674|     7|\n",
      "|      1|    9253|    10|\n",
      "|      1|    9919|     8|\n",
      "|      1|   10087|     7|\n",
      "+-------+--------+------+\n",
      "only showing top 20 rows\n",
      "\n"
     ]
    }
   ],
   "source": [
    "df.show()"
   ]
  },
  {
   "cell_type": "code",
   "execution_count": 8,
   "metadata": {
    "colab": {
     "base_uri": "https://localhost:8080/"
    },
    "id": "pACeoXnYB4aX",
    "outputId": "8bb6a692-6fff-4818-9103-98ebf94df7af"
   },
   "outputs": [
    {
     "name": "stdout",
     "output_type": "stream",
     "text": [
      "root\n",
      " |-- user_id: integer (nullable = true)\n",
      " |-- anime_id: integer (nullable = true)\n",
      " |-- rating: integer (nullable = true)\n",
      "\n"
     ]
    }
   ],
   "source": [
    "df.printSchema()"
   ]
  },
  {
   "cell_type": "code",
   "execution_count": 9,
   "metadata": {
    "id": "iolUxDWV6Osl"
   },
   "outputs": [],
   "source": [
    "user_window = Window.partitionBy(\"user_id\").orderBy(col(\"anime_id\").desc())\n",
    "df = df.withColumn(\"num_animes\", expr(\"count(*) over (partition by user_id)\"))"
   ]
  },
  {
   "cell_type": "code",
   "execution_count": 10,
   "metadata": {
    "id": "B1xZzpHE8PW4"
   },
   "outputs": [],
   "source": [
    "percent_animes_to_mask = 0.3\n",
    "\n",
    "df_final = df.withColumn(\"num_animes_to_mask\", (col(\"num_animes\") * percent_animes_to_mask).cast(\"int\"))\n",
    "df_final = df_final.withColumn(\"anime_rank\", rank().over(user_window))\n",
    "\n",
    "indexer_user = StringIndexer(inputCol='user_id', outputCol='user_index').setHandleInvalid(\"keep\")\n",
    "indexer_anime = StringIndexer(inputCol='anime_id', outputCol='anime_index').setHandleInvalid(\"keep\")\n",
    "\n",
    "user_indexer_model = indexer_user.fit(df_final)\n",
    "anime_indexer_model = indexer_anime.fit(df_final)\n",
    "\n",
    "df_final = user_indexer_model.transform(df_final)\n",
    "df_final = anime_indexer_model.transform(df_final)\n",
    "\n",
    "df_final = df_final.withColumn('user_index', df_final['user_index'].cast('integer'))\n",
    "df_final = df_final.withColumn('anime_index', df_final['anime_index'].cast('integer'))\n",
    "\n",
    "user_converter = IndexToString(inputCol='user_index', outputCol='user_id')\n",
    "anime_converter = IndexToString(inputCol='anime_index', outputCol='anime_id')\n",
    "\n",
    "user_converter.setLabels(user_indexer_model.labels)\n",
    "anime_converter.setLabels(anime_indexer_model.labels)\n",
    "\n",
    "train_data = df_final.filter(col(\"anime_rank\") > col(\"num_animes_to_mask\"))\n",
    "test_data = df_final.filter(col(\"anime_rank\") <= col(\"num_animes_to_mask\"))"
   ]
  },
  {
   "cell_type": "code",
   "execution_count": 12,
   "metadata": {
    "id": "3BRAsoJQ9KzK"
   },
   "outputs": [],
   "source": [
    "final_als = ALS(\n",
    "    userCol='user_index',\n",
    "    itemCol='anime_index',\n",
    "    ratingCol='rating',\n",
    "    coldStartStrategy='drop',\n",
    "    nonnegative=True,\n",
    "    rank=10,\n",
    "    maxIter=20,\n",
    "    regParam=0.15\n",
    ")\n",
    "\n",
    "best_model = als.fit(train_data)"
   ]
  },
  {
   "cell_type": "code",
   "execution_count": 13,
   "metadata": {
    "colab": {
     "base_uri": "https://localhost:8080/"
    },
    "id": "IlbidXnF7SGi",
    "outputId": "673f2ef6-4d73-4397-f4bc-c01e1ed7b1d8"
   },
   "outputs": [
    {
     "name": "stdout",
     "output_type": "stream",
     "text": [
      "Root Mean Squared Error (RMSE): 1.3724798015808322\n",
      "Mean Absolute Error (MAE): 1.057306571758675\n",
      "Mean Squared Error (MSE): 1.8837008057473603\n",
      "R² (coefficient of determination): 0.2511428250451453\n"
     ]
    }
   ],
   "source": [
    "predictions = best_model.transform(test_data)\n",
    "predictions = predictions.withColumn(\"prediction\", expr(\"CASE WHEN prediction < 1 THEN 1 WHEN prediction > 10 THEN 10 ELSE prediction END\"))\n",
    "evaluator = RegressionEvaluator(labelCol='rating', predictionCol='prediction')\n",
    "\n",
    "metrics = {}\n",
    "\n",
    "metric_names = ['rmse', 'mae', 'mse', 'r2']\n",
    "\n",
    "for metric in metric_names:\n",
    "    evaluator.setMetricName(metric)\n",
    "    metrics[metric] = evaluator.evaluate(predictions)\n",
    "\n",
    "print(f\"Root Mean Squared Error (RMSE): {metrics['rmse']}\")\n",
    "print(f\"Mean Absolute Error (MAE): {metrics['mae']}\")\n",
    "print(f\"Mean Squared Error (MSE): {metrics['mse']}\")\n",
    "print(f\"R² (coefficient of determination): {metrics['r2']}\")"
   ]
  },
  {
   "cell_type": "code",
   "execution_count": null,
   "metadata": {
    "colab": {
     "base_uri": "https://localhost:8080/"
    },
    "id": "Vf58Uk6-D4ih",
    "outputId": "48c4af01-9f94-4268-e3d1-f8e9375423a8"
   },
   "outputs": [
    {
     "name": "stderr",
     "output_type": "stream",
     "text": [
      "/usr/local/lib/python3.10/dist-packages/pyspark/sql/context.py:158: FutureWarning: Deprecated in 3.0.0. Use SparkSession.builder.getOrCreate() instead.\n",
      "  warnings.warn(\n"
     ]
    },
    {
     "name": "stdout",
     "output_type": "stream",
     "text": [
      "MAP: 0.0219\n",
      "NDCG at K: 0.1322\n",
      "Precision at K: 0.1228\n",
      "Recall at K: 0.0421\n"
     ]
    }
   ],
   "source": [
    "def evaluate_als_recommendations(model, test_data, k=10):\n",
    "    user_subset = test_data.select('user_index').distinct()\n",
    "    recommendations = model.recommendForUserSubset(user_subset, k)\n",
    "\n",
    "    predicted_rankings = recommendations.rdd.map(\n",
    "        lambda row: (row.user_index, [int(x.anime_index) for x in row.recommendations])\n",
    "    )\n",
    "\n",
    "    actual_rankings = test_data.groupBy('user_index').agg(\n",
    "        F.collect_list('anime_index').alias('actual_items')\n",
    "    ).rdd.map(\n",
    "        lambda row: (row.user_index, [int(x) for x in row.actual_items])\n",
    "    )\n",
    "\n",
    "    prediction_truth = predicted_rankings.join(actual_rankings)\n",
    "\n",
    "    metrics = RankingMetrics(prediction_truth.map(lambda x: (x[1][0], x[1][1])))\n",
    "\n",
    "    # Calculate various metrics\n",
    "    results = {\n",
    "        'MAP': metrics.meanAveragePrecision,\n",
    "        'NDCG at K': metrics.ndcgAt(k),\n",
    "        'Precision at K': metrics.precisionAt(k),\n",
    "        'Recall at K': metrics.recallAt(k)\n",
    "    }\n",
    "\n",
    "    return results\n",
    "\n",
    "# Use the evaluation function\n",
    "metrics_results = evaluate_als_recommendations(best_model, test_data, k=10)\n",
    "\n",
    "# Print results\n",
    "for metric_name, value in metrics_results.items():\n",
    "    print(f\"{metric_name}: {value:.4f}\")"
   ]
  },
  {
   "cell_type": "code",
   "execution_count": 26,
   "metadata": {
    "id": "w5gZgvvLPDHy"
   },
   "outputs": [],
   "source": [
    "userRecs = best_model.recommendForAllUsers(10)\n",
    "userRecs = user_converter.transform(userRecs)\n",
    "\n",
    "def create_reverse_recommendations():\n",
    "    anime_labels = anime_indexer_model.labels\n",
    "\n",
    "    @udf(ArrayType(StructType([\n",
    "        StructField(\"anime_id\", StringType(), True),\n",
    "        StructField(\"rating\", FloatType(), True)\n",
    "    ])))\n",
    "    def convert_recommendations(recommendations):\n",
    "        return [{\"anime_id\": str(anime_labels[int(rec.anime_index)]),\n",
    "                \"rating\": float(rec.rating)}\n",
    "                for rec in recommendations]\n",
    "\n",
    "    return convert_recommendations\n",
    "\n",
    "convert_recs = create_reverse_recommendations()\n",
    "userRecs = userRecs.withColumn(\"recommendations\", convert_recs(col(\"recommendations\")))"
   ]
  },
  {
   "cell_type": "code",
   "execution_count": null,
   "metadata": {
    "colab": {
     "base_uri": "https://localhost:8080/"
    },
    "id": "YqRxZWM0LmeZ",
    "outputId": "78ad36b6-de8f-4d65-f86a-5d0586fb6e7d"
   },
   "outputs": [
    {
     "name": "stdout",
     "output_type": "stream",
     "text": [
      "+-------+----------+----------------------+----------+----------------------+----------+----------------------+----------+----------------------+----------+----------------------+----------+----------------------+----------+----------------------+----------+----------------------+----------+----------------------+----------+-----------------------+\n",
      "|user_id|0_anime_id|recommendation_1_score|1_anime_id|recommendation_2_score|2_anime_id|recommendation_3_score|3_anime_id|recommendation_4_score|4_anime_id|recommendation_5_score|5_anime_id|recommendation_6_score|6_anime_id|recommendation_7_score|7_anime_id|recommendation_8_score|8_anime_id|recommendation_9_score|9_anime_id|recommendation_10_score|\n",
      "+-------+----------+----------------------+----------+----------------------+----------+----------------------+----------+----------------------+----------+----------------------+----------+----------------------+----------+----------------------+----------+----------------------+----------+----------------------+----------+-----------------------+\n",
      "|      1|     38101|             13.914299|     39587|             12.839206|     38524|             12.241091|     40221|             11.336912|     41353|             11.150232|     38826|             10.689079|     37991|              9.440263|     11061|              9.048158|     28851|              8.986134|      5114|               8.959176|\n",
      "|     10|     40221|             13.873494|     39587|             10.900227|     38524|             10.388511|     39195|               8.89399|       934|              8.778543|     38691|              8.696577|      1889|               8.66592|     32949|              8.628232|      4282|              8.622788|      9756|               8.620555|\n",
      "| 100000|     40221|             13.761553|     37991|             12.351057|     41353|             12.195663|     38826|            11.7473955|     38524|             11.545404|     39587|              9.815433|       199|              8.955882|       437|              8.941663|         1|                8.7705|       339|               8.755993|\n",
      "| 100001|     38524|             13.320706|     38101|               12.9267|     39587|             12.877021|     41353|             12.238741|     37991|              11.65712|     40221|              11.58689|     38826|            11.1567545|     39195|              9.482281|     37675|              9.403197|      9969|               9.266609|\n",
      "| 100004|     39587|             15.607419|     38524|             15.328795|     38101|            13.9489155|     40221|             12.917635|     41353|             11.162191|     37991|             11.012119|     39195|             10.508371|     38826|             10.223201|      2904|              8.997032|     38000|               8.979947|\n",
      "+-------+----------+----------------------+----------+----------------------+----------+----------------------+----------+----------------------+----------+----------------------+----------+----------------------+----------+----------------------+----------+----------------------+----------+----------------------+----------+-----------------------+\n",
      "only showing top 5 rows\n",
      "\n"
     ]
    }
   ],
   "source": [
    "def format_recommendations_for_export(userRecs):\n",
    "    flattened = userRecs.select(\n",
    "        'user_id',\n",
    "        F.posexplode('recommendations').alias('position', 'rec')\n",
    "    ).select(\n",
    "        'user_id',\n",
    "        'position',\n",
    "        'rec.anime_id',\n",
    "        'rec.rating'\n",
    "    )\n",
    "\n",
    "    pivoted = flattened.groupBy('user_id').pivot('position').agg(\n",
    "        F.first('anime_id').alias('anime_id'),\n",
    "        F.first('rating').alias('predicted_rating')\n",
    "    )\n",
    "\n",
    "    for i in range(10):\n",
    "        pivoted = (pivoted\n",
    "            .withColumnRenamed(f'{i}anime_id', f'recommendation_{i+1}_anime_id')\n",
    "            .withColumnRenamed(f'{i}_predicted_rating', f'recommendation_{i+1}_score'))\n",
    "\n",
    "    final_df = pivoted.orderBy('user_id')\n",
    "\n",
    "    return final_df\n",
    "\n",
    "formatted_recs = format_recommendations_for_export(userRecs)\n",
    "\n",
    "formatted_recs.toPandas().to_csv('anime_recommendations.csv', index=False)\n",
    "\n",
    "formatted_recs.coalesce(1).write.mode('overwrite').option('header', 'true').csv('anime_recommendations_spark')\n",
    "\n",
    "formatted_recs.show(5)"
   ]
  }
 ],
 "metadata": {
  "colab": {
   "provenance": []
  },
  "kernelspec": {
   "display_name": "Python 3",
   "name": "python3"
  },
  "language_info": {
   "name": "python",
   "version": "3.10.11"
  }
 },
 "nbformat": 4,
 "nbformat_minor": 0
}
