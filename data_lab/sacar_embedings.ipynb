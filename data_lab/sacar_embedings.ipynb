{
  "nbformat": 4,
  "nbformat_minor": 0,
  "metadata": {
    "colab": {
      "provenance": []
    },
    "kernelspec": {
      "name": "python3",
      "display_name": "Python 3"
    },
    "language_info": {
      "name": "python"
    }
  },
  "cells": [
    {
      "cell_type": "code",
      "execution_count": null,
      "metadata": {
        "colab": {
          "base_uri": "https://localhost:8080/",
          "height": 219
        },
        "id": "dZl5CfYS2sPQ",
        "outputId": "c6d40141-8f96-4ea0-d352-d8332d9de2b1"
      },
      "outputs": [
        {
          "output_type": "execute_result",
          "data": {
            "text/plain": [
              "<pyspark.sql.session.SparkSession at 0x7d9ed4ddc280>"
            ],
            "text/html": [
              "\n",
              "            <div>\n",
              "                <p><b>SparkSession - in-memory</b></p>\n",
              "                \n",
              "        <div>\n",
              "            <p><b>SparkContext</b></p>\n",
              "\n",
              "            <p><a href=\"http://92c6473bf81e:4040\">Spark UI</a></p>\n",
              "\n",
              "            <dl>\n",
              "              <dt>Version</dt>\n",
              "                <dd><code>v3.5.3</code></dd>\n",
              "              <dt>Master</dt>\n",
              "                <dd><code>local[*]</code></dd>\n",
              "              <dt>AppName</dt>\n",
              "                <dd><code>Spark NLP</code></dd>\n",
              "            </dl>\n",
              "        </div>\n",
              "        \n",
              "            </div>\n",
              "        "
            ]
          },
          "metadata": {},
          "execution_count": 1
        }
      ],
      "source": [
        "import findspark\n",
        "findspark.init()\n",
        "findspark.find()\n",
        "\n",
        "import pyspark\n",
        "\n",
        "from pyspark.sql import DataFrame, SparkSession\n",
        "from typing import List\n",
        "import pyspark.sql.types as T\n",
        "import pyspark.sql.functions as F\n",
        "import sparknlp\n",
        "\n",
        "# spark= SparkSession \\\n",
        "#        .builder \\\n",
        "#        .appName(\"Content Based Recommendation\") \\\n",
        "#        .getOrCreate()\n",
        "\n",
        "spark = sparknlp.start()\n",
        "\n",
        "spark"
      ]
    },
    {
      "cell_type": "code",
      "source": [
        "import pandas as pd"
      ],
      "metadata": {
        "id": "2Sb-tJDS238o"
      },
      "execution_count": null,
      "outputs": []
    },
    {
      "cell_type": "code",
      "source": [
        "df = pd.read_csv(\"/content/anime-dataset-2023.csv\")\n",
        "df_anime = spark.createDataFrame(df)\n",
        "df_anime.show()"
      ],
      "metadata": {
        "colab": {
          "base_uri": "https://localhost:8080/"
        },
        "id": "fVDQzPVw3Ros",
        "outputId": "10d93ce9-d825-4eb3-a98e-616c4fc0d94d"
      },
      "execution_count": null,
      "outputs": [
        {
          "output_type": "stream",
          "name": "stdout",
          "text": [
            "+--------+--------------------+--------------------+------------------------------+-----+--------------------+--------------------+-----+--------+--------------------+-----------+----------------+--------------------+--------------------+----------------+-----------+-------------+--------------------+------+----------+---------+---------+-------+--------------------+\n",
            "|anime_id|                Name|        English name|                    Other name|Score|              Genres|            Synopsis| Type|Episodes|               Aired|  Premiered|          Status|           Producers|           Licensors|         Studios|     Source|     Duration|              Rating|  Rank|Popularity|Favorites|Scored By|Members|           Image URL|\n",
            "+--------+--------------------+--------------------+------------------------------+-----+--------------------+--------------------+-----+--------+--------------------+-----------+----------------+--------------------+--------------------+----------------+-----------+-------------+--------------------+------+----------+---------+---------+-------+--------------------+\n",
            "|       1|        Cowboy Bebop|        Cowboy Bebop|            カウボーイビバップ| 8.75|Action, Award Win...|Crime is timeless...|   TV|    26.0|Apr 3, 1998 to Ap...|spring 1998| Finished Airing|       Bandai Visual|Funimation, Banda...|         Sunrise|   Original|24 min per ep|R - 17+ (violence...|  41.0|        43|    78525| 914193.0|1771505|https://cdn.myani...|\n",
            "|       5|Cowboy Bebop: Ten...|Cowboy Bebop: The...|   カウボーイビバップ 天国の扉| 8.38|      Action, Sci-Fi|Another day, anot...|Movie|     1.0|         Sep 1, 2001|    UNKNOWN| Finished Airing|Sunrise, Bandai V...|Sony Pictures Ent...|           Bones|   Original|  1 hr 55 min|R - 17+ (violence...| 189.0|       602|     1448| 206248.0| 360978|https://cdn.myani...|\n",
            "|       6|              Trigun|              Trigun|                    トライガン| 8.22|Action, Adventure...|Vash the Stampede...|   TV|    26.0|Apr 1, 1998 to Se...|spring 1998| Finished Airing|Victor Entertainment|Funimation, Geneo...|        Madhouse|      Manga|24 min per ep|PG-13 - Teens 13 ...| 328.0|       246|    15035| 356739.0| 727252|https://cdn.myani...|\n",
            "|       7|  Witch Hunter Robin|  Witch Hunter Robin|          Witch Hunter ROBI...| 7.25|Action, Drama, My...|Robin Sena is a p...|   TV|    26.0|Jul 3, 2002 to De...|summer 2002| Finished Airing|Bandai Visual, De...|Funimation, Banda...|         Sunrise|   Original|25 min per ep|PG-13 - Teens 13 ...|2764.0|      1795|      613|  42829.0| 111931|https://cdn.myani...|\n",
            "|       8|      Bouken Ou Beet|Beet the Vandel B...|                  冒険王ビィト| 6.94|Adventure, Fantas...|It is the dark ce...|   TV|    52.0|Sep 30, 2004 to S...|  fall 2004| Finished Airing|    TV Tokyo, Dentsu|Illumitoon Entert...|  Toei Animation|      Manga|23 min per ep|       PG - Children|4240.0|      5126|       14|   6413.0|  15001|https://cdn.myani...|\n",
            "|      15|        Eyeshield 21|             UNKNOWN|                アイシールド21| 7.92|              Sports|Shy, reserved, an...|   TV|   145.0|Apr 6, 2005 to Ma...|spring 2005| Finished Airing|TV Tokyo, Nihon A...|VIZ Media, Sentai...|          Gallop|      Manga|23 min per ep|PG-13 - Teens 13 ...| 688.0|      1252|     1997|  86524.0| 177688|https://cdn.myani...|\n",
            "|      16|Hachimitsu to Clover|    Honey and Clover|          ハチミツとクローバー|  8.0|Comedy, Drama, Ro...|Yuuta Takemoto, a...|   TV|    24.0|Apr 15, 2005 to S...|spring 2005| Finished Airing|Dentsu, Genco, Fu...|VIZ Media, Discot...|       J.C.Staff|      Manga|23 min per ep|PG-13 - Teens 13 ...| 589.0|       862|     4136|  81747.0| 260166|https://cdn.myani...|\n",
            "|      17|Hungry Heart: Wil...|             UNKNOWN|  ハングリーハート Wild Str...| 7.55|Comedy, Slice of ...|As the younger br...|   TV|    52.0|Sep 11, 2002 to S...|  fall 2002| Finished Airing|             UNKNOWN|             UNKNOWN|Nippon Animation|      Manga|23 min per ep|PG-13 - Teens 13 ...|1551.0|      4212|      237|  12960.0|  24172|https://cdn.myani...|\n",
            "|      18|Initial D Fourth ...|             UNKNOWN|頭文字〈イニシャル〉D FOURT...| 8.16|       Action, Drama|Takumi Fujiwara f...|   TV|    24.0|Apr 17, 2004 to F...|spring 2004| Finished Airing|OB Planning, Stud...|          Funimation|        A.C.G.T.|      Manga|27 min per ep|PG-13 - Teens 13 ...| 393.0|      1273|     1237|  97878.0| 173710|https://cdn.myani...|\n",
            "|      19|             Monster|             Monster|                    モンスター| 8.87|Drama, Mystery, S...|Dr. Kenzou Tenma,...|   TV|    74.0|Apr 7, 2004 to Se...|spring 2004| Finished Airing|VAP, Shogakukan-S...|           VIZ Media|        Madhouse|      Manga|24 min per ep|    R+ - Mild Nudity|  26.0|       142|    47235| 368569.0|1013100|https://cdn.myani...|\n",
            "|      20|              Naruto|              Naruto|                        ナルト| 7.99|Action, Adventure...|Moments prior to ...|   TV|   220.0|Oct 3, 2002 to Fe...|  fall 2002| Finished Airing|TV Tokyo, Aniplex...|           VIZ Media|         Pierrot|      Manga|23 min per ep|PG-13 - Teens 13 ...| 599.0|         8|    76343|1883772.0|2717330|https://cdn.myani...|\n",
            "|      21|           One Piece|           One Piece|                     ONE PIECE| 8.69|Action, Adventure...|Gol D. Roger was ...|   TV| UNKNOWN|   Oct 20, 1999 to ?|  fall 1999|Currently Airing|Fuji TV, TAP, Shu...|Funimation, 4Kids...|  Toei Animation|      Manga|       24 min|PG-13 - Teens 13 ...|  55.0|        20|   198986|1226493.0|2168904|https://cdn.myani...|\n",
            "|      22| Tennis no Ouji-sama|The Prince of Tennis|                テニスの王子様| 7.86|              Sports|At the request of...|   TV|   178.0|Oct 10, 2001 to M...|  fall 2001| Finished Airing|Production I.G, N...|Funimation, VIZ M...|      Trans Arts|      Manga|22 min per ep|PG-13 - Teens 13 ...| 805.0|      1246|     3004|  81992.0| 178273|https://cdn.myani...|\n",
            "|      23|    Ring ni Kakero 1|             UNKNOWN|              リングにかけろ１| 6.39|      Action, Sports|In order to fulfi...|   TV|    12.0|Oct 6, 2004 to De...|  fall 2004| Finished Airing|             UNKNOWN|             UNKNOWN|  Toei Animation|      Manga|25 min per ep|       PG - Children|6943.0|      8288|        6|   1378.0|   4581|https://cdn.myani...|\n",
            "|      24|       School Rumble|       School Rumble|              スクールランブル| 7.89|     Comedy, Romance|Just the words \"I...|   TV|    26.0|Oct 5, 2004 to Ma...|  fall 2004| Finished Airing|TV Tokyo, Sotsu, ...|          Funimation|    Studio Comet|      Manga|23 min per ep|PG-13 - Teens 13 ...| 756.0|       687|     5139| 146597.0| 320203|https://cdn.myani...|\n",
            "|      25|           Sunabouzu|         Desert Punk|                      砂ぼうず| 7.38|Action, Adventure...|The Great Kanto D...|   TV|    24.0|Oct 6, 2004 to Ma...|  fall 2004| Finished Airing|GDH, Pony Canyon,...|          Funimation|           Gonzo|      Manga|24 min per ep|R - 17+ (violence...|2167.0|      1546|      822|  53709.0| 134894|https://cdn.myani...|\n",
            "|      26|          Texhnolyze|          Texhnolyze|                    TEXHNOLYZE| 7.76|Action, Drama, Sc...|In the dark under...|   TV|    22.0|Apr 17, 2003 to S...|spring 2003| Finished Airing|Group TAC, Rondo ...|Funimation, Geneo...|        Madhouse|   Original|23 min per ep|    R+ - Mild Nudity| 990.0|       935|     4786|  54857.0| 239423|https://cdn.myani...|\n",
            "|      27|       Trinity Blood|       Trinity Blood|          トリニティ・ブラッド| 7.29|Action, Supernatural|Following Armaged...|   TV|    24.0|Apr 29, 2005 to O...|spring 2005| Finished Airing|             UNKNOWN|          Funimation|           Gonzo|Light novel|24 min per ep|R - 17+ (violence...|2591.0|      1233|     1298|  79130.0| 179583|https://cdn.myani...|\n",
            "|      28|    Yakitate!! Japan|    Yakitate!! Japan|           焼きたて!! ジャぱん| 7.91|     Comedy, Gourmet|While countries s...|   TV|    69.0|Oct 12, 2004 to M...|  fall 2004| Finished Airing|TV Tokyo, Aniplex...|Nozomi Entertainment|         Sunrise|      Manga|24 min per ep|PG-13 - Teens 13 ...| 704.0|      1992|      897|  40492.0|  95380|https://cdn.myani...|\n",
            "|      29|              Zipang|             UNKNOWN|                      ジパング| 7.48|Action, Drama, Sc...|Mirai, an improve...|   TV|    26.0|Oct 8, 2004 to Ap...|  fall 2004| Finished Airing|      Marvelous, TBS|Geneon Entertainm...|     Studio Deen|      Manga|24 min per ep|PG-13 - Teens 13 ...|1778.0|      4430|      180|   7273.0|  21391|https://cdn.myani...|\n",
            "+--------+--------------------+--------------------+------------------------------+-----+--------------------+--------------------+-----+--------+--------------------+-----------+----------------+--------------------+--------------------+----------------+-----------+-------------+--------------------+------+----------+---------+---------+-------+--------------------+\n",
            "only showing top 20 rows\n",
            "\n"
          ]
        }
      ]
    },
    {
      "cell_type": "markdown",
      "source": [
        "# Prepocesamiento"
      ],
      "metadata": {
        "id": "Z_-kl3tA9WeK"
      }
    },
    {
      "cell_type": "code",
      "source": [
        "from pyspark.sql.functions import col, explode, split, when, mean\n",
        "\n",
        "# Reemplazar \"UNKNOWN\" por NULL (vacío) en la columna \"Genres\"\n",
        "df_anime = df_anime.withColumn(\"Genres\", when(col(\"Genres\") == \"UNKNOWN\", None).otherwise(col(\"Genres\")))"
      ],
      "metadata": {
        "id": "dk4GqZqj9nsk"
      },
      "execution_count": null,
      "outputs": []
    },
    {
      "cell_type": "code",
      "source": [
        "# 1. Filtrar las filas que tienen valores numéricos en la columna \"Score\"\n",
        "df_numeric_scores = df_anime.filter(col(\"Score\").cast(\"float\").isNotNull())\n",
        "\n",
        "# Extraer las calificaciones numéricas en una lista ordenada\n",
        "numeric_scores = df_numeric_scores.select(col(\"Score\").cast(\"float\")).rdd.flatMap(lambda x: x).collect()\n",
        "numeric_scores.sort()\n",
        "\n",
        "# Calcular la mediana\n",
        "n = len(numeric_scores)\n",
        "median_score = numeric_scores[n // 2] if n % 2 != 0 else (numeric_scores[n // 2 - 1] + numeric_scores[n // 2]) / 2\n",
        "\n",
        "# Reemplazar \"UNKNOWN\" por la mediana calculada\n",
        "df_anime = df_anime.withColumn(\"Score\", when(col(\"Score\") == \"UNKNOWN\", median_score).otherwise(col(\"Score\")))\n",
        "\n",
        "# Cambiar \"Score\" a tipo float\n",
        "df_anime = df_anime.withColumn(\"Score\", col(\"Score\").cast(\"float\"))"
      ],
      "metadata": {
        "id": "GT2KZxts9gRs"
      },
      "execution_count": null,
      "outputs": []
    },
    {
      "cell_type": "code",
      "source": [
        "# Asegurarte de que \"Episodes\" sea tratado como tipo float\n",
        "df_anime = df_anime.withColumn(\"Episodes\", col(\"Episodes\").cast(\"float\"))\n",
        "\n",
        "# Filtrar las filas que tienen valores numéricos en la columna \"Episodes\"\n",
        "df_numeric_episodes = df_anime.filter(col(\"Episodes\").isNotNull())\n",
        "\n",
        "# Calcular la media de los episodios\n",
        "mean_episodes = df_numeric_episodes.select(mean(col(\"Episodes\"))).collect()[0][0]\n",
        "\n",
        "# Reemplazar los valores \"UNKNOWN\" por la media calculada\n",
        "df_anime = df_anime.withColumn(\"Episodes\", when(col(\"Episodes\").isNull(), mean_episodes).otherwise(col(\"Episodes\")))"
      ],
      "metadata": {
        "id": "iWXtx2i-984r"
      },
      "execution_count": null,
      "outputs": []
    },
    {
      "cell_type": "code",
      "source": [
        "# Reemplazar \"UNKNOWN\" por NULL (vacío) en la columna \"Type\"\n",
        "df_anime = df_anime.withColumn(\"Type\", when(col(\"Type\") == \"UNKNOWN\", None).otherwise(col(\"Type\")))"
      ],
      "metadata": {
        "id": "CRHL3wrq-CMT"
      },
      "execution_count": null,
      "outputs": []
    },
    {
      "cell_type": "code",
      "source": [
        "# Remplazar Unknown por vacios\n",
        "df_anime = df_anime.withColumn(\"Duration\", when(col(\"Duration\") == \"Unknown\", None).otherwise(col(\"Duration\")))\n",
        "df_anime = df_anime.withColumn(\"Rating\", when(col(\"Rating\") == \"UNKNOWN\", None).otherwise(col(\"Rating\")))\n"
      ],
      "metadata": {
        "id": "nHdzakqj-IGG"
      },
      "execution_count": null,
      "outputs": []
    },
    {
      "cell_type": "code",
      "source": [
        "# Crear un dataframe buevo con columnas 'Name', 'Genres', 'Synopsis', 'Type', 'Episodes', 'Score',\n",
        "# 'Aired', 'Status', 'Source', 'Duration', 'Rating', 'Popularity', 'Members'\n",
        "data = df_anime.select(\"anime_id\", \"Name\", \"Genres\", \"Synopsis\", \"Type\", \"Episodes\",\"Aired\",\n",
        "                       \"Status\", \"Source\", \"Duration\", \"Rating\")\n",
        "data.show()"
      ],
      "metadata": {
        "colab": {
          "base_uri": "https://localhost:8080/"
        },
        "id": "kR0btPIF-TyQ",
        "outputId": "c1be0f8b-10ac-40ba-b3aa-9d39c3681a23"
      },
      "execution_count": null,
      "outputs": [
        {
          "output_type": "stream",
          "name": "stdout",
          "text": [
            "+--------+--------------------+--------------------+--------------------+-----+-----------------+--------------------+----------------+-----------+-------------+--------------------+\n",
            "|anime_id|                Name|              Genres|            Synopsis| Type|         Episodes|               Aired|          Status|     Source|     Duration|              Rating|\n",
            "+--------+--------------------+--------------------+--------------------+-----+-----------------+--------------------+----------------+-----------+-------------+--------------------+\n",
            "|       1|        Cowboy Bebop|Action, Award Win...|Crime is timeless...|   TV|             26.0|Apr 3, 1998 to Ap...| Finished Airing|   Original|24 min per ep|R - 17+ (violence...|\n",
            "|       5|Cowboy Bebop: Ten...|      Action, Sci-Fi|Another day, anot...|Movie|              1.0|         Sep 1, 2001| Finished Airing|   Original|  1 hr 55 min|R - 17+ (violence...|\n",
            "|       6|              Trigun|Action, Adventure...|Vash the Stampede...|   TV|             26.0|Apr 1, 1998 to Se...| Finished Airing|      Manga|24 min per ep|PG-13 - Teens 13 ...|\n",
            "|       7|  Witch Hunter Robin|Action, Drama, My...|Robin Sena is a p...|   TV|             26.0|Jul 3, 2002 to De...| Finished Airing|   Original|25 min per ep|PG-13 - Teens 13 ...|\n",
            "|       8|      Bouken Ou Beet|Adventure, Fantas...|It is the dark ce...|   TV|             52.0|Sep 30, 2004 to S...| Finished Airing|      Manga|23 min per ep|       PG - Children|\n",
            "|      15|        Eyeshield 21|              Sports|Shy, reserved, an...|   TV|            145.0|Apr 6, 2005 to Ma...| Finished Airing|      Manga|23 min per ep|PG-13 - Teens 13 ...|\n",
            "|      16|Hachimitsu to Clover|Comedy, Drama, Ro...|Yuuta Takemoto, a...|   TV|             24.0|Apr 15, 2005 to S...| Finished Airing|      Manga|23 min per ep|PG-13 - Teens 13 ...|\n",
            "|      17|Hungry Heart: Wil...|Comedy, Slice of ...|As the younger br...|   TV|             52.0|Sep 11, 2002 to S...| Finished Airing|      Manga|23 min per ep|PG-13 - Teens 13 ...|\n",
            "|      18|Initial D Fourth ...|       Action, Drama|Takumi Fujiwara f...|   TV|             24.0|Apr 17, 2004 to F...| Finished Airing|      Manga|27 min per ep|PG-13 - Teens 13 ...|\n",
            "|      19|             Monster|Drama, Mystery, S...|Dr. Kenzou Tenma,...|   TV|             74.0|Apr 7, 2004 to Se...| Finished Airing|      Manga|24 min per ep|    R+ - Mild Nudity|\n",
            "|      20|              Naruto|Action, Adventure...|Moments prior to ...|   TV|            220.0|Oct 3, 2002 to Fe...| Finished Airing|      Manga|23 min per ep|PG-13 - Teens 13 ...|\n",
            "|      21|           One Piece|Action, Adventure...|Gol D. Roger was ...|   TV|14.91351774100601|   Oct 20, 1999 to ?|Currently Airing|      Manga|       24 min|PG-13 - Teens 13 ...|\n",
            "|      22| Tennis no Ouji-sama|              Sports|At the request of...|   TV|            178.0|Oct 10, 2001 to M...| Finished Airing|      Manga|22 min per ep|PG-13 - Teens 13 ...|\n",
            "|      23|    Ring ni Kakero 1|      Action, Sports|In order to fulfi...|   TV|             12.0|Oct 6, 2004 to De...| Finished Airing|      Manga|25 min per ep|       PG - Children|\n",
            "|      24|       School Rumble|     Comedy, Romance|Just the words \"I...|   TV|             26.0|Oct 5, 2004 to Ma...| Finished Airing|      Manga|23 min per ep|PG-13 - Teens 13 ...|\n",
            "|      25|           Sunabouzu|Action, Adventure...|The Great Kanto D...|   TV|             24.0|Oct 6, 2004 to Ma...| Finished Airing|      Manga|24 min per ep|R - 17+ (violence...|\n",
            "|      26|          Texhnolyze|Action, Drama, Sc...|In the dark under...|   TV|             22.0|Apr 17, 2003 to S...| Finished Airing|   Original|23 min per ep|    R+ - Mild Nudity|\n",
            "|      27|       Trinity Blood|Action, Supernatural|Following Armaged...|   TV|             24.0|Apr 29, 2005 to O...| Finished Airing|Light novel|24 min per ep|R - 17+ (violence...|\n",
            "|      28|    Yakitate!! Japan|     Comedy, Gourmet|While countries s...|   TV|             69.0|Oct 12, 2004 to M...| Finished Airing|      Manga|24 min per ep|PG-13 - Teens 13 ...|\n",
            "|      29|              Zipang|Action, Drama, Sc...|Mirai, an improve...|   TV|             26.0|Oct 8, 2004 to Ap...| Finished Airing|      Manga|24 min per ep|PG-13 - Teens 13 ...|\n",
            "+--------+--------------------+--------------------+--------------------+-----+-----------------+--------------------+----------------+-----------+-------------+--------------------+\n",
            "only showing top 20 rows\n",
            "\n"
          ]
        }
      ]
    },
    {
      "cell_type": "code",
      "source": [
        "from pyspark.sql.functions import concat_ws,regexp_replace\n",
        "\n",
        "# Concatenar todas las columnas con un separador, por ejemplo, un espacio (' ')\n",
        "df_with_concatenation = data.withColumn(\n",
        "    \"concatenated_text\",\n",
        "    concat_ws(\" \",\"Name\",\"Genres\",\"Synopsis\",\"Type\", \"Episodes\", \"Aired\", \"Status\", \"Source\", \"Duration\", \"Rating\")\n",
        ")\n",
        "\n",
        "# Mostrar el DataFrame con la nueva columna concatenada\n",
        "df_final = df_with_concatenation.drop(\"Genres\",\"Synopsis\",\"Type\", \"Episodes\", \"Aired\", \"Status\", \"Source\", \"Duration\", \"Rating\")\n",
        "\n",
        "df_final = df_final.withColumn(\n",
        "    \"concatenated_text\",\n",
        "    regexp_replace(\"concatenated_text\", \",\", \"\")\n",
        ")\n",
        "df_final.show(truncate=False)"
      ],
      "metadata": {
        "colab": {
          "base_uri": "https://localhost:8080/"
        },
        "id": "1rTpvNp5-Zwo",
        "outputId": "d8a14ec5-8867-44e1-905f-61b485df57f2"
      },
      "execution_count": null,
      "outputs": [
        {
          "output_type": "stream",
          "name": "stdout",
          "text": [
            "+--------+-------------------------------+------------------------------------------------------------------------------------------------------------------------------------------------------------------------------------------------------------------------------------------------------------------------------------------------------------------------------------------------------------------------------------------------------------------------------------------------------------------------------------------------------------------------------------------------------------------------------------------------------------------------------------------------------------------------------------------------------------------------------------------------------------------------------------------------------------------------------------------------------------------------------------------------------------------------------------------------------------------------------------------------------------------------------------------------------------------------------------------------------------------------------------------------------------------------------------------------------------------------------------------------------------------------------------------------------------------------------------------------------------------------------------------------------------------------------------------------------------------------------------------------------------------------------+\n",
            "|anime_id|Name                           |concatenated_text                                                                                                                                                                                                                                                                                                                                                                                                                                                                                                                                                                                                                                                                                                                                                                                                                                                                                                                                                                                                                                                                                                                                                                                                                                                                                                                                                                                                                                                                                                             |\n",
            "+--------+-------------------------------+------------------------------------------------------------------------------------------------------------------------------------------------------------------------------------------------------------------------------------------------------------------------------------------------------------------------------------------------------------------------------------------------------------------------------------------------------------------------------------------------------------------------------------------------------------------------------------------------------------------------------------------------------------------------------------------------------------------------------------------------------------------------------------------------------------------------------------------------------------------------------------------------------------------------------------------------------------------------------------------------------------------------------------------------------------------------------------------------------------------------------------------------------------------------------------------------------------------------------------------------------------------------------------------------------------------------------------------------------------------------------------------------------------------------------------------------------------------------------------------------------------------------------+\n",
            "|1       |Cowboy Bebop                   |Cowboy Bebop Action Award Winning Sci-Fi Crime is timeless. By the year 2071 humanity has expanded across the galaxy filling the surface of other planets with settlements like those on Earth. These new societies are plagued by murder drug use and theft and intergalactic outlaws are hunted by a growing number of tough bounty hunters.\\n\\nSpike Spiegel and Jet Black pursue criminals throughout space to make a humble living. Beneath his goofy and aloof demeanor Spike is haunted by the weight of his violent past. Meanwhile Jet manages his own troubled memories while taking care of Spike and the Bebop their ship. The duo is joined by the beautiful con artist Faye Valentine odd child Edward Wong Hau Pepelu Tivrusky IV and Ein a bioengineered Welsh Corgi.\\n\\nWhile developing bonds and working to catch a colorful cast of criminals the Bebop crew's lives are disrupted by a menace from Spike's past. As a rival's maniacal plot continues to unravel Spike must choose between life with his newfound family or revenge for his old wounds. TV 26.0 Apr 3 1998 to Apr 24 1999 Finished Airing Original 24 min per ep R - 17+ (violence & profanity)                                                                                                                                                                                                                                                                                                                                          |\n",
            "|5       |Cowboy Bebop: Tengoku no Tobira|Cowboy Bebop: Tengoku no Tobira Action Sci-Fi Another day another bounty—such is the life of the often unlucky crew of the Bebop. However this routine is interrupted when Faye who is chasing a fairly worthless target on Mars witnesses an oil tanker suddenly explode causing mass hysteria. As casualties mount due to a strange disease spreading through the smoke from the blast a whopping three hundred million woolong price is placed on the head of the supposed perpetrator.\\n\\nWith lives at stake and a solution to their money problems in sight the Bebop crew springs into action. Spike Jet Faye and Edward followed closely by Ein split up to pursue different leads across Alba City. Through their individual investigations they discover a cover-up scheme involving a pharmaceutical company revealing a plot that reaches much further than the ragtag team of bounty hunters could have realized. Movie 1.0 Sep 1 2001 Finished Airing Original 1 hr 55 min R - 17+ (violence & profanity)                                                                                                                                                                                                                                                                                                                                                                                                                                                                                                       |\n",
            "|6       |Trigun                         |Trigun Action Adventure Sci-Fi Vash the Stampede is the man with a $$60000000000 bounty on his head. The reason: he's a merciless villain who lays waste to all those that oppose him and flattens entire cities for fun garnering him the title \"The Humanoid Typhoon.\" He leaves a trail of death and destruction wherever he goes and anyone can count themselves dead if they so much as make eye contact—or so the rumors say. In actuality Vash is a huge softie who claims to have never taken a life and avoids violence at all costs.\\n\\nWith his crazy doughnut obsession and buffoonish attitude in tow Vash traverses the wasteland of the planet Gunsmoke all the while followed by two insurance agents Meryl Stryfe and Milly Thompson who attempt to minimize his impact on the public. But soon their misadventures evolve into life-or-death situations as a group of legendary assassins are summoned to bring about suffering to the trio. Vash's agonizing past will be unraveled and his morality and principles pushed to the breaking point. TV 26.0 Apr 1 1998 to Sep 30 1998 Finished Airing Manga 24 min per ep PG-13 - Teens 13 or older                                                                                                                                                                                                                                                                                                                                                          |\n",
            "|7       |Witch Hunter Robin             |Witch Hunter Robin Action Drama Mystery Supernatural Robin Sena is a powerful craft user drafted into the STNJ—a group of specialized hunters that fight deadly beings known as Witches. Though her fire power is great she's got a lot to learn about her powers and working with her cool and aloof partner Amon. But the truth about the Witches and herself will leave Robin on an entirely new path that she never expected!\\n\\n(Source: Funimation) TV 26.0 Jul 3 2002 to Dec 25 2002 Finished Airing Original 25 min per ep PG-13 - Teens 13 or older                                                                                                                                                                                                                                                                                                                                                                                                                                                                                                                                                                                                                                                                                                                                                                                                                                                                                                                                                                  |\n",
            "|8       |Bouken Ou Beet                 |Bouken Ou Beet Adventure Fantasy Supernatural It is the dark century and the people are suffering under the rule of the devil Vandel who is able to manipulate monsters. The Vandel Busters are a group of people who hunt these devils and among them the Zenon Squad is known to be the strongest busters on the continent. A young boy Beet dreams of joining the Zenon Squad. However one day as a result of Beet's fault the Zenon squad was defeated by the devil Beltose. The five dying busters sacrificed their life power into their five weapons Saiga. After giving their weapons to Beet they passed away. Years have passed since then and the young Vandel Buster Beet begins his adventure to carry out the Zenon Squad's will to put an end to the dark century. TV 52.0 Sep 30 2004 to Sep 29 2005 Finished Airing Manga 23 min per ep PG - Children                                                                                                                                                                                                                                                                                                                                                                                                                                                                                                                                                                                                                                                        |\n",
            "|15      |Eyeshield 21                   |Eyeshield 21 Sports Shy reserved and small-statured Deimon High School student Sena Kobayakawa is the perfect target for bullies. However as a result of running errands throughout his life Sena has become agile and developed a skill for avoiding crowds of people. After the cunning Youichi Hiruma—captain of the Deimon Devil Bats football team—witnesses Sena's rapid legs in motion he coerces the timid boy into joining his squad.\\n\\nAs Hiruma wants to conceal Sena's identity from other clubs Sena is forced to hide under the visored helmet of \"Eyeshield 21\" a mysterious running back wearing the number 21 jersey. The legendary Eyeshield 21 can supposedly run at the speed of light and has achieved remarkable feats in the United States during his time at the Notre Dame College.\\n\\nAccustomed to avoiding his problems in the past Sena's specialty might just help him become the new secret weapon of the Deimon Devil Bats. As he interacts with his teammates Sena gradually gains more self-confidence and forges valuable bonds along the way. TV 145.0 Apr 6 2005 to Mar 19 2008 Finished Airing Manga 23 min per ep PG-13 - Teens 13 or older                                                                                                                                                                                                                                                                                                                                           |\n",
            "|16      |Hachimitsu to Clover           |Hachimitsu to Clover Comedy Drama Romance Yuuta Takemoto a sophomore at an arts college shares a cheap apartment with two seniors—the eccentric Shinobu Morita who keeps failing to graduate due to his absenteeism and the sensible Takumi Mayama who acts as a proper senior to Takemoto often looking out for him.\\n\\nTakemoto had not given much thought to his future until one fine spring day when he meets the endearing Hagumi Hanamoto and falls in love at first sight. Incredibly gifted in the arts Hagumi enrolls in Takemoto's university and soon befriends the popular pottery student Ayumi Yamada. Ayumi is already well acquainted with the three flatmates and secretly harbors deep feelings for one of them.\\n\\nHachimitsu to Clover is a heartwarming tale of youth love soul-searching and self-discovery intricately woven through the complex relationships between five dear friends. TV 24.0 Apr 15 2005 to Sep 27 2005 Finished Airing Manga 23 min per ep PG-13 - Teens 13 or older                                                                                                                                                                                                                                                                                                                                                                                                                                                                                                            |\n",
            "|17      |Hungry Heart: Wild Striker     |Hungry Heart: Wild Striker Comedy Slice of Life Sports As the younger brother of Japanese soccer star Seisuke Kanou Kyousuke was always expected to grow as a soccer player at the same pace his brother did—an expectation that proved too difficult to meet. Having fallen behind he now lives in the shadow of his brother's success.\\n\\nEntering his freshman year at Jouyou Akanegaoka High School Kyousuke vows never to play soccer again. However Miki Tsujiwaki the captain of the girls' soccer team and Mori Kazuto the manager of the boys' team recognize Kyousuke's potential and want to see his return to the game for their own reasons.\\n\\nWith an opportunity to play soccer again Kyousuke must either remain steadfast in his decision to abandon the sport he once loved or allow himself to reignite that flame to become the best striker in the world. TV 52.0 Sep 11 2002 to Sep 10 2003 Finished Airing Manga 23 min per ep PG-13 - Teens 13 or older                                                                                                                                                                                                                                                                                                                                                                                                                                                                                                                                              |\n",
            "|18      |Initial D Fourth Stage         |Initial D Fourth Stage Action Drama Takumi Fujiwara finally joins Ryousuke and Keisuke Takahashi to create \"Project D.\" Their goal is twofold: Ryousuke wants to develop his \"High-Speed Street Racing Theory\" while Keisuke and Takumi aim at improving their driving skills by facing powerful opponents on dangerous roads. The idea of Project D is to challenge street racing teams from other prefectures to improve both their uphill and downhill records. In order to attract the attention of the best racing teams Ryousuke creates a dedicated website to announce the future battles of Project D and post the team's results.\\n\\nThe fourth season of Initial D details the hardships and successes of the members of Project D as they try to become the best street racing team outside of Gunma Prefecture. TV 24.0 Apr 17 2004 to Feb 18 2006 Finished Airing Manga 27 min per ep PG-13 - Teens 13 or older                                                                                                                                                                                                                                                                                                                                                                                                                                                                                                                                                                                                 |\n",
            "|19      |Monster                        |Monster Drama Mystery Suspense Dr. Kenzou Tenma an elite neurosurgeon recently engaged to his hospital director's daughter is well on his way to ascending the hospital hierarchy. That is until one night a seemingly small event changes Dr. Tenma's life forever. While preparing to perform surgery on someone he gets a call from the hospital director telling him to switch patients and instead perform life-saving brain surgery on a famous performer. His fellow doctors fiancée and the hospital director applaud his accomplishment; but because of the switch a poor immigrant worker is dead causing Dr. Tenma to have a crisis of conscience.\\n\\nSo when a similar situation arises Dr. Tenma stands his ground and chooses to perform surgery on the young boy Johan Liebert instead of the town's mayor. Unfortunately this choice leads to serious ramifications for Dr. Tenma—losing his social standing being one of them. However with the mysterious death of the director and two other doctors Dr. Tenma's position is restored. With no evidence to convict him he is released and goes on to attain the position of hospital director. \\n\\nNine years later when Dr. Tenma saves the life of a criminal his past comes back to haunt him—once again he comes face to face with the monster he operated on. He must now embark on a quest of pursuit to make amends for the havoc spread by the one he saved. TV 74.0 Apr 7 2004 to Sep 28 2005 Finished Airing Manga 24 min per ep R+ - Mild Nudity|\n",
            "|20      |Naruto                         |Naruto Action Adventure Fantasy Moments prior to Naruto Uzumaki's birth a huge demon known as the Kyuubi the Nine-Tailed Fox attacked Konohagakure the Hidden Leaf Village and wreaked havoc. In order to put an end to the Kyuubi's rampage the leader of the village the Fourth Hokage sacrificed his life and sealed the monstrous beast inside the newborn Naruto.\\n\\nNow Naruto is a hyperactive and knuckle-headed ninja still living in Konohagakure. Shunned because of the Kyuubi inside him Naruto struggles to find his place in the village while his burning desire to become the Hokage of Konohagakure leads him not only to some great new friends but also some deadly foes. TV 220.0 Oct 3 2002 to Feb 8 2007 Finished Airing Manga 23 min per ep PG-13 - Teens 13 or older                                                                                                                                                                                                                                                                                                                                                                                                                                                                                                                                                                                                                                                                                                                                 |\n",
            "|21      |One Piece                      |One Piece Action Adventure Fantasy Gol D. Roger was known as the \"Pirate King\" the strongest and most infamous being to have sailed the Grand Line. The capture and execution of Roger by the World Government brought a change throughout the world. His last words before his death revealed the existence of the greatest treasure in the world One Piece. It was this revelation that brought about the Grand Age of Pirates men who dreamed of finding One Piece—which promises an unlimited amount of riches and fame—and quite possibly the pinnacle of glory and the title of the Pirate King.\\n\\nEnter Monkey D. Luffy a 17-year-old boy who defies your standard definition of a pirate. Rather than the popular persona of a wicked hardened toothless pirate ransacking villages for fun Luffy's reason for being a pirate is one of pure wonder: the thought of an exciting adventure that leads him to intriguing people and ultimately the promised treasure. Following in the footsteps of his childhood hero Luffy and his crew travel across the Grand Line experiencing crazy adventures unveiling dark mysteries and battling strong enemies all in order to reach the most coveted of all fortunes—One Piece. TV 14.91351774100601 Oct 20 1999 to ? Currently Airing Manga 24 min PG-13 - Teens 13 or older                                                                                                                                                                                              |\n",
            "|22      |Tennis no Ouji-sama            |Tennis no Ouji-sama Sports At the request of his father tennis prodigy Ryouma Echizen has returned from America and is ready to take the Japanese tennis scene by storm. Aiming to become the best tennis player in the country he enrolls in Seishun Academy—home to one of the best middle school tennis teams in Japan. \\n\\nAfter Ryouma catches the captain's eye he finds himself playing for a spot on the starting lineup in the intra-school ranking matches despite only being a freshman. Due to his age the rest of the Seishun Boys' Tennis Team are initially reluctant to accept him but his skill and determination convinces them to let him in.\\n\\nArmed with their new \"super rookie\" Seishun sets out to claim a spot in the National Tournament hoping to take the coveted title for themselves. In order to do so the team must qualify by playing through the Tokyo Prefectural and Kanto Regionals. Yet the road ahead of them is shared by a plethora of strong schools each playing tennis in unique ways for their own reasons. Ryouma and his teammates must learn to cooperate if they want to become the champions they aspire to be. TV 178.0 Oct 10 2001 to Mar 23 2005 Finished Airing Manga 22 min per ep PG-13 - Teens 13 or older                                                                                                                                                                                                                                                          |\n",
            "|23      |Ring ni Kakero 1               |Ring ni Kakero 1 Action Sports In order to fulfill their dead father's wish the siblings Takane Kiku and Takane Ryuji aim for the champion title of the boxing arena. Their sister Kiku will act as the trainer while her brother Ryuji will concentrate on the role of the boxer and learn the Boomerang. His battle with many rivals has led to the growth and maturing of Ryuji. The junior high boxing tournament has begun and Ryuji will be fighting his arch-rival Kenzaki Jun. The battle begins.\\n\\n(Source: ANN) TV 12.0 Oct 6 2004 to Dec 15 2004 Finished Airing Manga 25 min per ep PG - Children                                                                                                                                                                                                                                                                                                                                                                                                                                                                                                                                                                                                                                                                                                                                                                                                                                                                                                                |\n",
            "|24      |School Rumble                  |School Rumble Comedy Romance Just the words \"I love you\" and everything changes—such is the nature of the bittersweet trials of high school romance. Tenma Tsukamoto a second year is on a quest to confess her feelings to the boy she likes. Kenji Harima a delinquent with a sizable reputation is in a similar situation as he cannot properly convey his feelings to the one he loves. Between school friends rivalries and hobbies these two will find that high school romance is no walk in the park especially as misunderstandings further complicate their plight.\\n\\nSchool Rumble is a high-octane romantic comedy full of relatable situations as Tenma and Kenji both try to win the hearts of those they desire. TV 26.0 Oct 5 2004 to Mar 29 2005 Finished Airing Manga 23 min per ep PG-13 - Teens 13 or older                                                                                                                                                                                                                                                                                                                                                                                                                                                                                                                                                                                                                                                                                              |\n",
            "|25      |Sunabouzu                      |Sunabouzu Action Adventure Comedy Sci-Fi Ecchi The Great Kanto Desert a sweltering wasteland of nothing but ruins and sand is all that remains of post-apocalyptic Japan. The once fair population has been left to cling to the inhospitable dunes for survival. At least that is the case for normal people. For those who have spent a little too long in the Kanto sun the desert offers a wondrous opportunity to make a name for themselves.\\n\\nOne such person is the masked handyman \"Sunabouzu\" or Desert Punk who has forged a legendary reputation for always finishing his jobs no matter the nature or cost. Cunning and ruthless he has become a force of crude destruction to the other desert people. However the \"Vixen of the Desert\" Junko Asagiri discovers that Sunabouzu is not without his weaknesses—he is easily swayed by his insatiable lust for large-breasted desert babes. \\n\\nFollowing their chaotic adventures through the Kanto Desert Sunabouzu features a bizarre cast of personalities who entertain themselves with senseless violence and perversion in a world long destroyed by their forefathers. And just like them they have not learned a damn thing. TV 24.0 Oct 6 2004 to Mar 30 2005 Finished Airing Manga 24 min per ep R - 17+ (violence & profanity)                                                                                                                                                                                                                       |\n",
            "|26      |Texhnolyze                     |Texhnolyze Action Drama Sci-Fi In the dark underground city of Lux people live in fear and despair under the rule of various criminal factions. Almost secluded from the surface the gangs' only interaction with the outer world is their mining operation of \"raffia\" which is the raison d'être of the city.\\n\\nAvailable only in Lux this rare substance is the basis of \"texhnolyze\" transplants that permit humans to replace parts of their body with cybernetic prostheses. The latter have the particularity not to trigger an immune response in their hosts and the \"Class\" has the privilege to conduct research on them. This elusive organization also in charge of the raffia production delegates its executive authority to a group called Organo led by Keigo Oonishi—a self-righteous man with texhnolyzed legs who is rumored to hear the \"voice of the city.\"\\n\\nThe fragile balance of powers in Lux is disturbed when a mysterious visitor named Kazuho Yoshii begins committing a series of crimes that puts the gangs at each other's throats. In the midst of the chaos new actors emerge: Ichise an ex-boxer mutilated by Organo and recently texhnolyzed by Eriko \"Doc\" Kamata; and Ran a young florist who can see the future. While Lux steadily plunges into insanity both Ichise and Ran find themselves involved in the greatest crisis the city has ever faced. TV 22.0 Apr 17 2003 to Sep 25 2003 Finished Airing Original 23 min per ep R+ - Mild Nudity                                  |\n",
            "|27      |Trinity Blood                  |Trinity Blood Action Supernatural Following Armageddon an apocalyptic war mankind faces yet another menace: vampires. The continuous confrontations between the races have split the world into separate factions. The race of vampires Methuselah are affiliated with the New Human Empire; whereas the humans deemed Terrans by the vampires make up the Vatican Papal State. Furthermore extremist groups like the Rosenkreuz Order strive to rekindle a war despite the factions' attempts to avoid direct conflict.\\n\\nTo combat terrorist organizations the Vatican has implemented the AX unit. Led by Cardinal Caterina Sforza the AX agents investigate vampire-related disturbances with hopes that the Terrans and the Methuselah will one day achieve peaceful coexistence. Amongst the AX unit is priest Abel Nightroad—a seemingly disoriented but gentle-hearted fellow who is a fierce vampire slayer on the battlefield. Joining the unit as his partner is agent Sister Esther Blanchett a brave and gentle young nun troubled with a tragic past. \\n\\nAs the two grow closer they begin to uncover signs of malicious schemes and dark forces working in the shadows. But the path they walk is riddled with misfortune that might just force them to confront the memories that plague their hearts. TV 24.0 Apr 29 2005 to Oct 28 2005 Finished Airing Light novel 24 min per ep R - 17+ (violence & profanity)                                                                                          |\n",
            "|28      |Yakitate!! Japan               |Yakitate!! Japan Comedy Gourmet While countries such as France England and Germany all have their own internationally celebrated bread Japan simply does not have one that can match in reputation.\\n\\nThus after discovering the wonders of breadmaking at a young age Kazuma Azuma embarks on a quest to create Japan's own unique national bread. And being blessed with unusually warm hands that allow dough to ferment faster Azuma is able to bring his baking innovations to another level.\\n\\nAs he begins working at the prestigious Japanese bakery chain Pantasia Azuma encounters other talented bakers and experiences firsthand the competitive world of baking. Along with his newfound friends and rivals Azuma strives to create new and unparalleled bread that will start a baking revolution. TV 69.0 Oct 12 2004 to Mar 14 2006 Finished Airing Manga 24 min per ep PG-13 - Teens 13 or older                                                                                                                                                                                                                                                                                                                                                                                                                                                                                                                                                                                                           |\n",
            "|29      |Zipang                         |Zipang Action Drama Sci-Fi Mirai an improved Kongou-class Aegis guided missile destroyer is one of the newest and most advanced ships in the entire Japanese Self Defense Force (SDF). Her crew also one of the newest is lead by Capt. Umezu Saburo and Executive Officer Kadomatsu Yosuke. While running scheduled training exercises one day Mirai encounters a fierce storm that throws their navigation systems into temporary disarray. After a few minutes of recovery the crew is shocked to discover that they've been transported back in time to June 4 1942—The Battle of Midway during World War II. Letting history take its course for this battle they manage to avoid the conflict firsthand and make a vow to remain anonymous changing history as little as possible. However when the crew comes across the dying Lt. Commander Kusaka Takumi XO. Kadomatsu's instincts to save lives takes over changing the course of history more than he could've imagined.\\n\\n(Source: ANN) TV 26.0 Oct 8 2004 to Apr 1 2005 Finished Airing Manga 24 min per ep PG-13 - Teens 13 or older                                                                                                                                                                                                                                                                                                                                                                                                                           |\n",
            "+--------+-------------------------------+------------------------------------------------------------------------------------------------------------------------------------------------------------------------------------------------------------------------------------------------------------------------------------------------------------------------------------------------------------------------------------------------------------------------------------------------------------------------------------------------------------------------------------------------------------------------------------------------------------------------------------------------------------------------------------------------------------------------------------------------------------------------------------------------------------------------------------------------------------------------------------------------------------------------------------------------------------------------------------------------------------------------------------------------------------------------------------------------------------------------------------------------------------------------------------------------------------------------------------------------------------------------------------------------------------------------------------------------------------------------------------------------------------------------------------------------------------------------------------------------------------------------------+\n",
            "only showing top 20 rows\n",
            "\n"
          ]
        }
      ]
    },
    {
      "cell_type": "markdown",
      "source": [
        "# Embeddings"
      ],
      "metadata": {
        "id": "CZxibDiJ9gt7"
      }
    },
    {
      "cell_type": "code",
      "source": [
        "from sparknlp.base import DocumentAssembler\n",
        "from sparknlp.annotator import Tokenizer, DistilBertEmbeddings\n",
        "from pyspark.ml import Pipeline\n",
        "\n",
        "# Crear el ensamblador de documentos\n",
        "documentAssembler = DocumentAssembler() \\\n",
        "    .setInputCol(\"Synopsis\") \\\n",
        "    .setOutputCol(\"document\")\n",
        "\n",
        "# Crear el tokenizador\n",
        "tokenizer = Tokenizer() \\\n",
        "    .setInputCols([\"document\"]) \\\n",
        "    .setOutputCol(\"token\")\n",
        "\n",
        "# Usar DistilBertEmbeddings\n",
        "embeddings = DistilBertEmbeddings.pretrained(\"distilbert_base_uncased\", \"en\") \\\n",
        "    .setInputCols([\"document\", \"token\"]) \\\n",
        "    .setOutputCol(\"distilbert_embeddings\") \\\n",
        "    .setCaseSensitive(True) \\\n",
        "    .setMaxSentenceLength(512)\n",
        "\n",
        "# Definir la pipeline\n",
        "pipeline = Pipeline(stages=[documentAssembler, tokenizer, embeddings])"
      ],
      "metadata": {
        "colab": {
          "base_uri": "https://localhost:8080/"
        },
        "id": "OR051tFfAuPu",
        "outputId": "664a7b5c-172c-44b6-9b19-83db6cd2d62b"
      },
      "execution_count": null,
      "outputs": [
        {
          "output_type": "stream",
          "name": "stdout",
          "text": [
            "distilbert_base_uncased download started this may take some time.\n",
            "Approximate size to download 235.8 MB\n",
            "[OK!]\n"
          ]
        }
      ]
    },
    {
      "cell_type": "code",
      "source": [
        "model = pipeline.fit(df_anime)\n",
        "result = model.transform(df_anime)"
      ],
      "metadata": {
        "id": "C9DXOOSH3XqW"
      },
      "execution_count": null,
      "outputs": []
    },
    {
      "cell_type": "code",
      "source": [
        "from pyspark.sql import functions as F\n",
        "\n",
        "# Extraer el primer embedding de cada fila\n",
        "df_with_embeddings = result.withColumn(\n",
        "    \"anime_embedding\",\n",
        "    F.col(\"distilbert_embeddings.embeddings\")[0]  # Usa solo el primer embedding\n",
        ")\n",
        "\n",
        "# Eliminar columnas innecesarias\n",
        "df_with_embeddings = df_with_embeddings.drop(\"document\", \"distilbert_embeddings\", \"concatenated_text\")\n"
      ],
      "metadata": {
        "id": "d-AMQIb63l0g"
      },
      "execution_count": null,
      "outputs": []
    },
    {
      "cell_type": "code",
      "source": [
        "df_with_embeddings.show()"
      ],
      "metadata": {
        "colab": {
          "base_uri": "https://localhost:8080/"
        },
        "id": "cT8f9wAE69GX",
        "outputId": "7d525897-737d-4e63-c966-7d39fcb782f8"
      },
      "execution_count": null,
      "outputs": [
        {
          "output_type": "stream",
          "name": "stdout",
          "text": [
            "+--------+--------------------+--------------------+\n",
            "|anime_id|                Name|     anime_embedding|\n",
            "+--------+--------------------+--------------------+\n",
            "|       1|        Cowboy Bebop|[-0.38382754, -0....|\n",
            "|       5|Cowboy Bebop: Ten...|[-0.5310759, 0.29...|\n",
            "|       6|              Trigun|[-0.51092297, 0.1...|\n",
            "|       7|  Witch Hunter Robin|[-0.4380115, 0.19...|\n",
            "|       8|      Bouken Ou Beet|[-0.5964433, -0.0...|\n",
            "|      15|        Eyeshield 21|[-0.5027993, 0.43...|\n",
            "|      16|Hachimitsu to Clover|[-0.622882, -0.07...|\n",
            "|      17|Hungry Heart: Wil...|[-0.6489423, 0.24...|\n",
            "|      18|Initial D Fourth ...|[-0.58195895, 0.5...|\n",
            "|      19|             Monster|[-0.47485933, 0.4...|\n",
            "|      20|              Naruto|[-0.7312896, -0.2...|\n",
            "|      21|           One Piece|[-0.61763495, -0....|\n",
            "|      22| Tennis no Ouji-sama|[-0.6668438, 0.32...|\n",
            "|      23|    Ring ni Kakero 1|[-0.7685425, -0.0...|\n",
            "|      24|       School Rumble|[-0.44775146, -0....|\n",
            "|      25|           Sunabouzu|[-0.49340913, -0....|\n",
            "|      26|          Texhnolyze|[-0.5978348, 0.13...|\n",
            "|      27|       Trinity Blood|[-0.2352412, -0.5...|\n",
            "|      28|    Yakitate!! Japan|[-0.97520876, -0....|\n",
            "|      29|              Zipang|[-0.6285243, 0.23...|\n",
            "+--------+--------------------+--------------------+\n",
            "only showing top 20 rows\n",
            "\n"
          ]
        }
      ]
    },
    {
      "cell_type": "code",
      "source": [
        "df_with_embeddings.printSchema()"
      ],
      "metadata": {
        "colab": {
          "base_uri": "https://localhost:8080/"
        },
        "id": "0ymL7V7uZ4TM",
        "outputId": "ce2a0390-5d3e-4585-f94c-9f4a6538d880"
      },
      "execution_count": null,
      "outputs": [
        {
          "output_type": "stream",
          "name": "stdout",
          "text": [
            "root\n",
            " |-- anime_id: long (nullable = true)\n",
            " |-- Name: string (nullable = true)\n",
            " |-- English name: string (nullable = true)\n",
            " |-- Other name: string (nullable = true)\n",
            " |-- Score: string (nullable = true)\n",
            " |-- Genres: string (nullable = true)\n",
            " |-- Synopsis: string (nullable = true)\n",
            " |-- Type: string (nullable = true)\n",
            " |-- Episodes: string (nullable = true)\n",
            " |-- Aired: string (nullable = true)\n",
            " |-- Premiered: string (nullable = true)\n",
            " |-- Status: string (nullable = true)\n",
            " |-- Producers: string (nullable = true)\n",
            " |-- Licensors: string (nullable = true)\n",
            " |-- Studios: string (nullable = true)\n",
            " |-- Source: string (nullable = true)\n",
            " |-- Duration: string (nullable = true)\n",
            " |-- Rating: string (nullable = true)\n",
            " |-- Rank: string (nullable = true)\n",
            " |-- Popularity: long (nullable = true)\n",
            " |-- Favorites: long (nullable = true)\n",
            " |-- Scored By: string (nullable = true)\n",
            " |-- Members: long (nullable = true)\n",
            " |-- Image URL: string (nullable = true)\n",
            " |-- token: array (nullable = true)\n",
            " |    |-- element: struct (containsNull = true)\n",
            " |    |    |-- annotatorType: string (nullable = true)\n",
            " |    |    |-- begin: integer (nullable = false)\n",
            " |    |    |-- end: integer (nullable = false)\n",
            " |    |    |-- result: string (nullable = true)\n",
            " |    |    |-- metadata: map (nullable = true)\n",
            " |    |    |    |-- key: string\n",
            " |    |    |    |-- value: string (valueContainsNull = true)\n",
            " |    |    |-- embeddings: array (nullable = true)\n",
            " |    |    |    |-- element: float (containsNull = false)\n",
            " |-- anime_embedding: array (nullable = true)\n",
            " |    |-- element: float (containsNull = false)\n",
            "\n"
          ]
        }
      ]
    },
    {
      "cell_type": "code",
      "source": [
        "df_with_embeddings = df_with_embeddings.select(\"anime_id\", \"Name\", \"anime_embedding\")\n",
        "df_with_embeddings.show()"
      ],
      "metadata": {
        "colab": {
          "base_uri": "https://localhost:8080/"
        },
        "id": "TnaUGe3Q8bLj",
        "outputId": "b0ad0a4c-6261-4301-fd6d-9200177a5c33"
      },
      "execution_count": null,
      "outputs": [
        {
          "output_type": "stream",
          "name": "stdout",
          "text": [
            "+--------+--------------------+--------------------+\n",
            "|anime_id|                Name|     anime_embedding|\n",
            "+--------+--------------------+--------------------+\n",
            "|       1|        Cowboy Bebop|[-1.0371023, 0.23...|\n",
            "|       5|Cowboy Bebop: Ten...|[-0.75202537, 0.0...|\n",
            "|       6|              Trigun|[-1.1225483, 0.22...|\n",
            "|       7|  Witch Hunter Robin|[-0.93941563, -0....|\n",
            "|       8|      Bouken Ou Beet|[-0.9127989, 0.05...|\n",
            "|      15|        Eyeshield 21|[-0.6559154, 0.23...|\n",
            "|      16|Hachimitsu to Clover|[-1.1258018, -0.1...|\n",
            "|      17|Hungry Heart: Wil...|[-0.9605565, 0.39...|\n",
            "|      18|Initial D Fourth ...|[-0.91625136, 0.0...|\n",
            "|      19|             Monster|[-0.6514933, -0.0...|\n",
            "|      20|              Naruto|[-0.8714514, 0.08...|\n",
            "|      21|           One Piece|[-0.85837144, 0.2...|\n",
            "|      22| Tennis no Ouji-sama|[-0.88153434, 0.4...|\n",
            "|      23|    Ring ni Kakero 1|[-0.6822726, 0.24...|\n",
            "|      24|       School Rumble|[-0.78813845, 0.4...|\n",
            "|      25|           Sunabouzu|[-0.8186758, 0.14...|\n",
            "|      26|          Texhnolyze|[-0.89794344, 0.6...|\n",
            "|      27|       Trinity Blood|[-0.8752595, 0.21...|\n",
            "|      28|    Yakitate!! Japan|[-0.95728785, 0.3...|\n",
            "|      29|              Zipang|[-0.99157846, -0....|\n",
            "+--------+--------------------+--------------------+\n",
            "only showing top 20 rows\n",
            "\n"
          ]
        }
      ]
    },
    {
      "cell_type": "code",
      "source": [
        "from pyspark.sql.functions import col\n",
        "import json\n",
        "\n",
        "# Convertir la columna de ARRAY a String (JSON o CSV)\n",
        "df_with_embeddings = df_with_embeddings.withColumn(\"anime_embedding_str\", col(\"anime_embedding\").cast(\"string\"))\n",
        "df_with_embeddings = df_with_embeddings.drop(\"anime_embedding\")\n"
      ],
      "metadata": {
        "id": "fVjm5FcVZhPN"
      },
      "execution_count": null,
      "outputs": []
    },
    {
      "cell_type": "code",
      "source": [
        "# prompt: guardar df with embedings en parquet\n",
        "\n",
        "df_with_embeddings.write.parquet(\"anime_embeddings.parquet\")"
      ],
      "metadata": {
        "colab": {
          "base_uri": "https://localhost:8080/",
          "height": 477
        },
        "id": "qlbhDRaGD5ed",
        "outputId": "114ecab3-c8ce-4011-fe00-ad2b7e359a5f"
      },
      "execution_count": null,
      "outputs": [
        {
          "output_type": "stream",
          "name": "stderr",
          "text": [
            "ERROR:root:KeyboardInterrupt while sending command.\n",
            "Traceback (most recent call last):\n",
            "  File \"/usr/local/lib/python3.10/dist-packages/py4j/java_gateway.py\", line 1038, in send_command\n",
            "    response = connection.send_command(command)\n",
            "  File \"/usr/local/lib/python3.10/dist-packages/py4j/clientserver.py\", line 511, in send_command\n",
            "    answer = smart_decode(self.stream.readline()[:-1])\n",
            "  File \"/usr/lib/python3.10/socket.py\", line 705, in readinto\n",
            "    return self._sock.recv_into(b)\n",
            "KeyboardInterrupt\n"
          ]
        },
        {
          "output_type": "error",
          "ename": "KeyboardInterrupt",
          "evalue": "",
          "traceback": [
            "\u001b[0;31m---------------------------------------------------------------------------\u001b[0m",
            "\u001b[0;31mKeyboardInterrupt\u001b[0m                         Traceback (most recent call last)",
            "\u001b[0;32m<ipython-input-17-38f2eae85336>\u001b[0m in \u001b[0;36m<cell line: 3>\u001b[0;34m()\u001b[0m\n\u001b[1;32m      1\u001b[0m \u001b[0;31m# prompt: guardar df with embedings en parquet\u001b[0m\u001b[0;34m\u001b[0m\u001b[0;34m\u001b[0m\u001b[0m\n\u001b[1;32m      2\u001b[0m \u001b[0;34m\u001b[0m\u001b[0m\n\u001b[0;32m----> 3\u001b[0;31m \u001b[0mdf_with_embeddings\u001b[0m\u001b[0;34m.\u001b[0m\u001b[0mwrite\u001b[0m\u001b[0;34m.\u001b[0m\u001b[0mparquet\u001b[0m\u001b[0;34m(\u001b[0m\u001b[0;34m\"anime_embeddings.parquet\"\u001b[0m\u001b[0;34m)\u001b[0m\u001b[0;34m\u001b[0m\u001b[0;34m\u001b[0m\u001b[0m\n\u001b[0m",
            "\u001b[0;32m/usr/local/lib/python3.10/dist-packages/pyspark/sql/readwriter.py\u001b[0m in \u001b[0;36mparquet\u001b[0;34m(self, path, mode, partitionBy, compression)\u001b[0m\n\u001b[1;32m   1719\u001b[0m             \u001b[0mself\u001b[0m\u001b[0;34m.\u001b[0m\u001b[0mpartitionBy\u001b[0m\u001b[0;34m(\u001b[0m\u001b[0mpartitionBy\u001b[0m\u001b[0;34m)\u001b[0m\u001b[0;34m\u001b[0m\u001b[0;34m\u001b[0m\u001b[0m\n\u001b[1;32m   1720\u001b[0m         \u001b[0mself\u001b[0m\u001b[0;34m.\u001b[0m\u001b[0m_set_opts\u001b[0m\u001b[0;34m(\u001b[0m\u001b[0mcompression\u001b[0m\u001b[0;34m=\u001b[0m\u001b[0mcompression\u001b[0m\u001b[0;34m)\u001b[0m\u001b[0;34m\u001b[0m\u001b[0;34m\u001b[0m\u001b[0m\n\u001b[0;32m-> 1721\u001b[0;31m         \u001b[0mself\u001b[0m\u001b[0;34m.\u001b[0m\u001b[0m_jwrite\u001b[0m\u001b[0;34m.\u001b[0m\u001b[0mparquet\u001b[0m\u001b[0;34m(\u001b[0m\u001b[0mpath\u001b[0m\u001b[0;34m)\u001b[0m\u001b[0;34m\u001b[0m\u001b[0;34m\u001b[0m\u001b[0m\n\u001b[0m\u001b[1;32m   1722\u001b[0m \u001b[0;34m\u001b[0m\u001b[0m\n\u001b[1;32m   1723\u001b[0m     def text(\n",
            "\u001b[0;32m/usr/local/lib/python3.10/dist-packages/py4j/java_gateway.py\u001b[0m in \u001b[0;36m__call__\u001b[0;34m(self, *args)\u001b[0m\n\u001b[1;32m   1319\u001b[0m             \u001b[0mproto\u001b[0m\u001b[0;34m.\u001b[0m\u001b[0mEND_COMMAND_PART\u001b[0m\u001b[0;34m\u001b[0m\u001b[0;34m\u001b[0m\u001b[0m\n\u001b[1;32m   1320\u001b[0m \u001b[0;34m\u001b[0m\u001b[0m\n\u001b[0;32m-> 1321\u001b[0;31m         \u001b[0manswer\u001b[0m \u001b[0;34m=\u001b[0m \u001b[0mself\u001b[0m\u001b[0;34m.\u001b[0m\u001b[0mgateway_client\u001b[0m\u001b[0;34m.\u001b[0m\u001b[0msend_command\u001b[0m\u001b[0;34m(\u001b[0m\u001b[0mcommand\u001b[0m\u001b[0;34m)\u001b[0m\u001b[0;34m\u001b[0m\u001b[0;34m\u001b[0m\u001b[0m\n\u001b[0m\u001b[1;32m   1322\u001b[0m         return_value = get_return_value(\n\u001b[1;32m   1323\u001b[0m             answer, self.gateway_client, self.target_id, self.name)\n",
            "\u001b[0;32m/usr/local/lib/python3.10/dist-packages/py4j/java_gateway.py\u001b[0m in \u001b[0;36msend_command\u001b[0;34m(self, command, retry, binary)\u001b[0m\n\u001b[1;32m   1036\u001b[0m         \u001b[0mconnection\u001b[0m \u001b[0;34m=\u001b[0m \u001b[0mself\u001b[0m\u001b[0;34m.\u001b[0m\u001b[0m_get_connection\u001b[0m\u001b[0;34m(\u001b[0m\u001b[0;34m)\u001b[0m\u001b[0;34m\u001b[0m\u001b[0;34m\u001b[0m\u001b[0m\n\u001b[1;32m   1037\u001b[0m         \u001b[0;32mtry\u001b[0m\u001b[0;34m:\u001b[0m\u001b[0;34m\u001b[0m\u001b[0;34m\u001b[0m\u001b[0m\n\u001b[0;32m-> 1038\u001b[0;31m             \u001b[0mresponse\u001b[0m \u001b[0;34m=\u001b[0m \u001b[0mconnection\u001b[0m\u001b[0;34m.\u001b[0m\u001b[0msend_command\u001b[0m\u001b[0;34m(\u001b[0m\u001b[0mcommand\u001b[0m\u001b[0;34m)\u001b[0m\u001b[0;34m\u001b[0m\u001b[0;34m\u001b[0m\u001b[0m\n\u001b[0m\u001b[1;32m   1039\u001b[0m             \u001b[0;32mif\u001b[0m \u001b[0mbinary\u001b[0m\u001b[0;34m:\u001b[0m\u001b[0;34m\u001b[0m\u001b[0;34m\u001b[0m\u001b[0m\n\u001b[1;32m   1040\u001b[0m                 \u001b[0;32mreturn\u001b[0m \u001b[0mresponse\u001b[0m\u001b[0;34m,\u001b[0m \u001b[0mself\u001b[0m\u001b[0;34m.\u001b[0m\u001b[0m_create_connection_guard\u001b[0m\u001b[0;34m(\u001b[0m\u001b[0mconnection\u001b[0m\u001b[0;34m)\u001b[0m\u001b[0;34m\u001b[0m\u001b[0;34m\u001b[0m\u001b[0m\n",
            "\u001b[0;32m/usr/local/lib/python3.10/dist-packages/py4j/clientserver.py\u001b[0m in \u001b[0;36msend_command\u001b[0;34m(self, command)\u001b[0m\n\u001b[1;32m    509\u001b[0m         \u001b[0;32mtry\u001b[0m\u001b[0;34m:\u001b[0m\u001b[0;34m\u001b[0m\u001b[0;34m\u001b[0m\u001b[0m\n\u001b[1;32m    510\u001b[0m             \u001b[0;32mwhile\u001b[0m \u001b[0;32mTrue\u001b[0m\u001b[0;34m:\u001b[0m\u001b[0;34m\u001b[0m\u001b[0;34m\u001b[0m\u001b[0m\n\u001b[0;32m--> 511\u001b[0;31m                 \u001b[0manswer\u001b[0m \u001b[0;34m=\u001b[0m \u001b[0msmart_decode\u001b[0m\u001b[0;34m(\u001b[0m\u001b[0mself\u001b[0m\u001b[0;34m.\u001b[0m\u001b[0mstream\u001b[0m\u001b[0;34m.\u001b[0m\u001b[0mreadline\u001b[0m\u001b[0;34m(\u001b[0m\u001b[0;34m)\u001b[0m\u001b[0;34m[\u001b[0m\u001b[0;34m:\u001b[0m\u001b[0;34m-\u001b[0m\u001b[0;36m1\u001b[0m\u001b[0;34m]\u001b[0m\u001b[0;34m)\u001b[0m\u001b[0;34m\u001b[0m\u001b[0;34m\u001b[0m\u001b[0m\n\u001b[0m\u001b[1;32m    512\u001b[0m                 \u001b[0mlogger\u001b[0m\u001b[0;34m.\u001b[0m\u001b[0mdebug\u001b[0m\u001b[0;34m(\u001b[0m\u001b[0;34m\"Answer received: {0}\"\u001b[0m\u001b[0;34m.\u001b[0m\u001b[0mformat\u001b[0m\u001b[0;34m(\u001b[0m\u001b[0manswer\u001b[0m\u001b[0;34m)\u001b[0m\u001b[0;34m)\u001b[0m\u001b[0;34m\u001b[0m\u001b[0;34m\u001b[0m\u001b[0m\n\u001b[1;32m    513\u001b[0m                 \u001b[0;31m# Happens when a the other end is dead. There might be an empty\u001b[0m\u001b[0;34m\u001b[0m\u001b[0;34m\u001b[0m\u001b[0m\n",
            "\u001b[0;32m/usr/lib/python3.10/socket.py\u001b[0m in \u001b[0;36mreadinto\u001b[0;34m(self, b)\u001b[0m\n\u001b[1;32m    703\u001b[0m         \u001b[0;32mwhile\u001b[0m \u001b[0;32mTrue\u001b[0m\u001b[0;34m:\u001b[0m\u001b[0;34m\u001b[0m\u001b[0;34m\u001b[0m\u001b[0m\n\u001b[1;32m    704\u001b[0m             \u001b[0;32mtry\u001b[0m\u001b[0;34m:\u001b[0m\u001b[0;34m\u001b[0m\u001b[0;34m\u001b[0m\u001b[0m\n\u001b[0;32m--> 705\u001b[0;31m                 \u001b[0;32mreturn\u001b[0m \u001b[0mself\u001b[0m\u001b[0;34m.\u001b[0m\u001b[0m_sock\u001b[0m\u001b[0;34m.\u001b[0m\u001b[0mrecv_into\u001b[0m\u001b[0;34m(\u001b[0m\u001b[0mb\u001b[0m\u001b[0;34m)\u001b[0m\u001b[0;34m\u001b[0m\u001b[0;34m\u001b[0m\u001b[0m\n\u001b[0m\u001b[1;32m    706\u001b[0m             \u001b[0;32mexcept\u001b[0m \u001b[0mtimeout\u001b[0m\u001b[0;34m:\u001b[0m\u001b[0;34m\u001b[0m\u001b[0;34m\u001b[0m\u001b[0m\n\u001b[1;32m    707\u001b[0m                 \u001b[0mself\u001b[0m\u001b[0;34m.\u001b[0m\u001b[0m_timeout_occurred\u001b[0m \u001b[0;34m=\u001b[0m \u001b[0;32mTrue\u001b[0m\u001b[0;34m\u001b[0m\u001b[0;34m\u001b[0m\u001b[0m\n",
            "\u001b[0;31mKeyboardInterrupt\u001b[0m: "
          ]
        }
      ]
    },
    {
      "cell_type": "code",
      "source": [],
      "metadata": {
        "id": "u9xj4JIqD-Qh"
      },
      "execution_count": null,
      "outputs": []
    }
  ]
}