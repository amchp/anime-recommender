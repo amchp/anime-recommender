{
 "cells": [
  {
   "cell_type": "code",
   "execution_count": 1,
   "metadata": {},
   "outputs": [
    {
     "data": {
      "text/html": [
       "Current session configs: <tt>{'conf': {'spark.pyspark.python': 'python3', 'spark.pyspark.virtualenv.enabled': 'true', 'spark.pyspark.virtualenv.type': 'native', 'spark.pyspark.virtualenv.bin.path': '/usr/bin/virtualenv'}, 'proxyUser': 'jovyan', 'kind': 'pyspark'}</tt><br>"
      ],
      "text/plain": [
       "<IPython.core.display.HTML object>"
      ]
     },
     "metadata": {},
     "output_type": "display_data"
    },
    {
     "data": {
      "text/html": [
       "No active sessions."
      ],
      "text/plain": [
       "<IPython.core.display.HTML object>"
      ]
     },
     "metadata": {},
     "output_type": "display_data"
    }
   ],
   "source": [
    "%%configure -f\n",
    "{ \"conf\":{\n",
    "          \"spark.pyspark.python\": \"python3\",\n",
    "          \"spark.pyspark.virtualenv.enabled\": \"true\",\n",
    "          \"spark.pyspark.virtualenv.type\":\"native\",\n",
    "          \"spark.pyspark.virtualenv.bin.path\":\"/usr/bin/virtualenv\"\n",
    "         }\n",
    "}"
   ]
  },
  {
   "cell_type": "code",
   "execution_count": 2,
   "metadata": {},
   "outputs": [
    {
     "name": "stdout",
     "output_type": "stream",
     "text": [
      "Starting Spark application\n"
     ]
    },
    {
     "data": {
      "text/html": [
       "<table>\n",
       "<tr><th>ID</th><th>YARN Application ID</th><th>Kind</th><th>State</th><th>Spark UI</th><th>Driver log</th><th>User</th><th>Current session?</th></tr><tr><td>0</td><td>application_1732412967921_0001</td><td>pyspark</td><td>idle</td><td><a target=\"_blank\" href=\"http://ip-172-31-77-35.ec2.internal:20888/proxy/application_1732412967921_0001/\">Link</a></td><td><a target=\"_blank\" href=\"http://ip-172-31-78-174.ec2.internal:8042/node/containerlogs/container_1732412967921_0001_01_000001/livy\">Link</a></td><td>None</td><td>✔</td></tr></table>"
      ],
      "text/plain": [
       "<IPython.core.display.HTML object>"
      ]
     },
     "metadata": {},
     "output_type": "display_data"
    },
    {
     "data": {
      "application/vnd.jupyter.widget-view+json": {
       "model_id": "",
       "version_major": 2,
       "version_minor": 0
      },
      "text/plain": [
       "FloatProgress(value=0.0, bar_style='info', description='Progress:', layout=Layout(height='25px', width='50%'),…"
      ]
     },
     "metadata": {},
     "output_type": "display_data"
    },
    {
     "name": "stdout",
     "output_type": "stream",
     "text": [
      "SparkSession available as 'spark'.\n"
     ]
    },
    {
     "data": {
      "application/vnd.jupyter.widget-view+json": {
       "model_id": "",
       "version_major": 2,
       "version_minor": 0
      },
      "text/plain": [
       "FloatProgress(value=0.0, bar_style='info', description='Progress:', layout=Layout(height='25px', width='50%'),…"
      ]
     },
     "metadata": {},
     "output_type": "display_data"
    },
    {
     "name": "stdout",
     "output_type": "stream",
     "text": [
      "Collecting pandas\n",
      "  Downloading pandas-2.2.3-cp39-cp39-manylinux_2_17_x86_64.manylinux2014_x86_64.whl (13.1 MB)\n",
      "Collecting numpy>=1.22.4\n",
      "  Downloading numpy-2.0.2-cp39-cp39-manylinux_2_17_x86_64.manylinux2014_x86_64.whl (19.5 MB)\n",
      "Requirement already satisfied: pytz>=2020.1 in /usr/local/lib/python3.9/site-packages (from pandas) (2024.2)\n",
      "Collecting tzdata>=2022.7\n",
      "  Downloading tzdata-2024.2-py2.py3-none-any.whl (346 kB)\n",
      "Collecting python-dateutil>=2.8.2\n",
      "  Downloading python_dateutil-2.9.0.post0-py2.py3-none-any.whl (229 kB)\n",
      "Requirement already satisfied: six>=1.5 in /usr/local/lib/python3.9/site-packages (from python-dateutil>=2.8.2->pandas) (1.13.0)\n",
      "Installing collected packages: tzdata, python-dateutil, numpy, pandas\n",
      "  Attempting uninstall: python-dateutil\n",
      "    Found existing installation: python-dateutil 2.8.1\n",
      "    Not uninstalling python-dateutil at /usr/lib/python3.9/site-packages, outside environment /mnt1/yarn/usercache/livy/appcache/application_1732412967921_0001/container_1732412967921_0001_01_000001/tmp/spark-32a452f1-2b3f-4298-ae9a-82953e3babf6\n",
      "    Can't uninstall 'python-dateutil'. No files were found to uninstall.\n",
      "Successfully installed numpy-2.0.2 pandas-2.2.3 python-dateutil-2.9.0.post0 tzdata-2024.2\n",
      "\n",
      "Requirement already satisfied: numpy in ./tmp/spark-32a452f1-2b3f-4298-ae9a-82953e3babf6/lib64/python3.9/site-packages (2.0.2)\n",
      "\n",
      "WARNING: The directory '/home/.cache/pip' or its parent directory is not owned or is not writable by the current user. The cache has been disabled. Check the permissions and owner of that directory. If executing pip with sudo, you should use sudo's -H flag.\n",
      "ERROR: pip's dependency resolver does not currently take into account all the packages that are installed. This behaviour is the source of the following dependency conflicts.\n",
      "awscli 2.15.30 requires python-dateutil<=2.8.2,>=2.1, but you have python-dateutil 2.9.0.post0 which is incompatible.\n",
      "\n",
      "WARNING: The directory '/home/.cache/pip' or its parent directory is not owned or is not writable by the current user. The cache has been disabled. Check the permissions and owner of that directory. If executing pip with sudo, you should use sudo's -H flag."
     ]
    }
   ],
   "source": [
    "sc.install_pypi_package(\"pandas\")\n",
    "sc.install_pypi_package(\"numpy\")"
   ]
  },
  {
   "cell_type": "code",
   "execution_count": 3,
   "metadata": {},
   "outputs": [
    {
     "data": {
      "application/vnd.jupyter.widget-view+json": {
       "model_id": "",
       "version_major": 2,
       "version_minor": 0
      },
      "text/plain": [
       "FloatProgress(value=0.0, bar_style='info', description='Progress:', layout=Layout(height='25px', width='50%'),…"
      ]
     },
     "metadata": {},
     "output_type": "display_data"
    }
   ],
   "source": [
    "from pyspark.sql import SparkSession\n",
    "\n",
    "spark = SparkSession.builder.appName(\"Content_Based_Recommendation\").getOrCreate()"
   ]
  },
  {
   "cell_type": "code",
   "execution_count": 4,
   "metadata": {},
   "outputs": [
    {
     "data": {
      "application/vnd.jupyter.widget-view+json": {
       "model_id": "",
       "version_major": 2,
       "version_minor": 0
      },
      "text/plain": [
       "FloatProgress(value=0.0, bar_style='info', description='Progress:', layout=Layout(height='25px', width='50%'),…"
      ]
     },
     "metadata": {},
     "output_type": "display_data"
    }
   ],
   "source": [
    "import pyspark.sql.functions as F\n",
    "from pyspark.sql.functions import col, explode, split, when, mean, udf\n",
    "from pyspark.sql.types import IntegerType\n",
    "from pyspark.ml.linalg import Vector\n",
    "from pyspark.ml.feature import MinMaxScaler, VectorAssembler\n",
    "from pyspark.ml import Pipeline"
   ]
  },
  {
   "cell_type": "code",
   "execution_count": 6,
   "metadata": {},
   "outputs": [
    {
     "data": {
      "application/vnd.jupyter.widget-view+json": {
       "model_id": "",
       "version_major": 2,
       "version_minor": 0
      },
      "text/plain": [
       "FloatProgress(value=0.0, bar_style='info', description='Progress:', layout=Layout(height='25px', width='50%'),…"
      ]
     },
     "metadata": {},
     "output_type": "display_data"
    },
    {
     "name": "stderr",
     "output_type": "stream",
     "text": [
      "An error was encountered:\n",
      "Package already installed for current Spark context!\n",
      "Traceback (most recent call last):\n",
      "  File \"/mnt1/yarn/usercache/livy/appcache/application_1732412967921_0001/container_1732412967921_0001_01_000001/pyspark.zip/pyspark/context.py\", line 2614, in install_pypi_package\n",
      "    raise ValueError(\"Package already installed for current Spark context!\")\n",
      "ValueError: Package already installed for current Spark context!\n",
      "\n"
     ]
    }
   ],
   "source": [
    "sc.install_pypi_package(\"fsspec\")\n",
    "sc.install_pypi_package(\"s3fs\")"
   ]
  },
  {
   "cell_type": "code",
   "execution_count": 7,
   "metadata": {},
   "outputs": [
    {
     "data": {
      "application/vnd.jupyter.widget-view+json": {
       "model_id": "",
       "version_major": 2,
       "version_minor": 0
      },
      "text/plain": [
       "FloatProgress(value=0.0, bar_style='info', description='Progress:', layout=Layout(height='25px', width='50%'),…"
      ]
     },
     "metadata": {},
     "output_type": "display_data"
    },
    {
     "name": "stdout",
     "output_type": "stream",
     "text": [
      "+--------+--------------------+--------------------+------------------------------+-----+--------------------+--------------------+-----+--------+--------------------+-----------+----------------+--------------------+--------------------+----------------+-----------+-------------+--------------------+------+----------+---------+---------+-------+--------------------+\n",
      "|anime_id|                Name|        English name|                    Other name|Score|              Genres|            Synopsis| Type|Episodes|               Aired|  Premiered|          Status|           Producers|           Licensors|         Studios|     Source|     Duration|              Rating|  Rank|Popularity|Favorites|Scored By|Members|           Image URL|\n",
      "+--------+--------------------+--------------------+------------------------------+-----+--------------------+--------------------+-----+--------+--------------------+-----------+----------------+--------------------+--------------------+----------------+-----------+-------------+--------------------+------+----------+---------+---------+-------+--------------------+\n",
      "|       1|        Cowboy Bebop|        Cowboy Bebop|            カウボーイビバップ| 8.75|Action, Award Win...|Crime is timeless...|   TV|    26.0|Apr 3, 1998 to Ap...|spring 1998| Finished Airing|       Bandai Visual|Funimation, Banda...|         Sunrise|   Original|24 min per ep|R - 17+ (violence...|  41.0|        43|    78525| 914193.0|1771505|https://cdn.myani...|\n",
      "|       5|Cowboy Bebop: Ten...|Cowboy Bebop: The...|   カウボーイビバップ 天国の扉| 8.38|      Action, Sci-Fi|Another day, anot...|Movie|     1.0|         Sep 1, 2001|    UNKNOWN| Finished Airing|Sunrise, Bandai V...|Sony Pictures Ent...|           Bones|   Original|  1 hr 55 min|R - 17+ (violence...| 189.0|       602|     1448| 206248.0| 360978|https://cdn.myani...|\n",
      "|       6|              Trigun|              Trigun|                    トライガン| 8.22|Action, Adventure...|Vash the Stampede...|   TV|    26.0|Apr 1, 1998 to Se...|spring 1998| Finished Airing|Victor Entertainment|Funimation, Geneo...|        Madhouse|      Manga|24 min per ep|PG-13 - Teens 13 ...| 328.0|       246|    15035| 356739.0| 727252|https://cdn.myani...|\n",
      "|       7|  Witch Hunter Robin|  Witch Hunter Robin|          Witch Hunter ROBI...| 7.25|Action, Drama, My...|Robin Sena is a p...|   TV|    26.0|Jul 3, 2002 to De...|summer 2002| Finished Airing|Bandai Visual, De...|Funimation, Banda...|         Sunrise|   Original|25 min per ep|PG-13 - Teens 13 ...|2764.0|      1795|      613|  42829.0| 111931|https://cdn.myani...|\n",
      "|       8|      Bouken Ou Beet|Beet the Vandel B...|                  冒険王ビィト| 6.94|Adventure, Fantas...|It is the dark ce...|   TV|    52.0|Sep 30, 2004 to S...|  fall 2004| Finished Airing|    TV Tokyo, Dentsu|Illumitoon Entert...|  Toei Animation|      Manga|23 min per ep|       PG - Children|4240.0|      5126|       14|   6413.0|  15001|https://cdn.myani...|\n",
      "|      15|        Eyeshield 21|             UNKNOWN|                アイシールド21| 7.92|              Sports|Shy, reserved, an...|   TV|   145.0|Apr 6, 2005 to Ma...|spring 2005| Finished Airing|TV Tokyo, Nihon A...|VIZ Media, Sentai...|          Gallop|      Manga|23 min per ep|PG-13 - Teens 13 ...| 688.0|      1252|     1997|  86524.0| 177688|https://cdn.myani...|\n",
      "|      16|Hachimitsu to Clover|    Honey and Clover|          ハチミツとクローバー|  8.0|Comedy, Drama, Ro...|Yuuta Takemoto, a...|   TV|    24.0|Apr 15, 2005 to S...|spring 2005| Finished Airing|Dentsu, Genco, Fu...|VIZ Media, Discot...|       J.C.Staff|      Manga|23 min per ep|PG-13 - Teens 13 ...| 589.0|       862|     4136|  81747.0| 260166|https://cdn.myani...|\n",
      "|      17|Hungry Heart: Wil...|             UNKNOWN|  ハングリーハート Wild Str...| 7.55|Comedy, Slice of ...|As the younger br...|   TV|    52.0|Sep 11, 2002 to S...|  fall 2002| Finished Airing|             UNKNOWN|             UNKNOWN|Nippon Animation|      Manga|23 min per ep|PG-13 - Teens 13 ...|1551.0|      4212|      237|  12960.0|  24172|https://cdn.myani...|\n",
      "|      18|Initial D Fourth ...|             UNKNOWN|頭文字〈イニシャル〉D FOURT...| 8.16|       Action, Drama|Takumi Fujiwara f...|   TV|    24.0|Apr 17, 2004 to F...|spring 2004| Finished Airing|OB Planning, Stud...|          Funimation|        A.C.G.T.|      Manga|27 min per ep|PG-13 - Teens 13 ...| 393.0|      1273|     1237|  97878.0| 173710|https://cdn.myani...|\n",
      "|      19|             Monster|             Monster|                    モンスター| 8.87|Drama, Mystery, S...|Dr. Kenzou Tenma,...|   TV|    74.0|Apr 7, 2004 to Se...|spring 2004| Finished Airing|VAP, Shogakukan-S...|           VIZ Media|        Madhouse|      Manga|24 min per ep|    R+ - Mild Nudity|  26.0|       142|    47235| 368569.0|1013100|https://cdn.myani...|\n",
      "|      20|              Naruto|              Naruto|                        ナルト| 7.99|Action, Adventure...|Moments prior to ...|   TV|   220.0|Oct 3, 2002 to Fe...|  fall 2002| Finished Airing|TV Tokyo, Aniplex...|           VIZ Media|         Pierrot|      Manga|23 min per ep|PG-13 - Teens 13 ...| 599.0|         8|    76343|1883772.0|2717330|https://cdn.myani...|\n",
      "|      21|           One Piece|           One Piece|                     ONE PIECE| 8.69|Action, Adventure...|Gol D. Roger was ...|   TV| UNKNOWN|   Oct 20, 1999 to ?|  fall 1999|Currently Airing|Fuji TV, TAP, Shu...|Funimation, 4Kids...|  Toei Animation|      Manga|       24 min|PG-13 - Teens 13 ...|  55.0|        20|   198986|1226493.0|2168904|https://cdn.myani...|\n",
      "|      22| Tennis no Ouji-sama|The Prince of Tennis|                テニスの王子様| 7.86|              Sports|At the request of...|   TV|   178.0|Oct 10, 2001 to M...|  fall 2001| Finished Airing|Production I.G, N...|Funimation, VIZ M...|      Trans Arts|      Manga|22 min per ep|PG-13 - Teens 13 ...| 805.0|      1246|     3004|  81992.0| 178273|https://cdn.myani...|\n",
      "|      23|    Ring ni Kakero 1|             UNKNOWN|              リングにかけろ１| 6.39|      Action, Sports|In order to fulfi...|   TV|    12.0|Oct 6, 2004 to De...|  fall 2004| Finished Airing|             UNKNOWN|             UNKNOWN|  Toei Animation|      Manga|25 min per ep|       PG - Children|6943.0|      8288|        6|   1378.0|   4581|https://cdn.myani...|\n",
      "|      24|       School Rumble|       School Rumble|              スクールランブル| 7.89|     Comedy, Romance|Just the words \"I...|   TV|    26.0|Oct 5, 2004 to Ma...|  fall 2004| Finished Airing|TV Tokyo, Sotsu, ...|          Funimation|    Studio Comet|      Manga|23 min per ep|PG-13 - Teens 13 ...| 756.0|       687|     5139| 146597.0| 320203|https://cdn.myani...|\n",
      "|      25|           Sunabouzu|         Desert Punk|                      砂ぼうず| 7.38|Action, Adventure...|The Great Kanto D...|   TV|    24.0|Oct 6, 2004 to Ma...|  fall 2004| Finished Airing|GDH, Pony Canyon,...|          Funimation|           Gonzo|      Manga|24 min per ep|R - 17+ (violence...|2167.0|      1546|      822|  53709.0| 134894|https://cdn.myani...|\n",
      "|      26|          Texhnolyze|          Texhnolyze|                    TEXHNOLYZE| 7.76|Action, Drama, Sc...|In the dark under...|   TV|    22.0|Apr 17, 2003 to S...|spring 2003| Finished Airing|Group TAC, Rondo ...|Funimation, Geneo...|        Madhouse|   Original|23 min per ep|    R+ - Mild Nudity| 990.0|       935|     4786|  54857.0| 239423|https://cdn.myani...|\n",
      "|      27|       Trinity Blood|       Trinity Blood|          トリニティ・ブラッド| 7.29|Action, Supernatural|Following Armaged...|   TV|    24.0|Apr 29, 2005 to O...|spring 2005| Finished Airing|             UNKNOWN|          Funimation|           Gonzo|Light novel|24 min per ep|R - 17+ (violence...|2591.0|      1233|     1298|  79130.0| 179583|https://cdn.myani...|\n",
      "|      28|    Yakitate!! Japan|    Yakitate!! Japan|           焼きたて!! ジャぱん| 7.91|     Comedy, Gourmet|While countries s...|   TV|    69.0|Oct 12, 2004 to M...|  fall 2004| Finished Airing|TV Tokyo, Aniplex...|Nozomi Entertainment|         Sunrise|      Manga|24 min per ep|PG-13 - Teens 13 ...| 704.0|      1992|      897|  40492.0|  95380|https://cdn.myani...|\n",
      "|      29|              Zipang|             UNKNOWN|                      ジパング| 7.48|Action, Drama, Sc...|Mirai, an improve...|   TV|    26.0|Oct 8, 2004 to Ap...|  fall 2004| Finished Airing|      Marvelous, TBS|Geneon Entertainm...|     Studio Deen|      Manga|24 min per ep|PG-13 - Teens 13 ...|1778.0|      4430|      180|   7273.0|  21391|https://cdn.myani...|\n",
      "+--------+--------------------+--------------------+------------------------------+-----+--------------------+--------------------+-----+--------+--------------------+-----------+----------------+--------------------+--------------------+----------------+-----------+-------------+--------------------+------+----------+---------+---------+-------+--------------------+\n",
      "only showing top 20 rows"
     ]
    }
   ],
   "source": [
    "import pandas as pd\n",
    "df_pandas = pd.read_csv(\"s3://proyecto-mineria-de-datos/anime-dataset-2023.csv\")\n",
    "df_anime = spark.createDataFrame(df_pandas)\n",
    "df_anime.show()"
   ]
  },
  {
   "cell_type": "code",
   "execution_count": 8,
   "metadata": {},
   "outputs": [
    {
     "data": {
      "application/vnd.jupyter.widget-view+json": {
       "model_id": "",
       "version_major": 2,
       "version_minor": 0
      },
      "text/plain": [
       "FloatProgress(value=0.0, bar_style='info', description='Progress:', layout=Layout(height='25px', width='50%'),…"
      ]
     },
     "metadata": {},
     "output_type": "display_data"
    },
    {
     "name": "stdout",
     "output_type": "stream",
     "text": [
      "root\n",
      " |-- anime_id: long (nullable = true)\n",
      " |-- Name: string (nullable = true)\n",
      " |-- English name: string (nullable = true)\n",
      " |-- Other name: string (nullable = true)\n",
      " |-- Score: string (nullable = true)\n",
      " |-- Genres: string (nullable = true)\n",
      " |-- Synopsis: string (nullable = true)\n",
      " |-- Type: string (nullable = true)\n",
      " |-- Episodes: string (nullable = true)\n",
      " |-- Aired: string (nullable = true)\n",
      " |-- Premiered: string (nullable = true)\n",
      " |-- Status: string (nullable = true)\n",
      " |-- Producers: string (nullable = true)\n",
      " |-- Licensors: string (nullable = true)\n",
      " |-- Studios: string (nullable = true)\n",
      " |-- Source: string (nullable = true)\n",
      " |-- Duration: string (nullable = true)\n",
      " |-- Rating: string (nullable = true)\n",
      " |-- Rank: string (nullable = true)\n",
      " |-- Popularity: long (nullable = true)\n",
      " |-- Favorites: long (nullable = true)\n",
      " |-- Scored By: string (nullable = true)\n",
      " |-- Members: long (nullable = true)\n",
      " |-- Image URL: string (nullable = true)"
     ]
    }
   ],
   "source": [
    "# Mostrar el esquema del DataFrame\n",
    "df_anime.printSchema()"
   ]
  },
  {
   "cell_type": "code",
   "execution_count": 9,
   "metadata": {},
   "outputs": [
    {
     "data": {
      "application/vnd.jupyter.widget-view+json": {
       "model_id": "",
       "version_major": 2,
       "version_minor": 0
      },
      "text/plain": [
       "FloatProgress(value=0.0, bar_style='info', description='Progress:', layout=Layout(height='25px', width='50%'),…"
      ]
     },
     "metadata": {},
     "output_type": "display_data"
    },
    {
     "name": "stdout",
     "output_type": "stream",
     "text": [
      "N?mero de filas: 24905, N?mero de columnas: 24"
     ]
    }
   ],
   "source": [
    "# Número de filas y columnas\n",
    "num_rows = df_anime.count()\n",
    "num_cols = len(df_anime.columns)\n",
    "print(f\"Número de filas: {num_rows}, Número de columnas: {num_cols}\")"
   ]
  },
  {
   "cell_type": "code",
   "execution_count": 10,
   "metadata": {},
   "outputs": [
    {
     "data": {
      "application/vnd.jupyter.widget-view+json": {
       "model_id": "",
       "version_major": 2,
       "version_minor": 0
      },
      "text/plain": [
       "FloatProgress(value=0.0, bar_style='info', description='Progress:', layout=Layout(height='25px', width='50%'),…"
      ]
     },
     "metadata": {},
     "output_type": "display_data"
    },
    {
     "name": "stdout",
     "output_type": "stream",
     "text": [
      "+-------+------------------+---------------------+--------------------+-----------------+------------------+-------+---------------------+-------+------------------+------------------+-----------+----------------+----------+-------------------+--------------------+------------+--------+------------+-----------------+------------------+------------------+------------------+------------------+--------------------+\n",
      "|summary|          anime_id|                 Name|        English name|       Other name|             Score| Genres|             Synopsis|   Type|          Episodes|             Aired|  Premiered|          Status| Producers|          Licensors|             Studios|      Source|Duration|      Rating|             Rank|        Popularity|         Favorites|         Scored By|           Members|           Image URL|\n",
      "+-------+------------------+---------------------+--------------------+-----------------+------------------+-------+---------------------+-------+------------------+------------------+-----------+----------------+----------+-------------------+--------------------+------------+--------+------------+-----------------+------------------+------------------+------------------+------------------+--------------------+\n",
      "|  count|             24905|                24905|               24905|            24905|             24905|  24905|                24905|  24905|             24905|             24905|      24905|           24905|     24905|              24905|               24905|       24905|   24905|       24905|            24905|             24905|             24905|             24905|             24905|               24905|\n",
      "|   mean|29776.709014254167|             56224.75|   665.3333333333334|95586.42857142857| 6.380889625286778|   NULL|                 NULL|   NULL| 14.91351774100601|1994.4863167339615|       NULL|            NULL|      NULL|               NULL|                NULL|        NULL|    NULL|        NULL|9960.770167052679|12265.388355751857| 432.5952218430034|29974.376879938824| 37104.96000803052|                NULL|\n",
      "| stddev| 17976.07629040435|   191124.10276434856|  1142.8702171871194|250258.1121441468|0.9286960610287849|   NULL|                 NULL|   NULL|48.581251047618565|21.820682962828283|       NULL|            NULL|      NULL|               NULL|                NULL|        NULL|    NULL|        NULL|5856.990950655504|7187.4283930282045|4353.1816466096325|116934.79274878104|156825.23706149968|                NULL|\n",
      "|    min|                 1|         !NVADE SHOW!|   \"Deji\" Meets Girl|     !NVADE SHOW!|              1.85| Action| \"47 Prefecture Do...|  Movie|               1.0|              1917|    UNKNOWN|Currently Airing| 100studio|4Kids Entertainment|             10Gauge|4-koma manga|    1 hr|G - All Ages|              0.0|                 0|                 0|             100.0|                 0|https://cdn.myani...|\n",
      "|    max|             55735|맛 (Hot Sauce) (MI...|∀ Gundam II: Moon...|         ｳｻｷﾞとｶﾒ|           UNKNOWN|UNKNOWN|ーThe day the city...|UNKNOWN|           UNKNOWN|       Sep 9, 2022|winter 2025|   Not yet aired|syn Sophia|              iQIYI|ufotable, feel., ...|   Web novel| Unknown|     UNKNOWN|          UNKNOWN|             24723|            217606|           UNKNOWN|           3744541|https://cdn.myani...|\n",
      "+-------+------------------+---------------------+--------------------+-----------------+------------------+-------+---------------------+-------+------------------+------------------+-----------+----------------+----------+-------------------+--------------------+------------+--------+------------+-----------------+------------------+------------------+------------------+------------------+--------------------+"
     ]
    }
   ],
   "source": [
    "df_anime.describe().show()"
   ]
  },
  {
   "cell_type": "code",
   "execution_count": 11,
   "metadata": {},
   "outputs": [
    {
     "data": {
      "application/vnd.jupyter.widget-view+json": {
       "model_id": "",
       "version_major": 2,
       "version_minor": 0
      },
      "text/plain": [
       "FloatProgress(value=0.0, bar_style='info', description='Progress:', layout=Layout(height='25px', width='50%'),…"
      ]
     },
     "metadata": {},
     "output_type": "display_data"
    },
    {
     "name": "stdout",
     "output_type": "stream",
     "text": [
      "Columna: anime_id, Tipo: bigint\n",
      "Columna: Name, Tipo: string\n",
      "Columna: English name, Tipo: string\n",
      "Columna: Other name, Tipo: string\n",
      "Columna: Score, Tipo: string\n",
      "Columna: Genres, Tipo: string\n",
      "Columna: Synopsis, Tipo: string\n",
      "Columna: Type, Tipo: string\n",
      "Columna: Episodes, Tipo: string\n",
      "Columna: Aired, Tipo: string\n",
      "Columna: Premiered, Tipo: string\n",
      "Columna: Status, Tipo: string\n",
      "Columna: Producers, Tipo: string\n",
      "Columna: Licensors, Tipo: string\n",
      "Columna: Studios, Tipo: string\n",
      "Columna: Source, Tipo: string\n",
      "Columna: Duration, Tipo: string\n",
      "Columna: Rating, Tipo: string\n",
      "Columna: Rank, Tipo: string\n",
      "Columna: Popularity, Tipo: bigint\n",
      "Columna: Favorites, Tipo: bigint\n",
      "Columna: Scored By, Tipo: string\n",
      "Columna: Members, Tipo: bigint\n",
      "Columna: Image URL, Tipo: string"
     ]
    }
   ],
   "source": [
    "# Lista de columnas y sus tipos\n",
    "for col, dtype in df_anime.dtypes:\n",
    "    print(f\"Columna: {col}, Tipo: {dtype}\")"
   ]
  },
  {
   "cell_type": "code",
   "execution_count": 12,
   "metadata": {},
   "outputs": [
    {
     "data": {
      "application/vnd.jupyter.widget-view+json": {
       "model_id": "",
       "version_major": 2,
       "version_minor": 0
      },
      "text/plain": [
       "FloatProgress(value=0.0, bar_style='info', description='Progress:', layout=Layout(height='25px', width='50%'),…"
      ]
     },
     "metadata": {},
     "output_type": "display_data"
    },
    {
     "name": "stdout",
     "output_type": "stream",
     "text": [
      "+-------+-----+\n",
      "|   Type|count|\n",
      "+-------+-----+\n",
      "|     TV| 7597|\n",
      "|  Movie| 4381|\n",
      "|    OVA| 4076|\n",
      "|    ONA| 3533|\n",
      "|  Music| 2686|\n",
      "|Special| 2558|\n",
      "|UNKNOWN|   74|\n",
      "+-------+-----+"
     ]
    }
   ],
   "source": [
    "# Agrupar animes por tipo\n",
    "df_type=df_anime.groupBy(\"Type\").count().orderBy(F.desc(\"count\"))\n",
    "df_type.show()"
   ]
  },
  {
   "cell_type": "code",
   "execution_count": 13,
   "metadata": {},
   "outputs": [
    {
     "data": {
      "application/vnd.jupyter.widget-view+json": {
       "model_id": "",
       "version_major": 2,
       "version_minor": 0
      },
      "text/plain": [
       "FloatProgress(value=0.0, bar_style='info', description='Progress:', layout=Layout(height='25px', width='50%'),…"
      ]
     },
     "metadata": {},
     "output_type": "display_data"
    },
    {
     "name": "stdout",
     "output_type": "stream",
     "text": [
      "+-------------+-----+\n",
      "|        Genre|count|\n",
      "+-------------+-----+\n",
      "|       Comedy| 7142|\n",
      "|      Fantasy| 5306|\n",
      "|       Action| 4730|\n",
      "|    Adventure| 3842|\n",
      "|       Sci-Fi| 3091|\n",
      "|        Drama| 2836|\n",
      "|      Romance| 2063|\n",
      "|Slice of Life| 1755|\n",
      "| Supernatural| 1494|\n",
      "|       Hentai| 1486|\n",
      "|      Mystery|  847|\n",
      "|  Avant Garde|  804|\n",
      "|        Ecchi|  795|\n",
      "|       Sports|  771|\n",
      "|       Horror|  534|\n",
      "|     Suspense|  242|\n",
      "|Award Winning|  241|\n",
      "|    Boys Love|  169|\n",
      "|      Gourmet|  146|\n",
      "|   Girls Love|  113|\n",
      "+-------------+-----+\n",
      "only showing top 20 rows"
     ]
    }
   ],
   "source": [
    "from pyspark.sql.functions import col, when, split, explode\n",
    "# Reemplazar \"UNKNOWN\" por NULL (vacío) en la columna \"Genres\"\n",
    "df_anime = df_anime.withColumn(\"Genres\", when(col(\"Genres\") == \"UNKNOWN\", None).otherwise(col(\"Genres\")))\n",
    "# Dividir la columna \"Genres\" en una lista de géneros\n",
    "df_genres = df_anime.withColumn(\"GenreArray\", split(col(\"Genres\"), \", \"))\n",
    "# Explode: Expandir los géneros en filas individuales\n",
    "df_exploded = df_genres.withColumn(\"Genre\", explode(col(\"GenreArray\")))\n",
    "# Contar las ocurrencias de cada género\n",
    "genre_counts = df_exploded.groupBy(\"Genre\").count().orderBy(col(\"count\").desc())\n",
    "# Mostrar el resultado\n",
    "genre_counts.show()"
   ]
  },
  {
   "cell_type": "code",
   "execution_count": 14,
   "metadata": {},
   "outputs": [
    {
     "data": {
      "application/vnd.jupyter.widget-view+json": {
       "model_id": "",
       "version_major": 2,
       "version_minor": 0
      },
      "text/plain": [
       "FloatProgress(value=0.0, bar_style='info', description='Progress:', layout=Layout(height='25px', width='50%'),…"
      ]
     },
     "metadata": {},
     "output_type": "display_data"
    },
    {
     "name": "stdout",
     "output_type": "stream",
     "text": [
      "N?mero de animes con Score 'UNKNOWN': 9213\n",
      "N?mero de animes con Episodes 'UNKNOWN': 611\n",
      "N?mero de animes con Type 'UNKNOWN': 74\n",
      "N?mero de animes con Aired 'UNKNOWN': 0\n",
      "N?mero de animes con Status 'UNKNOWN': 0\n",
      "N?mero de animes con Studios 'UNKNOWN': 10526\n",
      "N?mero de animes con Source 'UNKNOWN': 0\n",
      "N?mero de animes con Duration 'UNKNOWN': 663\n",
      "N?mero de animes con Rating 'UNKNOWN': 669\n",
      "N?mero de animes con Popularity 'UNKNOWN': 0\n",
      "N?mero de animes con Members 'UNKNOWN': 0"
     ]
    }
   ],
   "source": [
    "# Filtrar filas con valor \"UNKNOWN\"\n",
    "unknown_score = df_anime.filter(col(\"Score\") == \"UNKNOWN\").count()\n",
    "print(f\"Número de animes con Score 'UNKNOWN': {unknown_score}\")\n",
    "unknown_episodes = df_anime.filter(col(\"Episodes\") == \"UNKNOWN\").count()\n",
    "print(f\"Número de animes con Episodes 'UNKNOWN': {unknown_episodes}\")\n",
    "unknown_type = df_anime.filter(col(\"Type\") == \"UNKNOWN\").count()\n",
    "print(f\"Número de animes con Type 'UNKNOWN': {unknown_type}\")\n",
    "unknown_aired = df_anime.filter(col(\"Aired\") == \"UNKNOWN\").count()\n",
    "print(f\"Número de animes con Aired 'UNKNOWN': {unknown_aired}\")\n",
    "unknown_status = df_anime.filter(col(\"Status\") == \"UNKNOWN\").count()\n",
    "print(f\"Número de animes con Status 'UNKNOWN': {unknown_status}\")\n",
    "unknown_studios = df_anime.filter(col(\"Studios\") == \"UNKNOWN\").count()\n",
    "print(f\"Número de animes con Studios 'UNKNOWN': {unknown_studios}\")\n",
    "unknown_source = df_anime.filter(col(\"Source\") == \"UNKNOWN\").count()\n",
    "print(f\"Número de animes con Source 'UNKNOWN': {unknown_source}\")\n",
    "unknown_duration = df_anime.filter(col(\"Duration\") == \"Unknown\").count()\n",
    "print(f\"Número de animes con Duration 'UNKNOWN': {unknown_duration}\")\n",
    "unknown_rating = df_anime.filter(col(\"Rating\") == \"UNKNOWN\").count()\n",
    "print(f\"Número de animes con Rating 'UNKNOWN': {unknown_rating}\")\n",
    "unknown_pop = df_anime.filter(col(\"Popularity\") == \"Unknown\").count()\n",
    "print(f\"Número de animes con Popularity 'UNKNOWN': {unknown_pop}\")\n",
    "unknown_mem = df_anime.filter(col(\"Members\") == \"UNKNOWN\").count()\n",
    "print(f\"Número de animes con Members 'UNKNOWN': {unknown_mem}\")"
   ]
  },
  {
   "cell_type": "code",
   "execution_count": 15,
   "metadata": {},
   "outputs": [
    {
     "data": {
      "application/vnd.jupyter.widget-view+json": {
       "model_id": "",
       "version_major": 2,
       "version_minor": 0
      },
      "text/plain": [
       "FloatProgress(value=0.0, bar_style='info', description='Progress:', layout=Layout(height='25px', width='50%'),…"
      ]
     },
     "metadata": {},
     "output_type": "display_data"
    },
    {
     "name": "stdout",
     "output_type": "stream",
     "text": [
      "+-------------------------------------+--------+\n",
      "|Name                                 |Episodes|\n",
      "+-------------------------------------+--------+\n",
      "|Lan Mao                              |3057.0  |\n",
      "|Oyako Club                           |1818.0  |\n",
      "|Doraemon (1979)                      |1787.0  |\n",
      "|Daomei Xiansheng                     |1664.0  |\n",
      "|Kirin Monoshiri Yakata               |1565.0  |\n",
      "|Manga Nippon Mukashibanashi (1976)   |1471.0  |\n",
      "|Hoka Hoka Kazoku                     |1428.0  |\n",
      "|Kirin Ashita no Calendar             |1306.0  |\n",
      "|Monoshiri Daigaku: Ashita no Calendar|1274.0  |\n",
      "|Sekai Monoshiri Ryoko                |1006.0  |\n",
      "|Kaixin Hanzi                         |1000.0  |\n",
      "|Shuimu Baobao Kan Shijie             |800.0   |\n",
      "|Kotowaza House                       |773.0   |\n",
      "|Asa da yo! Kaishain                  |744.0   |\n",
      "|Shima Shima Tora no Shimajirou       |726.0   |\n",
      "+-------------------------------------+--------+"
     ]
    }
   ],
   "source": [
    "# Episodes a tipo float\n",
    "df_anime = df_anime.withColumn(\"Episodes\", col(\"Episodes\").cast(\"float\"))\n",
    "# Filtrar las filas que tienen valores numéricos\n",
    "df_numeric_episodes = df_anime.filter(col(\"Episodes\").isNotNull())\n",
    "# Calcular la media de los episodios\n",
    "mean_episodes = df_numeric_episodes.select(mean(col(\"Episodes\"))).collect()[0][0]\n",
    "# Reemplazar los valores \"UNKNOWN\" por la media calculada\n",
    "df_anime = df_anime.withColumn(\"Episodes\", when(col(\"Episodes\").isNull(), mean_episodes).otherwise(col(\"Episodes\")))\n",
    "# Ordenar por Score en orden descendente, seleccionar columnas y limitar a 15 resultados\n",
    "top_15_animes = (df_anime.orderBy(col(\"Episodes\").desc()).select(\"Name\", \"Episodes\").limit(15))\n",
    "# Mostrar el resultado\n",
    "top_15_animes.show(truncate=False)"
   ]
  },
  {
   "cell_type": "code",
   "execution_count": 16,
   "metadata": {},
   "outputs": [
    {
     "data": {
      "application/vnd.jupyter.widget-view+json": {
       "model_id": "",
       "version_major": 2,
       "version_minor": 0
      },
      "text/plain": [
       "FloatProgress(value=0.0, bar_style='info', description='Progress:', layout=Layout(height='25px', width='50%'),…"
      ]
     },
     "metadata": {},
     "output_type": "display_data"
    }
   ],
   "source": [
    "# Reemplazar \"UNKNOWN\" por NULL\n",
    "df_anime = df_anime.withColumn(\"Type\", when(col(\"Type\") == \"UNKNOWN\", None).otherwise(col(\"Type\")))\n",
    "df_anime = df_anime.withColumn(\"Duration\", when(col(\"Duration\") == \"Unknown\", None).otherwise(col(\"Duration\")))\n",
    "df_anime = df_anime.withColumn(\"Rating\", when(col(\"Rating\") == \"UNKNOWN\", None).otherwise(col(\"Rating\")))"
   ]
  },
  {
   "cell_type": "code",
   "execution_count": 17,
   "metadata": {},
   "outputs": [
    {
     "data": {
      "application/vnd.jupyter.widget-view+json": {
       "model_id": "",
       "version_major": 2,
       "version_minor": 0
      },
      "text/plain": [
       "FloatProgress(value=0.0, bar_style='info', description='Progress:', layout=Layout(height='25px', width='50%'),…"
      ]
     },
     "metadata": {},
     "output_type": "display_data"
    },
    {
     "name": "stdout",
     "output_type": "stream",
     "text": [
      "Columna: anime_id, Tipo: bigint\n",
      "Columna: Name, Tipo: string\n",
      "Columna: Genres, Tipo: string\n",
      "Columna: Synopsis, Tipo: string\n",
      "Columna: Type, Tipo: string\n",
      "Columna: Episodes, Tipo: double\n",
      "Columna: Aired, Tipo: string\n",
      "Columna: Status, Tipo: string\n",
      "Columna: Source, Tipo: string\n",
      "Columna: Duration, Tipo: string\n",
      "Columna: Rating, Tipo: string\n",
      "Columna: Popularity, Tipo: bigint\n",
      "Columna: Members, Tipo: bigint"
     ]
    }
   ],
   "source": [
    "# DataFrame con las columnas definitivas\n",
    "data = df_anime.select(\"anime_id\", \"Name\", \"Genres\", \"Synopsis\", \"Type\", \"Episodes\", \"Aired\", \n",
    "                       \"Status\", \"Source\", \"Duration\", \"Rating\", \"Popularity\", \"Members\")\n",
    "\n",
    "for col, dtype in data.dtypes:\n",
    "    print(f\"Columna: {col}, Tipo: {dtype}\")"
   ]
  },
  {
   "cell_type": "code",
   "execution_count": 18,
   "metadata": {},
   "outputs": [
    {
     "data": {
      "application/vnd.jupyter.widget-view+json": {
       "model_id": "",
       "version_major": 2,
       "version_minor": 0
      },
      "text/plain": [
       "FloatProgress(value=0.0, bar_style='info', description='Progress:', layout=Layout(height='25px', width='50%'),…"
      ]
     },
     "metadata": {},
     "output_type": "display_data"
    },
    {
     "name": "stdout",
     "output_type": "stream",
     "text": [
      "+-----------------------------------+-----------+\n",
      "|features_vector                    |vector_size|\n",
      "+-----------------------------------+-----------+\n",
      "|[26.0,43.0,1771505.0]              |3          |\n",
      "|[1.0,602.0,360978.0]               |3          |\n",
      "|[26.0,246.0,727252.0]              |3          |\n",
      "|[26.0,1795.0,111931.0]             |3          |\n",
      "|[52.0,5126.0,15001.0]              |3          |\n",
      "|[145.0,1252.0,177688.0]            |3          |\n",
      "|[24.0,862.0,260166.0]              |3          |\n",
      "|[52.0,4212.0,24172.0]              |3          |\n",
      "|[24.0,1273.0,173710.0]             |3          |\n",
      "|[74.0,142.0,1013100.0]             |3          |\n",
      "|[220.0,8.0,2717330.0]              |3          |\n",
      "|[14.913517951965332,20.0,2168904.0]|3          |\n",
      "|[178.0,1246.0,178273.0]            |3          |\n",
      "|[12.0,8288.0,4581.0]               |3          |\n",
      "|[26.0,687.0,320203.0]              |3          |\n",
      "|[24.0,1546.0,134894.0]             |3          |\n",
      "|[22.0,935.0,239423.0]              |3          |\n",
      "|[24.0,1233.0,179583.0]             |3          |\n",
      "|[69.0,1992.0,95380.0]              |3          |\n",
      "|[26.0,4430.0,21391.0]              |3          |\n",
      "+-----------------------------------+-----------+\n",
      "only showing top 20 rows"
     ]
    }
   ],
   "source": [
    "from pyspark.sql.functions import col, udf\n",
    "from pyspark.ml.feature import VectorAssembler\n",
    "from pyspark.sql.types import IntegerType\n",
    "\n",
    "# Variables tipo numéricas\n",
    "columns_to_normalize = [\"Episodes\", \"Popularity\", \"Members\"]\n",
    "for column in columns_to_normalize:\n",
    "    data = data.withColumn(column, col(column).cast(\"float\"))\n",
    "# Vectorizar columnas numéricas\n",
    "assembler = VectorAssembler(inputCols=columns_to_normalize, outputCol=\"features_vector\")\n",
    "data = assembler.transform(data)\n",
    "\n",
    "# Función UDF para obtener la longitud de un vector\n",
    "def get_vector_size(v):\n",
    "    return len(v)\n",
    "# Registrar la UDF\n",
    "get_vector_size_udf = udf(get_vector_size, IntegerType())\n",
    "# Aplicar la UDF para obtener el tamaño del vector\n",
    "data = data.withColumn(\"vector_size\", get_vector_size_udf(\"features_vector\"))\n",
    "\n",
    "# Verificar los resultados\n",
    "data.select(\"features_vector\", \"vector_size\").show(truncate=False)\n",
    "\n",
    "# Eliminar la columna de verificación\n",
    "data = data.drop(\"vector_size\")"
   ]
  },
  {
   "cell_type": "code",
   "execution_count": 19,
   "metadata": {},
   "outputs": [
    {
     "data": {
      "application/vnd.jupyter.widget-view+json": {
       "model_id": "",
       "version_major": 2,
       "version_minor": 0
      },
      "text/plain": [
       "FloatProgress(value=0.0, bar_style='info', description='Progress:', layout=Layout(height='25px', width='50%'),…"
      ]
     },
     "metadata": {},
     "output_type": "display_data"
    }
   ],
   "source": [
    "# Aplicar MinMaxScaler\n",
    "scaler = MinMaxScaler(inputCol=\"features_vector\", outputCol=\"scaled_features\")\n",
    "scaler_model = scaler.fit(data)\n",
    "data = scaler_model.transform(data)"
   ]
  },
  {
   "cell_type": "markdown",
   "metadata": {},
   "source": [
    "## TF-IDF "
   ]
  },
  {
   "cell_type": "code",
   "execution_count": 20,
   "metadata": {},
   "outputs": [
    {
     "data": {
      "application/vnd.jupyter.widget-view+json": {
       "model_id": "",
       "version_major": 2,
       "version_minor": 0
      },
      "text/plain": [
       "FloatProgress(value=0.0, bar_style='info', description='Progress:', layout=Layout(height='25px', width='50%'),…"
      ]
     },
     "metadata": {},
     "output_type": "display_data"
    }
   ],
   "source": [
    "from pyspark.sql.functions import concat_ws\n",
    "\n",
    "# Concatenar todas las columnas tipo string\n",
    "data = data.withColumn(\"combined_text\", concat_ws(\" \", \"Name\", \"Genres\", \"Synopsis\", \"Type\", \n",
    "                                                  \"Aired\", \"Status\", \"Source\", \"Duration\", \"Rating\"))"
   ]
  },
  {
   "cell_type": "code",
   "execution_count": 21,
   "metadata": {},
   "outputs": [
    {
     "data": {
      "application/vnd.jupyter.widget-view+json": {
       "model_id": "",
       "version_major": 2,
       "version_minor": 0
      },
      "text/plain": [
       "FloatProgress(value=0.0, bar_style='info', description='Progress:', layout=Layout(height='25px', width='50%'),…"
      ]
     },
     "metadata": {},
     "output_type": "display_data"
    },
    {
     "name": "stdout",
     "output_type": "stream",
     "text": [
      "+--------------------------------------------------------------------------------------------------------------------------------------------------------------------------------------------------------------------------------------------------------------------------------------------------------------------------------------------------------------------------------------------------------------------------------------------------------------------------------------------------------------------------------------------------------------------------------------------------------------------------------------------------------------------------------------------------------------------------------------------------------------------------------------------------------------------------------------------------------------------------------------------------------------------------------------------------------------------------------------------------------------------------------------------------------------------------------------------------------------------------------------------------------------------------------------------------------------------------------------------------------------------------------------------------------------------------------------------------------------------------------------------------------------------------------------------------------------------------------+---------------------------------------------------------------------------------------------------------------------------------------------------------------------------------------------------------------------------------------------------------------------------------------------------------------------------------------------------------------------------------------------------------------------------------------------------------------------------------------------------------------------------------------------------------------------------------------------------------------------------------------------------------------------------------------------------------------------------------------------------------------------------------------------------------------------------------------------------------------------------------------------------------------------------------------------------------------------------------------------------------------------------------------------------------------------------------------------------------------------------------------------------------------------------------------------------------------------------------------------------------------------------------------------------------------------------------------------------------------------------------------------------------------------------------------------------------------------------------------------------------------------------------------------------------------------------------------------------------------------------------------------------------------------------------------------------------------------------------------------+--------------------------------------------------------------------------------------------------------------------------------------------------------------------------------------------------------------------------------------------------------------------------------------------------------------------------------------------------------------------------------------------------------------------------------------------------------------------------------------------------------------------------------------------------------------------------------------------------------------------------------------------------------------------------------------------------------------------------------------------------------------------------------------------------------------------------------------------------------------------------------------------------------------------------------------------------------------------------------------------------------------------------------------------------------------------------------------------------------------------------------------------------------------------------------------------------------------------------------------------------------------------------+\n",
      "|processed_text                                                                                                                                                                                                                                                                                                                                                                                                                                                                                                                                                                                                                                                                                                                                                                                                                                                                                                                                                                                                                                                                                                                                                                                                                                                                                                                                                                                                                                                                  |words                                                                                                                                                                                                                                                                                                                                                                                                                                                                                                                                                                                                                                                                                                                                                                                                                                                                                                                                                                                                                                                                                                                                                                                                                                                                                                                                                                                                                                                                                                                                                                                                                                                                                                                                        |filtered_text                                                                                                                                                                                                                                                                                                                                                                                                                                                                                                                                                                                                                                                                                                                                                                                                                                                                                                                                                                                                                                                                                                                                                                                                                                                             |\n",
      "+--------------------------------------------------------------------------------------------------------------------------------------------------------------------------------------------------------------------------------------------------------------------------------------------------------------------------------------------------------------------------------------------------------------------------------------------------------------------------------------------------------------------------------------------------------------------------------------------------------------------------------------------------------------------------------------------------------------------------------------------------------------------------------------------------------------------------------------------------------------------------------------------------------------------------------------------------------------------------------------------------------------------------------------------------------------------------------------------------------------------------------------------------------------------------------------------------------------------------------------------------------------------------------------------------------------------------------------------------------------------------------------------------------------------------------------------------------------------------------+---------------------------------------------------------------------------------------------------------------------------------------------------------------------------------------------------------------------------------------------------------------------------------------------------------------------------------------------------------------------------------------------------------------------------------------------------------------------------------------------------------------------------------------------------------------------------------------------------------------------------------------------------------------------------------------------------------------------------------------------------------------------------------------------------------------------------------------------------------------------------------------------------------------------------------------------------------------------------------------------------------------------------------------------------------------------------------------------------------------------------------------------------------------------------------------------------------------------------------------------------------------------------------------------------------------------------------------------------------------------------------------------------------------------------------------------------------------------------------------------------------------------------------------------------------------------------------------------------------------------------------------------------------------------------------------------------------------------------------------------+--------------------------------------------------------------------------------------------------------------------------------------------------------------------------------------------------------------------------------------------------------------------------------------------------------------------------------------------------------------------------------------------------------------------------------------------------------------------------------------------------------------------------------------------------------------------------------------------------------------------------------------------------------------------------------------------------------------------------------------------------------------------------------------------------------------------------------------------------------------------------------------------------------------------------------------------------------------------------------------------------------------------------------------------------------------------------------------------------------------------------------------------------------------------------------------------------------------------------------------------------------------------------+\n",
      "|cowboy bebop action award winning scifi crime is timeless by the year  humanity has expanded across the galaxy filling the surface of other planets with settlements like those on earth these new societies are plagued by murder drug use and theft and intergalactic outlaws are hunted by a growing number of tough bounty hunters\\n\\nspike spiegel and jet black pursue criminals throughout space to make a humble living beneath his goofy and aloof demeanor spike is haunted by the weight of his violent past meanwhile jet manages his own troubled memories while taking care of spike and the bebop their ship the duo is joined by the beautiful con artist faye valentine odd child edward wong hau pepelu tivrusky iv and ein a bioengineered welsh corgi\\n\\nwhile developing bonds and working to catch a colorful cast of criminals the bebop crews lives are disrupted by a menace from spikes past as a rivals maniacal plot continues to unravel spike must choose between life with his newfound family or revenge for his old wounds tv apr   to apr   finished airing original  min per ep r   violence  profanity                                                                                                                                                                                                                                                                                                                                      |[cowboy, bebop, action, award, winning, scifi, crime, is, timeless, by, the, year, , humanity, has, expanded, across, the, galaxy, filling, the, surface, of, other, planets, with, settlements, like, those, on, earth, these, new, societies, are, plagued, by, murder, drug, use, and, theft, and, intergalactic, outlaws, are, hunted, by, a, growing, number, of, tough, bounty, hunters\\n\\nspike, spiegel, and, jet, black, pursue, criminals, throughout, space, to, make, a, humble, living, beneath, his, goofy, and, aloof, demeanor, spike, is, haunted, by, the, weight, of, his, violent, past, meanwhile, jet, manages, his, own, troubled, memories, while, taking, care, of, spike, and, the, bebop, their, ship, the, duo, is, joined, by, the, beautiful, con, artist, faye, valentine, odd, child, edward, wong, hau, pepelu, tivrusky, iv, and, ein, a, bioengineered, welsh, corgi\\n\\nwhile, developing, bonds, and, working, to, catch, a, colorful, cast, of, criminals, the, bebop, crews, lives, are, disrupted, by, a, menace, from, spikes, past, as, a, rivals, maniacal, plot, continues, to, unravel, spike, must, choose, between, life, with, his, newfound, family, or, revenge, for, his, old, wounds, tv, apr, , , to, apr, , , finished, airing, original, , min, per, ep, r, , , violence, , profanity]                                                                                                                                                                                                                                                                                                                                                                                                 |[cowboy, bebop, action, award, winning, scifi, crime, timeless, year, , humanity, expanded, across, galaxy, filling, surface, planets, settlements, like, earth, new, societies, plagued, murder, drug, use, theft, intergalactic, outlaws, hunted, growing, number, tough, bounty, hunters\\n\\nspike, spiegel, jet, black, pursue, criminals, throughout, space, make, humble, living, beneath, goofy, aloof, demeanor, spike, haunted, weight, violent, past, meanwhile, jet, manages, troubled, memories, taking, care, spike, bebop, ship, duo, joined, beautiful, con, artist, faye, valentine, odd, child, edward, wong, hau, pepelu, tivrusky, iv, ein, bioengineered, welsh, corgi\\n\\nwhile, developing, bonds, working, catch, colorful, cast, criminals, bebop, crews, lives, disrupted, menace, spikes, past, rivals, maniacal, plot, continues, unravel, spike, must, choose, life, newfound, family, revenge, old, wounds, tv, apr, , , apr, , , finished, airing, original, , min, per, ep, r, , , violence, , profanity]                                                                                                                                                                                                                                    |\n",
      "|cowboy bebop tengoku no tobira action scifi another day another bountysuch is the life of the often unlucky crew of the bebop however this routine is interrupted when faye who is chasing a fairly worthless target on mars witnesses an oil tanker suddenly explode causing mass hysteria as casualties mount due to a strange disease spreading through the smoke from the blast a whopping three hundred million woolong price is placed on the head of the supposed perpetrator\\n\\nwith lives at stake and a solution to their money problems in sight the bebop crew springs into action spike jet faye and edward followed closely by ein split up to pursue different leads across alba city through their individual investigations they discover a coverup scheme involving a pharmaceutical company revealing a plot that reaches much further than the ragtag team of bounty hunters could have realized movie sep   finished airing original  hr  min r   violence  profanity                                                                                                                                                                                                                                                                                                                                                                                                                                                                                      |[cowboy, bebop, tengoku, no, tobira, action, scifi, another, day, another, bountysuch, is, the, life, of, the, often, unlucky, crew, of, the, bebop, however, this, routine, is, interrupted, when, faye, who, is, chasing, a, fairly, worthless, target, on, mars, witnesses, an, oil, tanker, suddenly, explode, causing, mass, hysteria, as, casualties, mount, due, to, a, strange, disease, spreading, through, the, smoke, from, the, blast, a, whopping, three, hundred, million, woolong, price, is, placed, on, the, head, of, the, supposed, perpetrator\\n\\nwith, lives, at, stake, and, a, solution, to, their, money, problems, in, sight, the, bebop, crew, springs, into, action, spike, jet, faye, and, edward, followed, closely, by, ein, split, up, to, pursue, different, leads, across, alba, city, through, their, individual, investigations, they, discover, a, coverup, scheme, involving, a, pharmaceutical, company, revealing, a, plot, that, reaches, much, further, than, the, ragtag, team, of, bounty, hunters, could, have, realized, movie, sep, , , finished, airing, original, , hr, , min, r, , , violence, , profanity]                                                                                                                                                                                                                                                                                                                                                                                                                                                                                                                                                                                 |[cowboy, bebop, tengoku, tobira, action, scifi, another, day, another, bountysuch, life, often, unlucky, crew, bebop, however, routine, interrupted, faye, chasing, fairly, worthless, target, mars, witnesses, oil, tanker, suddenly, explode, causing, mass, hysteria, casualties, mount, due, strange, disease, spreading, smoke, blast, whopping, three, hundred, million, woolong, price, placed, head, supposed, perpetrator\\n\\nwith, lives, stake, solution, money, problems, sight, bebop, crew, springs, action, spike, jet, faye, edward, followed, closely, ein, split, pursue, different, leads, across, alba, city, individual, investigations, discover, coverup, scheme, involving, pharmaceutical, company, revealing, plot, reaches, much, ragtag, team, bounty, hunters, realized, movie, sep, , , finished, airing, original, , hr, , min, r, , , violence, , profanity]                                                                                                                                                                                                                                                                                                                                                                               |\n",
      "|trigun action adventure scifi vash the stampede is the man with a  bounty on his head the reason hes a merciless villain who lays waste to all those that oppose him and flattens entire cities for fun garnering him the title the humanoid typhoon he leaves a trail of death and destruction wherever he goes and anyone can count themselves dead if they so much as make eye contactor so the rumors say in actuality vash is a huge softie who claims to have never taken a life and avoids violence at all costs\\n\\nwith his crazy doughnut obsession and buffoonish attitude in tow vash traverses the wasteland of the planet gunsmoke all the while followed by two insurance agents meryl stryfe and milly thompson who attempt to minimize his impact on the public but soon their misadventures evolve into lifeordeath situations as a group of legendary assassins are summoned to bring about suffering to the trio vashs agonizing past will be unraveled and his morality and principles pushed to the breaking point tv apr   to sep   finished airing manga  min per ep pg  teens  or older                                                                                                                                                                                                                                                                                                                                                                 |[trigun, action, adventure, scifi, vash, the, stampede, is, the, man, with, a, , bounty, on, his, head, the, reason, hes, a, merciless, villain, who, lays, waste, to, all, those, that, oppose, him, and, flattens, entire, cities, for, fun, garnering, him, the, title, the, humanoid, typhoon, he, leaves, a, trail, of, death, and, destruction, wherever, he, goes, and, anyone, can, count, themselves, dead, if, they, so, much, as, make, eye, contactor, so, the, rumors, say, in, actuality, vash, is, a, huge, softie, who, claims, to, have, never, taken, a, life, and, avoids, violence, at, all, costs\\n\\nwith, his, crazy, doughnut, obsession, and, buffoonish, attitude, in, tow, vash, traverses, the, wasteland, of, the, planet, gunsmoke, all, the, while, followed, by, two, insurance, agents, meryl, stryfe, and, milly, thompson, who, attempt, to, minimize, his, impact, on, the, public, but, soon, their, misadventures, evolve, into, lifeordeath, situations, as, a, group, of, legendary, assassins, are, summoned, to, bring, about, suffering, to, the, trio, vashs, agonizing, past, will, be, unraveled, and, his, morality, and, principles, pushed, to, the, breaking, point, tv, apr, , , to, sep, , , finished, airing, manga, , min, per, ep, pg, , teens, , or, older]                                                                                                                                                                                                                                                                                                                                                                                                                           |[trigun, action, adventure, scifi, vash, stampede, man, , bounty, head, reason, hes, merciless, villain, lays, waste, oppose, flattens, entire, cities, fun, garnering, title, humanoid, typhoon, leaves, trail, death, destruction, wherever, goes, anyone, count, dead, much, make, eye, contactor, rumors, say, actuality, vash, huge, softie, claims, never, taken, life, avoids, violence, costs\\n\\nwith, crazy, doughnut, obsession, buffoonish, attitude, tow, vash, traverses, wasteland, planet, gunsmoke, followed, two, insurance, agents, meryl, stryfe, milly, thompson, attempt, minimize, impact, public, soon, misadventures, evolve, lifeordeath, situations, group, legendary, assassins, summoned, bring, suffering, trio, vashs, agonizing, past, unraveled, morality, principles, pushed, breaking, point, tv, apr, , , sep, , , finished, airing, manga, , min, per, ep, pg, , teens, , older]                                                                                                                                                                                                                                                                                                                                                      |\n",
      "|witch hunter robin action drama mystery supernatural robin sena is a powerful craft user drafted into the stnja group of specialized hunters that fight deadly beings known as witches though her fire power is great shes got a lot to learn about her powers and working with her cool and aloof partner amon but the truth about the witches and herself will leave robin on an entirely new path that she never expected\\n\\nsource funimation tv jul   to dec   finished airing original  min per ep pg  teens  or older                                                                                                                                                                                                                                                                                                                                                                                                                                                                                                                                                                                                                                                                                                                                                                                                                                                                                                                                                    |[witch, hunter, robin, action, drama, mystery, supernatural, robin, sena, is, a, powerful, craft, user, drafted, into, the, stnja, group, of, specialized, hunters, that, fight, deadly, beings, known, as, witches, though, her, fire, power, is, great, shes, got, a, lot, to, learn, about, her, powers, and, working, with, her, cool, and, aloof, partner, amon, but, the, truth, about, the, witches, and, herself, will, leave, robin, on, an, entirely, new, path, that, she, never, expected\\n\\nsource, funimation, tv, jul, , , to, dec, , , finished, airing, original, , min, per, ep, pg, , teens, , or, older]                                                                                                                                                                                                                                                                                                                                                                                                                                                                                                                                                                                                                                                                                                                                                                                                                                                                                                                                                                                                                                                                                                                 |[witch, hunter, robin, action, drama, mystery, supernatural, robin, sena, powerful, craft, user, drafted, stnja, group, specialized, hunters, fight, deadly, beings, known, witches, though, fire, power, great, shes, got, lot, learn, powers, working, cool, aloof, partner, amon, truth, witches, leave, robin, entirely, new, path, never, expected\\n\\nsource, funimation, tv, jul, , , dec, , , finished, airing, original, , min, per, ep, pg, , teens, , older]                                                                                                                                                                                                                                                                                                                                                                                                                                                                                                                                                                                                                                                                                                                                                                                                    |\n",
      "|bouken ou beet adventure fantasy supernatural it is the dark century and the people are suffering under the rule of the devil vandel who is able to manipulate monsters the vandel busters are a group of people who hunt these devils and among them the zenon squad is known to be the strongest busters on the continent a young boy beet dreams of joining the zenon squad however one day as a result of beets fault the zenon squad was defeated by the devil beltose the five dying busters sacrificed their life power into their five weapons saiga after giving their weapons to beet they passed away years have passed since then and the young vandel buster beet begins his adventure to carry out the zenon squads will to put an end to the dark century tv sep   to sep   finished airing manga  min per ep pg  children                                                                                                                                                                                                                                                                                                                                                                                                                                                                                                                                                                                                                                       |[bouken, ou, beet, adventure, fantasy, supernatural, it, is, the, dark, century, and, the, people, are, suffering, under, the, rule, of, the, devil, vandel, who, is, able, to, manipulate, monsters, the, vandel, busters, are, a, group, of, people, who, hunt, these, devils, and, among, them, the, zenon, squad, is, known, to, be, the, strongest, busters, on, the, continent, a, young, boy, beet, dreams, of, joining, the, zenon, squad, however, one, day, as, a, result, of, beets, fault, the, zenon, squad, was, defeated, by, the, devil, beltose, the, five, dying, busters, sacrificed, their, life, power, into, their, five, weapons, saiga, after, giving, their, weapons, to, beet, they, passed, away, years, have, passed, since, then, and, the, young, vandel, buster, beet, begins, his, adventure, to, carry, out, the, zenon, squads, will, to, put, an, end, to, the, dark, century, tv, sep, , , to, sep, , , finished, airing, manga, , min, per, ep, pg, , children]                                                                                                                                                                                                                                                                                                                                                                                                                                                                                                                                                                                                                                                                                                                                         |[bouken, ou, beet, adventure, fantasy, supernatural, dark, century, people, suffering, rule, devil, vandel, able, manipulate, monsters, vandel, busters, group, people, hunt, devils, among, zenon, squad, known, strongest, busters, continent, young, boy, beet, dreams, joining, zenon, squad, however, one, day, result, beets, fault, zenon, squad, defeated, devil, beltose, five, dying, busters, sacrificed, life, power, five, weapons, saiga, giving, weapons, beet, passed, away, years, passed, since, young, vandel, buster, beet, begins, adventure, carry, zenon, squads, put, end, dark, century, tv, sep, , , sep, , , finished, airing, manga, , min, per, ep, pg, , children]                                                                                                                                                                                                                                                                                                                                                                                                                                                                                                                                                                          |\n",
      "|eyeshield  sports shy reserved and smallstatured deimon high school student sena kobayakawa is the perfect target for bullies however as a result of running errands throughout his life sena has become agile and developed a skill for avoiding crowds of people after the cunning youichi hirumacaptain of the deimon devil bats football teamwitnesses senas rapid legs in motion he coerces the timid boy into joining his squad\\n\\nas hiruma wants to conceal senas identity from other clubs sena is forced to hide under the visored helmet of eyeshield  a mysterious running back wearing the number  jersey the legendary eyeshield  can supposedly run at the speed of light and has achieved remarkable feats in the united states during his time at the notre dame college\\n\\naccustomed to avoiding his problems in the past senas specialty might just help him become the new secret weapon of the deimon devil bats as he interacts with his teammates sena gradually gains more selfconfidence and forges valuable bonds along the way tv apr   to mar   finished airing manga  min per ep pg  teens  or older                                                                                                                                                                                                                                                                                                                                              |[eyeshield, , sports, shy, reserved, and, smallstatured, deimon, high, school, student, sena, kobayakawa, is, the, perfect, target, for, bullies, however, as, a, result, of, running, errands, throughout, his, life, sena, has, become, agile, and, developed, a, skill, for, avoiding, crowds, of, people, after, the, cunning, youichi, hirumacaptain, of, the, deimon, devil, bats, football, teamwitnesses, senas, rapid, legs, in, motion, he, coerces, the, timid, boy, into, joining, his, squad\\n\\nas, hiruma, wants, to, conceal, senas, identity, from, other, clubs, sena, is, forced, to, hide, under, the, visored, helmet, of, eyeshield, , a, mysterious, running, back, wearing, the, number, , jersey, the, legendary, eyeshield, , can, supposedly, run, at, the, speed, of, light, and, has, achieved, remarkable, feats, in, the, united, states, during, his, time, at, the, notre, dame, college\\n\\naccustomed, to, avoiding, his, problems, in, the, past, senas, specialty, might, just, help, him, become, the, new, secret, weapon, of, the, deimon, devil, bats, as, he, interacts, with, his, teammates, sena, gradually, gains, more, selfconfidence, and, forges, valuable, bonds, along, the, way, tv, apr, , , to, mar, , , finished, airing, manga, , min, per, ep, pg, , teens, , or, older]                                                                                                                                                                                                                                                                                                                                                                                                             |[eyeshield, , sports, shy, reserved, smallstatured, deimon, high, school, student, sena, kobayakawa, perfect, target, bullies, however, result, running, errands, throughout, life, sena, become, agile, developed, skill, avoiding, crowds, people, cunning, youichi, hirumacaptain, deimon, devil, bats, football, teamwitnesses, senas, rapid, legs, motion, coerces, timid, boy, joining, squad\\n\\nas, hiruma, wants, conceal, senas, identity, clubs, sena, forced, hide, visored, helmet, eyeshield, , mysterious, running, back, wearing, number, , jersey, legendary, eyeshield, , supposedly, run, speed, light, achieved, remarkable, feats, united, states, time, notre, dame, college\\n\\naccustomed, avoiding, problems, past, senas, specialty, might, help, become, new, secret, weapon, deimon, devil, bats, interacts, teammates, sena, gradually, gains, selfconfidence, forges, valuable, bonds, along, way, tv, apr, , , mar, , , finished, airing, manga, , min, per, ep, pg, , teens, , older]                                                                                                                                                                                                                                                       |\n",
      "|hachimitsu to clover comedy drama romance yuuta takemoto a sophomore at an arts college shares a cheap apartment with two seniorsthe eccentric shinobu morita who keeps failing to graduate due to his absenteeism and the sensible takumi mayama who acts as a proper senior to takemoto often looking out for him\\n\\ntakemoto had not given much thought to his future until one fine spring day when he meets the endearing hagumi hanamoto and falls in love at first sight incredibly gifted in the arts hagumi enrolls in takemotos university and soon befriends the popular pottery student ayumi yamada ayumi is already well acquainted with the three flatmates and secretly harbors deep feelings for one of them\\n\\nhachimitsu to clover is a heartwarming tale of youth love soulsearching and selfdiscovery intricately woven through the complex relationships between five dear friends tv apr   to sep   finished airing manga  min per ep pg  teens  or older                                                                                                                                                                                                                                                                                                                                                                                                                                                                                                |[hachimitsu, to, clover, comedy, drama, romance, yuuta, takemoto, a, sophomore, at, an, arts, college, shares, a, cheap, apartment, with, two, seniorsthe, eccentric, shinobu, morita, who, keeps, failing, to, graduate, due, to, his, absenteeism, and, the, sensible, takumi, mayama, who, acts, as, a, proper, senior, to, takemoto, often, looking, out, for, him\\n\\ntakemoto, had, not, given, much, thought, to, his, future, until, one, fine, spring, day, when, he, meets, the, endearing, hagumi, hanamoto, and, falls, in, love, at, first, sight, incredibly, gifted, in, the, arts, hagumi, enrolls, in, takemotos, university, and, soon, befriends, the, popular, pottery, student, ayumi, yamada, ayumi, is, already, well, acquainted, with, the, three, flatmates, and, secretly, harbors, deep, feelings, for, one, of, them\\n\\nhachimitsu, to, clover, is, a, heartwarming, tale, of, youth, love, soulsearching, and, selfdiscovery, intricately, woven, through, the, complex, relationships, between, five, dear, friends, tv, apr, , , to, sep, , , finished, airing, manga, , min, per, ep, pg, , teens, , or, older]                                                                                                                                                                                                                                                                                                                                                                                                                                                                                                                                                                                              |[hachimitsu, clover, comedy, drama, romance, yuuta, takemoto, sophomore, arts, college, shares, cheap, apartment, two, seniorsthe, eccentric, shinobu, morita, keeps, failing, graduate, due, absenteeism, sensible, takumi, mayama, acts, proper, senior, takemoto, often, looking, him\\n\\ntakemoto, given, much, thought, future, one, fine, spring, day, meets, endearing, hagumi, hanamoto, falls, love, first, sight, incredibly, gifted, arts, hagumi, enrolls, takemotos, university, soon, befriends, popular, pottery, student, ayumi, yamada, ayumi, already, well, acquainted, three, flatmates, secretly, harbors, deep, feelings, one, them\\n\\nhachimitsu, clover, heartwarming, tale, youth, love, soulsearching, selfdiscovery, intricately, woven, complex, relationships, five, dear, friends, tv, apr, , , sep, , , finished, airing, manga, , min, per, ep, pg, , teens, , older]                                                                                                                                                                                                                                                                                                                                                                      |\n",
      "|hungry heart wild striker comedy slice of life sports as the younger brother of japanese soccer star seisuke kanou kyousuke was always expected to grow as a soccer player at the same pace his brother didan expectation that proved too difficult to meet having fallen behind he now lives in the shadow of his brothers success\\n\\nentering his freshman year at jouyou akanegaoka high school kyousuke vows never to play soccer again however miki tsujiwaki the captain of the girls soccer team and mori kazuto the manager of the boys team recognize kyousukes potential and want to see his return to the game for their own reasons\\n\\nwith an opportunity to play soccer again kyousuke must either remain steadfast in his decision to abandon the sport he once loved or allow himself to reignite that flame to become the best striker in the world tv sep   to sep   finished airing manga  min per ep pg  teens  or older                                                                                                                                                                                                                                                                                                                                                                                                                                                                                                                                    |[hungry, heart, wild, striker, comedy, slice, of, life, sports, as, the, younger, brother, of, japanese, soccer, star, seisuke, kanou, kyousuke, was, always, expected, to, grow, as, a, soccer, player, at, the, same, pace, his, brother, didan, expectation, that, proved, too, difficult, to, meet, having, fallen, behind, he, now, lives, in, the, shadow, of, his, brothers, success\\n\\nentering, his, freshman, year, at, jouyou, akanegaoka, high, school, kyousuke, vows, never, to, play, soccer, again, however, miki, tsujiwaki, the, captain, of, the, girls, soccer, team, and, mori, kazuto, the, manager, of, the, boys, team, recognize, kyousukes, potential, and, want, to, see, his, return, to, the, game, for, their, own, reasons\\n\\nwith, an, opportunity, to, play, soccer, again, kyousuke, must, either, remain, steadfast, in, his, decision, to, abandon, the, sport, he, once, loved, or, allow, himself, to, reignite, that, flame, to, become, the, best, striker, in, the, world, tv, sep, , , to, sep, , , finished, airing, manga, , min, per, ep, pg, , teens, , or, older]                                                                                                                                                                                                                                                                                                                                                                                                                                                                                                                                                                                                                             |[hungry, heart, wild, striker, comedy, slice, life, sports, younger, brother, japanese, soccer, star, seisuke, kanou, kyousuke, always, expected, grow, soccer, player, pace, brother, didan, expectation, proved, difficult, meet, fallen, behind, lives, shadow, brothers, success\\n\\nentering, freshman, year, jouyou, akanegaoka, high, school, kyousuke, vows, never, play, soccer, however, miki, tsujiwaki, captain, girls, soccer, team, mori, kazuto, manager, boys, team, recognize, kyousukes, potential, want, see, return, game, reasons\\n\\nwith, opportunity, play, soccer, kyousuke, must, either, remain, steadfast, decision, abandon, sport, loved, allow, reignite, flame, become, best, striker, world, tv, sep, , , sep, , , finished, airing, manga, , min, per, ep, pg, , teens, , older]                                                                                                                                                                                                                                                                                                                                                                                                                                                          |\n",
      "|initial d fourth stage action drama takumi fujiwara finally joins ryousuke and keisuke takahashi to create project d their goal is twofold ryousuke wants to develop his highspeed street racing theory while keisuke and takumi aim at improving their driving skills by facing powerful opponents on dangerous roads the idea of project d is to challenge street racing teams from other prefectures to improve both their uphill and downhill records in order to attract the attention of the best racing teams ryousuke creates a dedicated website to announce the future battles of project d and post the teams results\\n\\nthe fourth season of initial d details the hardships and successes of the members of project d as they try to become the best street racing team outside of gunma prefecture tv apr   to feb   finished airing manga  min per ep pg  teens  or older                                                                                                                                                                                                                                                                                                                                                                                                                                                                                                                                                                                        |[initial, d, fourth, stage, action, drama, takumi, fujiwara, finally, joins, ryousuke, and, keisuke, takahashi, to, create, project, d, their, goal, is, twofold, ryousuke, wants, to, develop, his, highspeed, street, racing, theory, while, keisuke, and, takumi, aim, at, improving, their, driving, skills, by, facing, powerful, opponents, on, dangerous, roads, the, idea, of, project, d, is, to, challenge, street, racing, teams, from, other, prefectures, to, improve, both, their, uphill, and, downhill, records, in, order, to, attract, the, attention, of, the, best, racing, teams, ryousuke, creates, a, dedicated, website, to, announce, the, future, battles, of, project, d, and, post, the, teams, results\\n\\nthe, fourth, season, of, initial, d, details, the, hardships, and, successes, of, the, members, of, project, d, as, they, try, to, become, the, best, street, racing, team, outside, of, gunma, prefecture, tv, apr, , , to, feb, , , finished, airing, manga, , min, per, ep, pg, , teens, , or, older]                                                                                                                                                                                                                                                                                                                                                                                                                                                                                                                                                                                                                                                                                              |[initial, d, fourth, stage, action, drama, takumi, fujiwara, finally, joins, ryousuke, keisuke, takahashi, create, project, d, goal, twofold, ryousuke, wants, develop, highspeed, street, racing, theory, keisuke, takumi, aim, improving, driving, skills, facing, powerful, opponents, dangerous, roads, idea, project, d, challenge, street, racing, teams, prefectures, improve, uphill, downhill, records, order, attract, attention, best, racing, teams, ryousuke, creates, dedicated, website, announce, future, battles, project, d, post, teams, results\\n\\nthe, fourth, season, initial, d, details, hardships, successes, members, project, d, try, become, best, street, racing, team, outside, gunma, prefecture, tv, apr, , , feb, , , finished, airing, manga, , min, per, ep, pg, , teens, , older]                                                                                                                                                                                                                                                                                                                                                                                                                                                     |\n",
      "|monster drama mystery suspense dr kenzou tenma an elite neurosurgeon recently engaged to his hospital directors daughter is well on his way to ascending the hospital hierarchy that is until one night a seemingly small event changes dr tenmas life forever while preparing to perform surgery on someone he gets a call from the hospital director telling him to switch patients and instead perform lifesaving brain surgery on a famous performer his fellow doctors fiance and the hospital director applaud his accomplishment but because of the switch a poor immigrant worker is dead causing dr tenma to have a crisis of conscience\\n\\nso when a similar situation arises dr tenma stands his ground and chooses to perform surgery on the young boy johan liebert instead of the towns mayor unfortunately this choice leads to serious ramifications for dr tenmalosing his social standing being one of them however with the mysterious death of the director and two other doctors dr tenmas position is restored with no evidence to convict him he is released and goes on to attain the position of hospital director \\n\\nnine years later when dr tenma saves the life of a criminal his past comes back to haunt himonce again he comes face to face with the monster he operated on he must now embark on a quest of pursuit to make amends for the havoc spread by the one he saved tv apr   to sep   finished airing manga  min per ep r  mild nudity|[monster, drama, mystery, suspense, dr, kenzou, tenma, an, elite, neurosurgeon, recently, engaged, to, his, hospital, directors, daughter, is, well, on, his, way, to, ascending, the, hospital, hierarchy, that, is, until, one, night, a, seemingly, small, event, changes, dr, tenmas, life, forever, while, preparing, to, perform, surgery, on, someone, he, gets, a, call, from, the, hospital, director, telling, him, to, switch, patients, and, instead, perform, lifesaving, brain, surgery, on, a, famous, performer, his, fellow, doctors, fiance, and, the, hospital, director, applaud, his, accomplishment, but, because, of, the, switch, a, poor, immigrant, worker, is, dead, causing, dr, tenma, to, have, a, crisis, of, conscience\\n\\nso, when, a, similar, situation, arises, dr, tenma, stands, his, ground, and, chooses, to, perform, surgery, on, the, young, boy, johan, liebert, instead, of, the, towns, mayor, unfortunately, this, choice, leads, to, serious, ramifications, for, dr, tenmalosing, his, social, standing, being, one, of, them, however, with, the, mysterious, death, of, the, director, and, two, other, doctors, dr, tenmas, position, is, restored, with, no, evidence, to, convict, him, he, is, released, and, goes, on, to, attain, the, position, of, hospital, director, \\n\\nnine, years, later, when, dr, tenma, saves, the, life, of, a, criminal, his, past, comes, back, to, haunt, himonce, again, he, comes, face, to, face, with, the, monster, he, operated, on, he, must, now, embark, on, a, quest, of, pursuit, to, make, amends, for, the, havoc, spread, by, the, one, he, saved, tv, apr, , , to, sep, , , finished, airing, manga, , min, per, ep, r, , mild, nudity]|[monster, drama, mystery, suspense, dr, kenzou, tenma, elite, neurosurgeon, recently, engaged, hospital, directors, daughter, well, way, ascending, hospital, hierarchy, one, night, seemingly, small, event, changes, dr, tenmas, life, forever, preparing, perform, surgery, someone, gets, call, hospital, director, telling, switch, patients, instead, perform, lifesaving, brain, surgery, famous, performer, fellow, doctors, fiance, hospital, director, applaud, accomplishment, switch, poor, immigrant, worker, dead, causing, dr, tenma, crisis, conscience\\n\\nso, similar, situation, arises, dr, tenma, stands, ground, chooses, perform, surgery, young, boy, johan, liebert, instead, towns, mayor, unfortunately, choice, leads, serious, ramifications, dr, tenmalosing, social, standing, one, however, mysterious, death, director, two, doctors, dr, tenmas, position, restored, evidence, convict, released, goes, attain, position, hospital, director, \\n\\nnine, years, later, dr, tenma, saves, life, criminal, past, comes, back, haunt, himonce, comes, face, face, monster, operated, must, embark, quest, pursuit, make, amends, havoc, spread, one, saved, tv, apr, , , sep, , , finished, airing, manga, , min, per, ep, r, , mild, nudity]|\n",
      "|naruto action adventure fantasy moments prior to naruto uzumakis birth a huge demon known as the kyuubi the ninetailed fox attacked konohagakure the hidden leaf village and wreaked havoc in order to put an end to the kyuubis rampage the leader of the village the fourth hokage sacrificed his life and sealed the monstrous beast inside the newborn naruto\\n\\nnow naruto is a hyperactive and knuckleheaded ninja still living in konohagakure shunned because of the kyuubi inside him naruto struggles to find his place in the village while his burning desire to become the hokage of konohagakure leads him not only to some great new friends but also some deadly foes tv oct   to feb   finished airing manga  min per ep pg  teens  or older                                                                                                                                                                                                                                                                                                                                                                                                                                                                                                                                                                                                                                                                                                                   |[naruto, action, adventure, fantasy, moments, prior, to, naruto, uzumakis, birth, a, huge, demon, known, as, the, kyuubi, the, ninetailed, fox, attacked, konohagakure, the, hidden, leaf, village, and, wreaked, havoc, in, order, to, put, an, end, to, the, kyuubis, rampage, the, leader, of, the, village, the, fourth, hokage, sacrificed, his, life, and, sealed, the, monstrous, beast, inside, the, newborn, naruto\\n\\nnow, naruto, is, a, hyperactive, and, knuckleheaded, ninja, still, living, in, konohagakure, shunned, because, of, the, kyuubi, inside, him, naruto, struggles, to, find, his, place, in, the, village, while, his, burning, desire, to, become, the, hokage, of, konohagakure, leads, him, not, only, to, some, great, new, friends, but, also, some, deadly, foes, tv, oct, , , to, feb, , , finished, airing, manga, , min, per, ep, pg, , teens, , or, older]                                                                                                                                                                                                                                                                                                                                                                                                                                                                                                                                                                                                                                                                                                                                                                                                                                            |[naruto, action, adventure, fantasy, moments, prior, naruto, uzumakis, birth, huge, demon, known, kyuubi, ninetailed, fox, attacked, konohagakure, hidden, leaf, village, wreaked, havoc, order, put, end, kyuubis, rampage, leader, village, fourth, hokage, sacrificed, life, sealed, monstrous, beast, inside, newborn, naruto\\n\\nnow, naruto, hyperactive, knuckleheaded, ninja, still, living, konohagakure, shunned, kyuubi, inside, naruto, struggles, find, place, village, burning, desire, become, hokage, konohagakure, leads, great, new, friends, also, deadly, foes, tv, oct, , , feb, , , finished, airing, manga, , min, per, ep, pg, , teens, , older]                                                                                                                                                                                                                                                                                                                                                                                                                                                                                                                                                                                                   |\n",
      "|one piece action adventure fantasy gol d roger was known as the pirate king the strongest and most infamous being to have sailed the grand line the capture and execution of roger by the world government brought a change throughout the world his last words before his death revealed the existence of the greatest treasure in the world one piece it was this revelation that brought about the grand age of pirates men who dreamed of finding one piecewhich promises an unlimited amount of riches and fameand quite possibly the pinnacle of glory and the title of the pirate king\\n\\nenter monkey d luffy a yearold boy who defies your standard definition of a pirate rather than the popular persona of a wicked hardened toothless pirate ransacking villages for fun luffys reason for being a pirate is one of pure wonder the thought of an exciting adventure that leads him to intriguing people and ultimately the promised treasure following in the footsteps of his childhood hero luffy and his crew travel across the grand line experiencing crazy adventures unveiling dark mysteries and battling strong enemies all in order to reach the most coveted of all fortunesone piece tv oct   to  currently airing manga  min pg  teens  or older                                                                                                                                                                                                     |[one, piece, action, adventure, fantasy, gol, d, roger, was, known, as, the, pirate, king, the, strongest, and, most, infamous, being, to, have, sailed, the, grand, line, the, capture, and, execution, of, roger, by, the, world, government, brought, a, change, throughout, the, world, his, last, words, before, his, death, revealed, the, existence, of, the, greatest, treasure, in, the, world, one, piece, it, was, this, revelation, that, brought, about, the, grand, age, of, pirates, men, who, dreamed, of, finding, one, piecewhich, promises, an, unlimited, amount, of, riches, and, fameand, quite, possibly, the, pinnacle, of, glory, and, the, title, of, the, pirate, king\\n\\nenter, monkey, d, luffy, a, yearold, boy, who, defies, your, standard, definition, of, a, pirate, rather, than, the, popular, persona, of, a, wicked, hardened, toothless, pirate, ransacking, villages, for, fun, luffys, reason, for, being, a, pirate, is, one, of, pure, wonder, the, thought, of, an, exciting, adventure, that, leads, him, to, intriguing, people, and, ultimately, the, promised, treasure, following, in, the, footsteps, of, his, childhood, hero, luffy, and, his, crew, travel, across, the, grand, line, experiencing, crazy, adventures, unveiling, dark, mysteries, and, battling, strong, enemies, all, in, order, to, reach, the, most, coveted, of, all, fortunesone, piece, tv, oct, , , to, , currently, airing, manga, , min, pg, , teens, , or, older]                                                                                                                                                                                                                                            |[one, piece, action, adventure, fantasy, gol, d, roger, known, pirate, king, strongest, infamous, sailed, grand, line, capture, execution, roger, world, government, brought, change, throughout, world, last, words, death, revealed, existence, greatest, treasure, world, one, piece, revelation, brought, grand, age, pirates, men, dreamed, finding, one, piecewhich, promises, unlimited, amount, riches, fameand, quite, possibly, pinnacle, glory, title, pirate, king\\n\\nenter, monkey, d, luffy, yearold, boy, defies, standard, definition, pirate, rather, popular, persona, wicked, hardened, toothless, pirate, ransacking, villages, fun, luffys, reason, pirate, one, pure, wonder, thought, exciting, adventure, leads, intriguing, people, ultimately, promised, treasure, following, footsteps, childhood, hero, luffy, crew, travel, across, grand, line, experiencing, crazy, adventures, unveiling, dark, mysteries, battling, strong, enemies, order, reach, coveted, fortunesone, piece, tv, oct, , , , currently, airing, manga, , min, pg, , teens, , older]                                                                                                                                                                                    |\n",
      "|tennis no oujisama sports at the request of his father tennis prodigy ryouma echizen has returned from america and is ready to take the japanese tennis scene by storm aiming to become the best tennis player in the country he enrolls in seishun academyhome to one of the best middle school tennis teams in japan \\n\\nafter ryouma catches the captains eye he finds himself playing for a spot on the starting lineup in the intraschool ranking matches despite only being a freshman due to his age the rest of the seishun boys tennis team are initially reluctant to accept him but his skill and determination convinces them to let him in\\n\\narmed with their new super rookie seishun sets out to claim a spot in the national tournament hoping to take the coveted title for themselves in order to do so the team must qualify by playing through the tokyo prefectural and kanto regionals yet the road ahead of them is shared by a plethora of strong schools each playing tennis in unique ways for their own reasons ryouma and his teammates must learn to cooperate if they want to become the champions they aspire to be tv oct   to mar   finished airing manga  min per ep pg  teens  or older                                                                                                                                                                                                                                                     |[tennis, no, oujisama, sports, at, the, request, of, his, father, tennis, prodigy, ryouma, echizen, has, returned, from, america, and, is, ready, to, take, the, japanese, tennis, scene, by, storm, aiming, to, become, the, best, tennis, player, in, the, country, he, enrolls, in, seishun, academyhome, to, one, of, the, best, middle, school, tennis, teams, in, japan, \\n\\nafter, ryouma, catches, the, captains, eye, he, finds, himself, playing, for, a, spot, on, the, starting, lineup, in, the, intraschool, ranking, matches, despite, only, being, a, freshman, due, to, his, age, the, rest, of, the, seishun, boys, tennis, team, are, initially, reluctant, to, accept, him, but, his, skill, and, determination, convinces, them, to, let, him, in\\n\\narmed, with, their, new, super, rookie, seishun, sets, out, to, claim, a, spot, in, the, national, tournament, hoping, to, take, the, coveted, title, for, themselves, in, order, to, do, so, the, team, must, qualify, by, playing, through, the, tokyo, prefectural, and, kanto, regionals, yet, the, road, ahead, of, them, is, shared, by, a, plethora, of, strong, schools, each, playing, tennis, in, unique, ways, for, their, own, reasons, ryouma, and, his, teammates, must, learn, to, cooperate, if, they, want, to, become, the, champions, they, aspire, to, be, tv, oct, , , to, mar, , , finished, airing, manga, , min, per, ep, pg, , teens, , or, older]                                                                                                                                                                                                                                                                                        |[tennis, oujisama, sports, request, father, tennis, prodigy, ryouma, echizen, returned, america, ready, take, japanese, tennis, scene, storm, aiming, become, best, tennis, player, country, enrolls, seishun, academyhome, one, best, middle, school, tennis, teams, japan, \\n\\nafter, ryouma, catches, captains, eye, finds, playing, spot, starting, lineup, intraschool, ranking, matches, despite, freshman, due, age, rest, seishun, boys, tennis, team, initially, reluctant, accept, skill, determination, convinces, let, in\\n\\narmed, new, super, rookie, seishun, sets, claim, spot, national, tournament, hoping, take, coveted, title, order, team, must, qualify, playing, tokyo, prefectural, kanto, regionals, yet, road, ahead, shared, plethora, strong, schools, playing, tennis, unique, ways, reasons, ryouma, teammates, must, learn, cooperate, want, become, champions, aspire, tv, oct, , , mar, , , finished, airing, manga, , min, per, ep, pg, , teens, , older]                                                                                                                                                                                                                                                                              |\n",
      "|ring ni kakero  action sports in order to fulfill their dead fathers wish the siblings takane kiku and takane ryuji aim for the champion title of the boxing arena their sister kiku will act as the trainer while her brother ryuji will concentrate on the role of the boxer and learn the boomerang his battle with many rivals has led to the growth and maturing of ryuji the junior high boxing tournament has begun and ryuji will be fighting his archrival kenzaki jun the battle begins\\n\\nsource ann tv oct   to dec   finished airing manga  min per ep pg  children                                                                                                                                                                                                                                                                                                                                                                                                                                                                                                                                                                                                                                                                                                                                                                                                                                                                                                |[ring, ni, kakero, , action, sports, in, order, to, fulfill, their, dead, fathers, wish, the, siblings, takane, kiku, and, takane, ryuji, aim, for, the, champion, title, of, the, boxing, arena, their, sister, kiku, will, act, as, the, trainer, while, her, brother, ryuji, will, concentrate, on, the, role, of, the, boxer, and, learn, the, boomerang, his, battle, with, many, rivals, has, led, to, the, growth, and, maturing, of, ryuji, the, junior, high, boxing, tournament, has, begun, and, ryuji, will, be, fighting, his, archrival, kenzaki, jun, the, battle, begins\\n\\nsource, ann, tv, oct, , , to, dec, , , finished, airing, manga, , min, per, ep, pg, , children]                                                                                                                                                                                                                                                                                                                                                                                                                                                                                                                                                                                                                                                                                                                                                                                                                                                                                                                                                                                                                                                  |[ring, ni, kakero, , action, sports, order, fulfill, dead, fathers, wish, siblings, takane, kiku, takane, ryuji, aim, champion, title, boxing, arena, sister, kiku, act, trainer, brother, ryuji, concentrate, role, boxer, learn, boomerang, battle, many, rivals, led, growth, maturing, ryuji, junior, high, boxing, tournament, begun, ryuji, fighting, archrival, kenzaki, jun, battle, begins\\n\\nsource, ann, tv, oct, , , dec, , , finished, airing, manga, , min, per, ep, pg, , children]                                                                                                                                                                                                                                                                                                                                                                                                                                                                                                                                                                                                                                                                                                                                                                        |\n",
      "|school rumble comedy romance just the words i love you and everything changessuch is the nature of the bittersweet trials of high school romance tenma tsukamoto a second year is on a quest to confess her feelings to the boy she likes kenji harima a delinquent with a sizable reputation is in a similar situation as he cannot properly convey his feelings to the one he loves between school friends rivalries and hobbies these two will find that high school romance is no walk in the park especially as misunderstandings further complicate their plight\\n\\nschool rumble is a highoctane romantic comedy full of relatable situations as tenma and kenji both try to win the hearts of those they desire tv oct   to mar   finished airing manga  min per ep pg  teens  or older                                                                                                                                                                                                                                                                                                                                                                                                                                                                                                                                                                                                                                                                                 |[school, rumble, comedy, romance, just, the, words, i, love, you, and, everything, changessuch, is, the, nature, of, the, bittersweet, trials, of, high, school, romance, tenma, tsukamoto, a, second, year, is, on, a, quest, to, confess, her, feelings, to, the, boy, she, likes, kenji, harima, a, delinquent, with, a, sizable, reputation, is, in, a, similar, situation, as, he, cannot, properly, convey, his, feelings, to, the, one, he, loves, between, school, friends, rivalries, and, hobbies, these, two, will, find, that, high, school, romance, is, no, walk, in, the, park, especially, as, misunderstandings, further, complicate, their, plight\\n\\nschool, rumble, is, a, highoctane, romantic, comedy, full, of, relatable, situations, as, tenma, and, kenji, both, try, to, win, the, hearts, of, those, they, desire, tv, oct, , , to, mar, , , finished, airing, manga, , min, per, ep, pg, , teens, , or, older]                                                                                                                                                                                                                                                                                                                                                                                                                                                                                                                                                                                                                                                                                                                                                                                                  |[school, rumble, comedy, romance, words, love, everything, changessuch, nature, bittersweet, trials, high, school, romance, tenma, tsukamoto, second, year, quest, confess, feelings, boy, likes, kenji, harima, delinquent, sizable, reputation, similar, situation, properly, convey, feelings, one, loves, school, friends, rivalries, hobbies, two, find, high, school, romance, walk, park, especially, misunderstandings, complicate, plight\\n\\nschool, rumble, highoctane, romantic, comedy, full, relatable, situations, tenma, kenji, try, win, hearts, desire, tv, oct, , , mar, , , finished, airing, manga, , min, per, ep, pg, , teens, , older]                                                                                                                                                                                                                                                                                                                                                                                                                                                                                                                                                                                                             |\n",
      "|sunabouzu action adventure comedy scifi ecchi the great kanto desert a sweltering wasteland of nothing but ruins and sand is all that remains of postapocalyptic japan the once fair population has been left to cling to the inhospitable dunes for survival at least that is the case for normal people for those who have spent a little too long in the kanto sun the desert offers a wondrous opportunity to make a name for themselves\\n\\none such person is the masked handyman sunabouzu or desert punk who has forged a legendary reputation for always finishing his jobs no matter the nature or cost cunning and ruthless he has become a force of crude destruction to the other desert people however the vixen of the desert junko asagiri discovers that sunabouzu is not without his weaknesseshe is easily swayed by his insatiable lust for largebreasted desert babes \\n\\nfollowing their chaotic adventures through the kanto desert sunabouzu features a bizarre cast of personalities who entertain themselves with senseless violence and perversion in a world long destroyed by their forefathers and just like them they have not learned a damn thing tv oct   to mar   finished airing manga  min per ep r   violence  profanity                                                                                                                                                                                                                   |[sunabouzu, action, adventure, comedy, scifi, ecchi, the, great, kanto, desert, a, sweltering, wasteland, of, nothing, but, ruins, and, sand, is, all, that, remains, of, postapocalyptic, japan, the, once, fair, population, has, been, left, to, cling, to, the, inhospitable, dunes, for, survival, at, least, that, is, the, case, for, normal, people, for, those, who, have, spent, a, little, too, long, in, the, kanto, sun, the, desert, offers, a, wondrous, opportunity, to, make, a, name, for, themselves\\n\\none, such, person, is, the, masked, handyman, sunabouzu, or, desert, punk, who, has, forged, a, legendary, reputation, for, always, finishing, his, jobs, no, matter, the, nature, or, cost, cunning, and, ruthless, he, has, become, a, force, of, crude, destruction, to, the, other, desert, people, however, the, vixen, of, the, desert, junko, asagiri, discovers, that, sunabouzu, is, not, without, his, weaknesseshe, is, easily, swayed, by, his, insatiable, lust, for, largebreasted, desert, babes, \\n\\nfollowing, their, chaotic, adventures, through, the, kanto, desert, sunabouzu, features, a, bizarre, cast, of, personalities, who, entertain, themselves, with, senseless, violence, and, perversion, in, a, world, long, destroyed, by, their, forefathers, and, just, like, them, they, have, not, learned, a, damn, thing, tv, oct, , , to, mar, , , finished, airing, manga, , min, per, ep, r, , , violence, , profanity]                                                                                                                                                                                                                                                               |[sunabouzu, action, adventure, comedy, scifi, ecchi, great, kanto, desert, sweltering, wasteland, nothing, ruins, sand, remains, postapocalyptic, japan, fair, population, left, cling, inhospitable, dunes, survival, least, case, normal, people, spent, little, long, kanto, sun, desert, offers, wondrous, opportunity, make, name, themselves\\n\\none, person, masked, handyman, sunabouzu, desert, punk, forged, legendary, reputation, always, finishing, jobs, matter, nature, cost, cunning, ruthless, become, force, crude, destruction, desert, people, however, vixen, desert, junko, asagiri, discovers, sunabouzu, without, weaknesseshe, easily, swayed, insatiable, lust, largebreasted, desert, babes, \\n\\nfollowing, chaotic, adventures, kanto, desert, sunabouzu, features, bizarre, cast, personalities, entertain, senseless, violence, perversion, world, long, destroyed, forefathers, like, learned, damn, thing, tv, oct, , , mar, , , finished, airing, manga, , min, per, ep, r, , , violence, , profanity]                                                                                                                                                                                                                                    |\n",
      "|texhnolyze action drama scifi in the dark underground city of lux people live in fear and despair under the rule of various criminal factions almost secluded from the surface the gangs only interaction with the outer world is their mining operation of raffia which is the raison dtre of the city\\n\\navailable only in lux this rare substance is the basis of texhnolyze transplants that permit humans to replace parts of their body with cybernetic prostheses the latter have the particularity not to trigger an immune response in their hosts and the class has the privilege to conduct research on them this elusive organization also in charge of the raffia production delegates its executive authority to a group called organo led by keigo oonishia selfrighteous man with texhnolyzed legs who is rumored to hear the voice of the city\\n\\nthe fragile balance of powers in lux is disturbed when a mysterious visitor named kazuho yoshii begins committing a series of crimes that puts the gangs at each others throats in the midst of the chaos new actors emerge ichise an exboxer mutilated by organo and recently texhnolyzed by eriko doc kamata and ran a young florist who can see the future while lux steadily plunges into insanity both ichise and ran find themselves involved in the greatest crisis the city has ever faced tv apr   to sep   finished airing original  min per ep r  mild nudity                                     |[texhnolyze, action, drama, scifi, in, the, dark, underground, city, of, lux, people, live, in, fear, and, despair, under, the, rule, of, various, criminal, factions, almost, secluded, from, the, surface, the, gangs, only, interaction, with, the, outer, world, is, their, mining, operation, of, raffia, which, is, the, raison, dtre, of, the, city\\n\\navailable, only, in, lux, this, rare, substance, is, the, basis, of, texhnolyze, transplants, that, permit, humans, to, replace, parts, of, their, body, with, cybernetic, prostheses, the, latter, have, the, particularity, not, to, trigger, an, immune, response, in, their, hosts, and, the, class, has, the, privilege, to, conduct, research, on, them, this, elusive, organization, also, in, charge, of, the, raffia, production, delegates, its, executive, authority, to, a, group, called, organo, led, by, keigo, oonishia, selfrighteous, man, with, texhnolyzed, legs, who, is, rumored, to, hear, the, voice, of, the, city\\n\\nthe, fragile, balance, of, powers, in, lux, is, disturbed, when, a, mysterious, visitor, named, kazuho, yoshii, begins, committing, a, series, of, crimes, that, puts, the, gangs, at, each, others, throats, in, the, midst, of, the, chaos, new, actors, emerge, ichise, an, exboxer, mutilated, by, organo, and, recently, texhnolyzed, by, eriko, doc, kamata, and, ran, a, young, florist, who, can, see, the, future, while, lux, steadily, plunges, into, insanity, both, ichise, and, ran, find, themselves, involved, in, the, greatest, crisis, the, city, has, ever, faced, tv, apr, , , to, sep, , , finished, airing, original, , min, per, ep, r, , mild, nudity]                                                 |[texhnolyze, action, drama, scifi, dark, underground, city, lux, people, live, fear, despair, rule, various, criminal, factions, almost, secluded, surface, gangs, interaction, outer, world, mining, operation, raffia, raison, dtre, city\\n\\navailable, lux, rare, substance, basis, texhnolyze, transplants, permit, humans, replace, parts, body, cybernetic, prostheses, latter, particularity, trigger, immune, response, hosts, class, privilege, conduct, research, elusive, organization, also, charge, raffia, production, delegates, executive, authority, group, called, organo, led, keigo, oonishia, selfrighteous, man, texhnolyzed, legs, rumored, hear, voice, city\\n\\nthe, fragile, balance, powers, lux, disturbed, mysterious, visitor, named, kazuho, yoshii, begins, committing, series, crimes, puts, gangs, others, throats, midst, chaos, new, actors, emerge, ichise, exboxer, mutilated, organo, recently, texhnolyzed, eriko, doc, kamata, ran, young, florist, see, future, lux, steadily, plunges, insanity, ichise, ran, find, involved, greatest, crisis, city, ever, faced, tv, apr, , , sep, , , finished, airing, original, , min, per, ep, r, , mild, nudity]                                                                         |\n",
      "|trinity blood action supernatural following armageddon an apocalyptic war mankind faces yet another menace vampires the continuous confrontations between the races have split the world into separate factions the race of vampires methuselah are affiliated with the new human empire whereas the humans deemed terrans by the vampires make up the vatican papal state furthermore extremist groups like the rosenkreuz order strive to rekindle a war despite the factions attempts to avoid direct conflict\\n\\nto combat terrorist organizations the vatican has implemented the ax unit led by cardinal caterina sforza the ax agents investigate vampirerelated disturbances with hopes that the terrans and the methuselah will one day achieve peaceful coexistence amongst the ax unit is priest abel nightroada seemingly disoriented but gentlehearted fellow who is a fierce vampire slayer on the battlefield joining the unit as his partner is agent sister esther blanchett a brave and gentle young nun troubled with a tragic past \\n\\nas the two grow closer they begin to uncover signs of malicious schemes and dark forces working in the shadows but the path they walk is riddled with misfortune that might just force them to confront the memories that plague their hearts tv apr   to oct   finished airing light novel  min per ep r   violence  profanity                                                                                      |[trinity, blood, action, supernatural, following, armageddon, an, apocalyptic, war, mankind, faces, yet, another, menace, vampires, the, continuous, confrontations, between, the, races, have, split, the, world, into, separate, factions, the, race, of, vampires, methuselah, are, affiliated, with, the, new, human, empire, whereas, the, humans, deemed, terrans, by, the, vampires, make, up, the, vatican, papal, state, furthermore, extremist, groups, like, the, rosenkreuz, order, strive, to, rekindle, a, war, despite, the, factions, attempts, to, avoid, direct, conflict\\n\\nto, combat, terrorist, organizations, the, vatican, has, implemented, the, ax, unit, led, by, cardinal, caterina, sforza, the, ax, agents, investigate, vampirerelated, disturbances, with, hopes, that, the, terrans, and, the, methuselah, will, one, day, achieve, peaceful, coexistence, amongst, the, ax, unit, is, priest, abel, nightroada, seemingly, disoriented, but, gentlehearted, fellow, who, is, a, fierce, vampire, slayer, on, the, battlefield, joining, the, unit, as, his, partner, is, agent, sister, esther, blanchett, a, brave, and, gentle, young, nun, troubled, with, a, tragic, past, \\n\\nas, the, two, grow, closer, they, begin, to, uncover, signs, of, malicious, schemes, and, dark, forces, working, in, the, shadows, but, the, path, they, walk, is, riddled, with, misfortune, that, might, just, force, them, to, confront, the, memories, that, plague, their, hearts, tv, apr, , , to, oct, , , finished, airing, light, novel, , min, per, ep, r, , , violence, , profanity]                                                                                                                         |[trinity, blood, action, supernatural, following, armageddon, apocalyptic, war, mankind, faces, yet, another, menace, vampires, continuous, confrontations, races, split, world, separate, factions, race, vampires, methuselah, affiliated, new, human, empire, whereas, humans, deemed, terrans, vampires, make, vatican, papal, state, furthermore, extremist, groups, like, rosenkreuz, order, strive, rekindle, war, despite, factions, attempts, avoid, direct, conflict\\n\\nto, combat, terrorist, organizations, vatican, implemented, ax, unit, led, cardinal, caterina, sforza, ax, agents, investigate, vampirerelated, disturbances, hopes, terrans, methuselah, one, day, achieve, peaceful, coexistence, amongst, ax, unit, priest, abel, nightroada, seemingly, disoriented, gentlehearted, fellow, fierce, vampire, slayer, battlefield, joining, unit, partner, agent, sister, esther, blanchett, brave, gentle, young, nun, troubled, tragic, past, \\n\\nas, two, grow, closer, begin, uncover, signs, malicious, schemes, dark, forces, working, shadows, path, walk, riddled, misfortune, might, force, confront, memories, plague, hearts, tv, apr, , , oct, , , finished, airing, light, novel, , min, per, ep, r, , , violence, , profanity]         |\n",
      "|yakitate japan comedy gourmet while countries such as france england and germany all have their own internationally celebrated bread japan simply does not have one that can match in reputation\\n\\nthus after discovering the wonders of breadmaking at a young age kazuma azuma embarks on a quest to create japans own unique national bread and being blessed with unusually warm hands that allow dough to ferment faster azuma is able to bring his baking innovations to another level\\n\\nas he begins working at the prestigious japanese bakery chain pantasia azuma encounters other talented bakers and experiences firsthand the competitive world of baking along with his newfound friends and rivals azuma strives to create new and unparalleled bread that will start a baking revolution tv oct   to mar   finished airing manga  min per ep pg  teens  or older                                                                                                                                                                                                                                                                                                                                                                                                                                                                                                                                                                                              |[yakitate, japan, comedy, gourmet, while, countries, such, as, france, england, and, germany, all, have, their, own, internationally, celebrated, bread, japan, simply, does, not, have, one, that, can, match, in, reputation\\n\\nthus, after, discovering, the, wonders, of, breadmaking, at, a, young, age, kazuma, azuma, embarks, on, a, quest, to, create, japans, own, unique, national, bread, and, being, blessed, with, unusually, warm, hands, that, allow, dough, to, ferment, faster, azuma, is, able, to, bring, his, baking, innovations, to, another, level\\n\\nas, he, begins, working, at, the, prestigious, japanese, bakery, chain, pantasia, azuma, encounters, other, talented, bakers, and, experiences, firsthand, the, competitive, world, of, baking, along, with, his, newfound, friends, and, rivals, azuma, strives, to, create, new, and, unparalleled, bread, that, will, start, a, baking, revolution, tv, oct, , , to, mar, , , finished, airing, manga, , min, per, ep, pg, , teens, , or, older]                                                                                                                                                                                                                                                                                                                                                                                                                                                                                                                                                                                                                                                                                                            |[yakitate, japan, comedy, gourmet, countries, france, england, germany, internationally, celebrated, bread, japan, simply, one, match, reputation\\n\\nthus, discovering, wonders, breadmaking, young, age, kazuma, azuma, embarks, quest, create, japans, unique, national, bread, blessed, unusually, warm, hands, allow, dough, ferment, faster, azuma, able, bring, baking, innovations, another, level\\n\\nas, begins, working, prestigious, japanese, bakery, chain, pantasia, azuma, encounters, talented, bakers, experiences, firsthand, competitive, world, baking, along, newfound, friends, rivals, azuma, strives, create, new, unparalleled, bread, start, baking, revolution, tv, oct, , , mar, , , finished, airing, manga, , min, per, ep, pg, , teens, , older]                                                                                                                                                                                                                                                                                                                                                                                                                                                                                            |\n",
      "|zipang action drama scifi mirai an improved kongouclass aegis guided missile destroyer is one of the newest and most advanced ships in the entire japanese self defense force sdf her crew also one of the newest is lead by capt umezu saburo and executive officer kadomatsu yosuke while running scheduled training exercises one day mirai encounters a fierce storm that throws their navigation systems into temporary disarray after a few minutes of recovery the crew is shocked to discover that theyve been transported back in time to june  the battle of midway during world war ii letting history take its course for this battle they manage to avoid the conflict firsthand and make a vow to remain anonymous changing history as little as possible however when the crew comes across the dying lt commander kusaka takumi xo kadomatsus instincts to save lives takes over changing the course of history more than he couldve imagined\\n\\nsource ann tv oct   to apr   finished airing manga  min per ep pg  teens  or older                                                                                                                                                                                                                                                                                                                                                                                                                             |[zipang, action, drama, scifi, mirai, an, improved, kongouclass, aegis, guided, missile, destroyer, is, one, of, the, newest, and, most, advanced, ships, in, the, entire, japanese, self, defense, force, sdf, her, crew, also, one, of, the, newest, is, lead, by, capt, umezu, saburo, and, executive, officer, kadomatsu, yosuke, while, running, scheduled, training, exercises, one, day, mirai, encounters, a, fierce, storm, that, throws, their, navigation, systems, into, temporary, disarray, after, a, few, minutes, of, recovery, the, crew, is, shocked, to, discover, that, theyve, been, transported, back, in, time, to, june, , the, battle, of, midway, during, world, war, ii, letting, history, take, its, course, for, this, battle, they, manage, to, avoid, the, conflict, firsthand, and, make, a, vow, to, remain, anonymous, changing, history, as, little, as, possible, however, when, the, crew, comes, across, the, dying, lt, commander, kusaka, takumi, xo, kadomatsus, instincts, to, save, lives, takes, over, changing, the, course, of, history, more, than, he, couldve, imagined\\n\\nsource, ann, tv, oct, , , to, apr, , , finished, airing, manga, , min, per, ep, pg, , teens, , or, older]                                                                                                                                                                                                                                                                                                                                                                                                                                                                                                        |[zipang, action, drama, scifi, mirai, improved, kongouclass, aegis, guided, missile, destroyer, one, newest, advanced, ships, entire, japanese, self, defense, force, sdf, crew, also, one, newest, lead, capt, umezu, saburo, executive, officer, kadomatsu, yosuke, running, scheduled, training, exercises, one, day, mirai, encounters, fierce, storm, throws, navigation, systems, temporary, disarray, minutes, recovery, crew, shocked, discover, theyve, transported, back, time, june, , battle, midway, world, war, ii, letting, history, take, course, battle, manage, avoid, conflict, firsthand, make, vow, remain, anonymous, changing, history, little, possible, however, crew, comes, across, dying, lt, commander, kusaka, takumi, xo, kadomatsus, instincts, save, lives, takes, changing, course, history, couldve, imagined\\n\\nsource, ann, tv, oct, , , apr, , , finished, airing, manga, , min, per, ep, pg, , teens, , older]                                                                                                                                                                                                                                                                                                                     |\n",
      "+--------------------------------------------------------------------------------------------------------------------------------------------------------------------------------------------------------------------------------------------------------------------------------------------------------------------------------------------------------------------------------------------------------------------------------------------------------------------------------------------------------------------------------------------------------------------------------------------------------------------------------------------------------------------------------------------------------------------------------------------------------------------------------------------------------------------------------------------------------------------------------------------------------------------------------------------------------------------------------------------------------------------------------------------------------------------------------------------------------------------------------------------------------------------------------------------------------------------------------------------------------------------------------------------------------------------------------------------------------------------------------------------------------------------------------------------------------------------------------+---------------------------------------------------------------------------------------------------------------------------------------------------------------------------------------------------------------------------------------------------------------------------------------------------------------------------------------------------------------------------------------------------------------------------------------------------------------------------------------------------------------------------------------------------------------------------------------------------------------------------------------------------------------------------------------------------------------------------------------------------------------------------------------------------------------------------------------------------------------------------------------------------------------------------------------------------------------------------------------------------------------------------------------------------------------------------------------------------------------------------------------------------------------------------------------------------------------------------------------------------------------------------------------------------------------------------------------------------------------------------------------------------------------------------------------------------------------------------------------------------------------------------------------------------------------------------------------------------------------------------------------------------------------------------------------------------------------------------------------------+--------------------------------------------------------------------------------------------------------------------------------------------------------------------------------------------------------------------------------------------------------------------------------------------------------------------------------------------------------------------------------------------------------------------------------------------------------------------------------------------------------------------------------------------------------------------------------------------------------------------------------------------------------------------------------------------------------------------------------------------------------------------------------------------------------------------------------------------------------------------------------------------------------------------------------------------------------------------------------------------------------------------------------------------------------------------------------------------------------------------------------------------------------------------------------------------------------------------------------------------------------------------------+\n",
      "only showing top 20 rows"
     ]
    }
   ],
   "source": [
    "from pyspark.sql.functions import lower, regexp_replace, split\n",
    "from pyspark.ml.feature import StopWordsRemover\n",
    "\n",
    "# Texto en minusculas y eliminar caracteres especiales\n",
    "data = data.withColumn(\"processed_text\", lower(col(\"combined_text\")))\n",
    "data = data.withColumn(\"processed_text\", regexp_replace(col(\"processed_text\"), \"[^a-zA-Z\\\\s]\", \"\"))\n",
    "\n",
    "# Convertir la columna 'processed_text' en un array de palabras\n",
    "data = data.withColumn(\"words\", split(col(\"processed_text\"), \" \"))\n",
    "\n",
    "# Eliminar stopwords \n",
    "remover = StopWordsRemover(inputCol=\"words\", outputCol=\"filtered_text\")\n",
    "data = remover.transform(data)\n",
    "\n",
    "data.select(\"processed_text\", \"words\", \"filtered_text\").show(truncate=False)"
   ]
  },
  {
   "cell_type": "code",
   "execution_count": 22,
   "metadata": {},
   "outputs": [
    {
     "data": {
      "application/vnd.jupyter.widget-view+json": {
       "model_id": "",
       "version_major": 2,
       "version_minor": 0
      },
      "text/plain": [
       "FloatProgress(value=0.0, bar_style='info', description='Progress:', layout=Layout(height='25px', width='50%'),…"
      ]
     },
     "metadata": {},
     "output_type": "display_data"
    },
    {
     "name": "stdout",
     "output_type": "stream",
     "text": [
      "+--------+---------------------------------------------------------------------------------------------------------------------------------------------------------------------------------------------------------------------------------------------------------------------------------------------------------------------------------------------------------------------------------------------------------------------------------------------------------------------------------------------------------------------------------------------------------------------------------------------------------------------------------------------------------------------------------------------------------------------------------------------------------------------------------------------------------------------------------------------------------------------------------------------------------------------------------------------------------------------------------------------------------------------------------------------------------------------------------------------------------------------------------------------------------------------------------------------------------------------------------------------------------------------------------------------------------------------------------------------------------------------------------------------------------------------------------------------------------------------------------------------------------------------------------------------------------------------------------------------------------------------------------------------------------------------------------------------------------------------------------------------------------------------------------------------------------------------------------------------------------------------------------------------------------------------------------------------------------------------------------------------------------------------------------------------------------------------------------------------------------------------------------------------------------------------------------------------------------------------------------------------------------------------------------------------------------------------------------------------------------------------------------------------------------------------------------------------------------------------------------------------------------------------------------------------------------------------------------------------------------------------------------------------------------------------------------------------------------------------------------------------------------------------------------------------------------------------------------------------------------------------------------------------------------------------------------------------------------------------------------------------------------------------------------------------------------------------+\n",
      "|anime_id|features                                                                                                                                                                                                                                                                                                                                                                                                                                                                                                                                                                                                                                                                                                                                                                                                                                                                                                                                                                                                                                                                                                                                                                                                                                                                                                                                                                                                                                                                                                                                                                                                                                                                                                                                                                                                                                                                                                                                                                                                                                                                                                                                                                                                                                                                                                                                                                                                                                                                                                                                                                                                                                                                                                                                                                                                                                                                                                                                                                                                                                                             |\n",
      "+--------+---------------------------------------------------------------------------------------------------------------------------------------------------------------------------------------------------------------------------------------------------------------------------------------------------------------------------------------------------------------------------------------------------------------------------------------------------------------------------------------------------------------------------------------------------------------------------------------------------------------------------------------------------------------------------------------------------------------------------------------------------------------------------------------------------------------------------------------------------------------------------------------------------------------------------------------------------------------------------------------------------------------------------------------------------------------------------------------------------------------------------------------------------------------------------------------------------------------------------------------------------------------------------------------------------------------------------------------------------------------------------------------------------------------------------------------------------------------------------------------------------------------------------------------------------------------------------------------------------------------------------------------------------------------------------------------------------------------------------------------------------------------------------------------------------------------------------------------------------------------------------------------------------------------------------------------------------------------------------------------------------------------------------------------------------------------------------------------------------------------------------------------------------------------------------------------------------------------------------------------------------------------------------------------------------------------------------------------------------------------------------------------------------------------------------------------------------------------------------------------------------------------------------------------------------------------------------------------------------------------------------------------------------------------------------------------------------------------------------------------------------------------------------------------------------------------------------------------------------------------------------------------------------------------------------------------------------------------------------------------------------------------------------------------------------------------------+\n",
      "|1       |(2000,[4,31,76,78,132,159,182,203,224,231,240,273,297,298,323,329,350,378,396,422,428,449,489,496,513,519,526,547,560,585,596,622,633,680,681,693,719,731,733,748,830,832,859,877,888,899,931,951,961,1013,1023,1026,1048,1054,1074,1083,1084,1097,1101,1106,1110,1133,1161,1165,1168,1188,1233,1244,1273,1275,1278,1281,1303,1310,1311,1313,1330,1349,1362,1372,1387,1389,1390,1396,1447,1459,1477,1513,1514,1525,1536,1558,1582,1626,1632,1654,1663,1670,1676,1690,1706,1733,1740,1776,1846,1851,1860,1932,1948,1949,1955,1980],[4.613475680653116,4.262077793815228,9.772844108902289,0.8990152952801188,8.456922366032487,0.05679003752521338,3.9142739911844653,5.195610332123889,3.275920877695714,4.09699804345578,2.8318892391381123,3.6835136461809954,3.1298488943481333,0.6711473257296415,2.965128533031187,4.693518388326653,4.8864220544511445,4.31472152730065,4.609435271116111,4.715692245820975,4.671825563715393,4.1800646421543926,4.870590589234464,4.733792287464593,3.8275980158414478,4.38307110510186,2.1221792327663453,1.077398288495145,3.553382596866798,2.218529175195999,4.172221464693367,4.456437329168661,1.6264859655787764,3.5339375397475745,2.771064148223317,11.32642442287525,3.309419417770198,4.360812634500917,4.613475680653116,1.1151295454015726,2.840102837675501,3.9284586261764214,4.182692764560662,4.409131211771725,5.0924260958886585,3.195306111002777,4.389522740383348,4.0225450652610295,4.766277742609081,5.079438900361847,2.840102837675501,5.805375903744784,3.532562969084408,3.9419082886803776,3.6867136489116663,3.273797734647636,4.729236470928732,3.9469967471753327,4.056755927177346,4.449540750109601,4.918857330204299,2.239040802388941,4.10427080278486,0.6730344154546152,4.689142013726854,2.609700472047018,3.5001276933312537,3.8537677335748324,3.6170799571528653,7.163668036182381,0.019747220495823888,4.613475680653116,4.2535671041473195,3.754676830930601,4.439284249942412,4.6422250939391025,3.197268820170626,0.03381017778612208,2.1486753479950824,0.03765998896538397,5.5378965386105214,4.376660826740941,5.022997589456895,5.270833753361477,3.968005923264676,2.920202820757856,1.8551583525186681,2.680371294486653,4.6422250939391025,3.0521399100208173,2.774920194132407,4.13390260039123,4.0225450652610295,4.520745196401393,4.775756486563625,5.247666694079943,2.0426266010643914,5.1055841804661695,3.1720492488385097,3.4520976964352195,5.335131063195607,4.212067373240567,4.875839945120608,8.593727819801288,16.24000144790628,3.9449199032304936,4.946714284707265,4.477417119637856,6.272595115749334,4.491652235459728,2.762124114222816,3.884539392241586])                                                                                                                                                                                                                                                                                                                                                                                         |\n",
      "|5       |(2000,[7,35,48,78,81,103,130,132,159,166,170,191,216,219,226,264,267,269,316,329,350,376,392,423,468,524,534,561,581,591,595,614,622,633,651,653,681,683,689,693,748,758,767,783,815,824,829,870,911,924,929,942,1030,1064,1074,1106,1116,1133,1147,1175,1253,1258,1278,1304,1309,1349,1362,1367,1372,1390,1411,1424,1439,1462,1477,1495,1513,1518,1528,1536,1563,1577,1632,1663,1684,1705,1706,1738,1776,1784,1846,1925,1928,1955],[3.2590606258281394,4.605411120816386,3.6230769766252395,0.8990152952801188,5.01087622892455,3.934599894198504,4.345211694058437,8.456922366032487,0.05679003752521338,6.223300059861454,4.004766819239745,4.8550058582177655,4.958078043357579,5.118917711335635,4.573787932385874,3.9637686287891607,4.302781086928732,4.987065580230832,4.38307110510186,4.693518388326653,4.8864220544511445,3.791362167387403,4.256395960347797,4.539367708499395,3.2161092386325403,7.070628004912595,5.053959815060862,4.335966635914386,3.2281939778476123,2.3696697473967525,2.1698972263579623,4.247933286429063,4.456437329168661,3.252971931157553,4.881117002221451,2.7557869574000815,2.771064148223317,3.5148633919850067,3.3717625483443334,11.32642442287525,1.1151295454015726,7.415534116218997,4.6298025739405455,5.548153038777711,1.9761549650777752,3.7044990813448826,5.01087622892455,4.432504562957034,2.370099208429765,4.646400465349583,4.27642524222337,3.724269082745886,4.270661537506619,4.0203054226675246,3.6867136489116663,4.449540750109601,4.573787932385874,2.239040802388941,4.7023290180088075,4.311723024304394,4.3671218036941815,4.121449139319943,0.019747220495823888,3.3282774364045946,5.634227647548954,0.03381017778612208,2.1486753479950824,3.038637595183178,0.02929110252863198,5.022997589456895,4.154156457295728,3.8556634687397313,1.6464928203851115,3.9469967471753327,1.8551583525186681,3.1682251524001064,2.680371294486653,4.13390260039123,4.849864458717347,2.774920194132407,4.689142013726854,4.684784708357898,4.775756486563625,2.0426266010643914,3.8923825697026118,4.335966635914386,5.335131063195607,4.513392222096134,4.296863909900644,4.761571851571668,5.41333381596876,3.075346795923798,4.335966635914386,2.762124114222816])                                                                                                                                                                                                                                                                                                                                                                                                                                                                                                                                                                                                                                                                                                                                                                                                                                  |\n",
      "|6       |(2000,[12,82,89,144,159,180,198,223,270,279,281,298,316,319,320,326,344,367,374,395,402,416,424,475,483,503,516,522,524,547,551,554,569,592,595,597,605,610,633,644,666,669,678,711,728,760,788,793,799,810,824,833,878,881,887,931,944,1002,1041,1054,1057,1064,1109,1122,1165,1186,1224,1275,1278,1281,1340,1341,1349,1350,1372,1386,1394,1406,1424,1457,1466,1477,1490,1513,1525,1536,1541,1602,1611,1663,1667,1706,1725,1746,1766,1770,1788,1836,1852,1862,1886,1961,1972],[4.929907166390883,5.153050717705093,4.3390388349513564,1.995164164463322,0.05679003752521338,4.8550058582177655,3.489545584000717,5.167036959679833,4.684784708357898,3.9916375277979532,3.5993017111315813,0.6711473257296415,4.38307110510186,4.004766819239745,3.729273263330462,4.357672914496249,3.1874935712659833,4.654803876145962,4.296863909900644,4.201285597637278,3.3788048309697465,4.7023290180088075,4.466872206461241,1.6094780642078104,4.1800646421543926,4.747585609596928,0.66480456142466,4.370291378455461,3.5353140024562975,1.077398288495145,3.7478391974529974,4.463381801521472,2.9314346872447143,3.2653499547357034,2.1698972263579623,1.0559322286002673,3.9872991261993547,4.756888002259243,1.6264859655787764,3.7012417494745757,4.412436999906224,3.6051927443688188,4.470374837012443,5.079438900361847,5.0289790858006205,1.0173287596710374,5.1055841804661695,4.27642524222337,4.018070784866109,5.7040234094844955,3.7044990813448826,1.7490794091602124,5.645527202802887,3.765021750772994,3.2141092379658733,4.389522740383348,3.545002659560047,4.123927455334411,3.106254333386875,1.9709541443401888,3.7967145441259946,4.0203054226675246,15.180806952762381,4.562182386265566,0.6730344154546152,5.343740524169564,4.650593343609619,3.5818340180911905,0.019747220495823888,4.613475680653116,3.7176355592502524,4.342120501488765,0.03381017778612208,2.3396400009450566,0.03347554574700798,5.888757512683834,3.4546357688636906,4.149054405411833,3.8556634687397313,4.4738897791198875,4.711217965426054,1.8551583525186681,4.946714284707265,2.680371294486653,3.0521399100208173,2.774920194132407,5.422383651488677,3.4648529714103455,3.9808266116937374,2.0426266010643914,3.9786783831554478,5.335131063195607,3.6867136489116663,1.4643448897744213,3.162516288179786,3.206148996927485,4.539367708499395,3.823914770425151,4.48095694634298,3.609633906368787,3.6066709412381295,4.929907166390883,4.585529750262557])                                                                                                                                                                                                                                                                                                                                                                                                                                                                                                                                                                                                  |\n",
      "|7       |(2000,[10,17,23,53,60,69,78,116,144,159,230,281,298,379,413,417,516,526,547,585,597,633,639,697,750,760,913,943,995,1056,1165,1191,1246,1278,1349,1368,1372,1385,1395,1440,1459,1471,1511,1516,1589,1655,1668,1670,1690,1766,1776,1784,1789,1882,1893,1967],[4.0921787570198305,4.09699804345578,4.998900037877835,3.520276125091757,2.696314944883789,2.920202820757856,0.8990152952801188,2.6396196012072437,1.995164164463322,0.05679003752521338,3.638228781645842,3.5993017111315813,0.6711473257296415,4.193274873891199,4.190618829833083,14.978895907074062,0.66480456142466,2.1221792327663453,1.077398288495145,2.218529175195999,1.0559322286002673,1.6264859655787764,4.902508192202769,1.9065056848949378,3.6215743467407044,1.0173287596710374,3.3463570249089107,4.429131878478394,3.744437833629507,3.038637595183178,0.6730344154546152,4.31472152730065,3.209126666621409,0.019747220495823888,0.03381017778612208,5.468903667123571,0.02929110252863198,3.561833351384521,5.01087622892455,3.0048478128157607,2.920202820757856,2.5299937294362755,4.1853278121986675,5.041459652296631,2.9919651869847472,5.612004510764244,4.354543021487322,5.1055841804661695,3.4520976964352195,3.162516288179786,8.593727819801288,4.761571851571668,3.9701313225769894,4.376660826740941,2.052895868221252,3.536692362426419])                                                                                                                                                                                                                                                                                                                                                                                                                                                                                                                                                                                                                                                                                                                                                                                                                                                                                                                                                                                                                                                                                                                                                                                                                                                                                                                                                                                                                                                                                                                                                                                                                                                                                                                             |\n",
      "|8       |(2000,[60,87,131,152,157,159,263,287,298,343,361,399,413,442,453,454,507,516,547,595,644,663,697,799,801,815,833,860,871,911,926,999,1056,1095,1133,1165,1178,1182,1278,1349,1361,1362,1372,1393,1449,1477,1496,1559,1580,1589,1608,1666,1725,1728,1737,1746,1765,1766,1770,1809,1841,1859,1894,1903,1905,1971,1974],[2.696314944883789,4.236759985830938,4.844749358050577,5.645527202802887,1.9978249199133484,0.05679003752521338,5.9807329312421,3.536692362426419,0.6711473257296415,4.484509347947348,1.6230204641999693,3.9872991261993547,4.190618829833083,2.841478353710811,3.3906533108138874,3.7376696182833684,4.456437329168661,0.66480456142466,1.077398288495145,4.339794452715925,7.4024834989491515,5.053959815060862,3.8130113697898755,4.018070784866109,4.621605806736367,1.9761549650777752,3.498158818320425,4.389522740383348,3.316034656888917,2.370099208429765,12.548078293681986,3.3682599177931314,3.038637595183178,8.287956504759943,2.239040802388941,0.6730344154546152,4.865368645253312,3.9595492132464525,0.019747220495823888,0.03381017778612208,13.110874135366382,2.1486753479950824,0.025106659310255984,15.859746330988848,19.85523487226626,1.8551583525186681,3.6007712191109413,4.099416424320061,9.772844108902289,2.9919651869847472,4.998900037877835,4.3298504088969505,3.6867136489116663,3.8424681783208987,3.550581474587086,1.4643448897744213,3.8405972703850875,3.162516288179786,3.206148996927485,5.115177470764325,8.370655624397335,1.5000503440011725,3.9325486114279466,4.663278503136935,20.0435049156982,5.517693831293003,6.711041784031403])                                                                                                                                                                                                                                                                                                                                                                                                                                                                                                                                                                                                                                                                                                                                                                                                                                                                                                                                                                                                                                                                                                                                                                                                                                                                                                                                                                                                                                                        |\n",
      "|15      |(2000,[49,75,116,131,132,140,157,159,239,263,264,266,298,317,322,331,349,365,383,399,430,435,437,452,473,516,519,547,585,597,629,630,639,648,679,700,743,745,748,760,840,870,881,896,911,940,943,954,1029,1054,1056,1082,1090,1096,1104,1112,1114,1124,1165,1194,1230,1239,1275,1278,1347,1349,1365,1372,1373,1391,1394,1425,1448,1477,1522,1536,1563,1580,1598,1630,1667,1671,1690,1694,1720,1724,1746,1789,1801,1813,1823,1838,1868,1876,1884,1892,1893,1924,1948,1968,1993],[3.6676654539409714,12.855400710345464,2.6396196012072437,4.844749358050577,4.228461183016243,3.5934451790188686,3.995649839826697,0.05679003752521338,5.386665568886598,2.99036646562105,3.9637686287891607,3.80569933053381,0.6711473257296415,3.7427414803813286,3.9449199032304936,5.167036959679833,2.9172288408707296,3.906257916196229,7.808527795178729,3.9872991261993547,3.117982027568234,4.1800646421543926,4.323771362820568,5.0169185433805135,14.740133593319017,0.66480456142466,4.38307110510186,1.077398288495145,2.218529175195999,1.0559322286002673,4.360812634500917,5.310679661908677,19.610032768811077,4.671825563715393,2.350111300812352,4.342120501488765,2.9216931339994154,9.939144845566629,1.1151295454015726,1.0173287596710374,3.3293978847010846,4.432504562957034,3.765021750772994,5.459424923169027,2.370099208429765,3.5905297250587442,4.429131878478394,5.5902645241278375,2.5264717132168975,1.9709541443401888,3.038637595183178,5.459424923169027,5.652901497014347,4.282222359907696,5.728414862608655,4.865368645253312,2.865861310189021,5.558515825813258,0.6730344154546152,4.109148861238292,5.047690202047267,5.029113816474331,3.5818340180911905,0.019747220495823888,2.7308324497665026,0.03381017778612208,3.075346795923798,0.046028875402135974,4.027039454848869,2.7016864886857,3.4546357688636906,5.645527202802887,5.65695589862651,1.8551583525186681,5.386665568886598,2.774920194132407,4.689142013726854,9.772844108902289,4.654803876145962,14.147076737462925,3.9786783831554478,4.061407098353077,3.4520976964352195,8.824873999812448,2.9127843891103056,1.9111096199058963,1.4643448897744213,3.9701313225769894,4.738368954492005,4.379860829471611,4.799854038142685,3.9366553933806,4.756888002259243,3.8923825697026118,4.924366986015268,3.472584968693672,2.052895868221252,3.9701313225769894,3.136297557874667,4.528152637679255,3.279114068274869])                                                                                                                                                                                                                                                                                                                                                                                                                                                                                                                                                                                                                                                    |\n",
      "|16      |(2000,[1,7,55,57,58,108,123,144,148,157,159,197,232,240,256,298,357,360,363,383,403,428,431,452,460,465,488,511,516,524,526,547,575,594,595,597,647,679,728,760,765,815,839,850,897,932,969,1022,1041,1054,1073,1132,1133,1144,1165,1187,1192,1199,1246,1261,1278,1304,1326,1333,1349,1357,1372,1373,1401,1405,1465,1511,1513,1536,1556,1577,1644,1678,1723,1746,1762,1770,1804,1815,1849,1851,1871,1895,1907,1925,1974],[4.087382584756337,3.2590606258281394,3.9387151263436104,4.422420443890407,4.706763615076674,4.073130562049136,4.0475179861924095,3.990328328926644,3.493500763843645,1.9978249199133484,0.05679003752521338,3.0261426387863337,2.4288797555690333,5.663778478276225,4.834596986586559,0.6711473257296415,5.3606900824833374,4.439284249942412,5.302582451676057,3.9042638975893644,2.656636461065613,4.671825563715393,4.506092919614522,5.0169185433805135,4.804744023436878,5.327073471684352,2.6664094621048844,4.429131878478394,0.66480456142466,3.5353140024562975,2.1221792327663453,1.077398288495145,5.562760329835866,4.217502169226523,2.1698972263579623,1.0559322286002673,7.008250067527748,2.350111300812352,2.5144895429003102,2.034657519342075,7.780832001461142,3.9523099301555504,4.061407098353077,4.402552240673682,3.7226065719722725,4.566035955581556,5.153050717705093,3.9162880905561663,3.106254333386875,1.9709541443401888,3.4111236222249137,4.573787932385874,2.239040802388941,3.58907517934775,0.6730344154546152,4.633926291124407,4.212067373240567,2.6756956576810533,3.209126666621409,5.18122159467179,0.019747220495823888,3.3282774364045946,4.546914914134778,4.998900037877835,0.03381017778612208,4.009181837448863,0.02929110252863198,4.027039454848869,3.9851369631948597,4.389522740383348,4.562182386265566,4.1853278121986675,2.680371294486653,2.774920194132407,4.4738897791198875,4.684784708357898,3.1026733089691687,4.174829028100448,4.195937991310683,1.4643448897744213,4.262077793815228,3.206148996927485,7.4652467004314875,3.922354843238404,4.5583436099584,3.9449199032304936,9.335085803846784,4.396016269693897,9.284450187878205,3.075346795923798,3.3555208920157016])                                                                                                                                                                                                                                                                                                                                                                                                                                                                                                                                                                                                                                                                                                                                                                                                                                                                                                |\n",
      "|17      |(2000,[23,35,116,119,155,159,171,173,193,232,278,281,291,298,346,365,404,468,482,516,547,550,559,595,597,604,635,679,681,743,760,763,792,835,850,899,904,911,924,945,975,976,983,1011,1023,1033,1051,1090,1126,1164,1165,1170,1205,1221,1270,1278,1321,1328,1329,1349,1354,1360,1372,1393,1444,1471,1476,1477,1513,1531,1619,1652,1691,1712,1746,1751,1756,1789,1808,1820,1939,1940,1993],[4.998900037877835,4.605411120816386,2.6396196012072437,9.449402631526683,6.869018606668664,0.05679003752521338,4.099416424320061,7.255196922688171,3.9469967471753327,1.2144398777845167,4.715692245820975,3.5993017111315813,7.140712260493007,0.6711473257296415,3.131687130159884,3.906257916196229,4.250746227805678,6.432218477265081,3.9366553933806,0.66480456142466,1.077398288495145,4.502463151563944,4.470374837012443,4.339794452715925,1.0559322286002673,7.422091499142393,3.1710918528821823,2.350111300812352,2.771064148223317,2.9216931339994154,1.0173287596710374,3.4074806309464125,4.697913999799691,3.8111292081281793,22.01276120336841,3.195306111002777,3.2653499547357034,2.370099208429765,4.646400465349583,4.897117343567893,2.49726894514864,4.222966663698602,4.435888660941274,3.611118687636366,2.840102837675501,5.18122159467179,5.369273826174729,2.8264507485071735,5.066618211932786,14.54959337615204,0.6730344154546152,4.009181837448863,4.693518388326653,5.174104126902925,5.327073471684352,0.019747220495823888,4.187969821661506,3.6291101774294074,4.379860829471611,0.03381017778612208,3.6867136489116663,2.142156196411425,0.02929110252863198,5.286582110329616,4.907928259672108,2.5299937294362755,2.4353252510794645,1.8551583525186681,2.680371294486653,4.554519513519997,3.2706214482292157,3.756393569549656,3.4816818475405023,6.346015124560642,1.4643448897744213,4.849864458717347,4.3087334854560275,3.9701313225769894,3.5675071254704287,4.907928259672108,3.3882723573081455,3.778983583154763,3.279114068274869])                                                                                                                                                                                                                                                                                                                                                                                                                                                                                                                                                                                                                                                                                                                                                                                                                                                                                                                                                                                                                                                                                     |\n",
      "|18      |(2000,[30,49,109,131,144,153,159,163,216,230,256,264,298,330,358,369,400,405,408,440,468,488,516,540,547,568,583,597,633,654,693,760,763,867,890,895,1020,1053,1054,1070,1089,1090,1107,1128,1132,1144,1154,1165,1180,1226,1241,1246,1278,1308,1349,1372,1404,1405,1417,1440,1468,1476,1550,1614,1634,1684,1746,1817,1935,1958,1973,1974],[3.427065100222602,3.6676654539409714,4.729236470928732,4.844749358050577,1.995164164463322,4.449540750109601,0.05679003752521338,3.608151326408564,4.958078043357579,14.552915126583368,4.834596986586559,7.927537257578321,0.6711473257296415,5.6685167210275855,2.8595343998042573,4.282222359907696,4.849864458717347,22.078768762661092,4.676126645614784,6.448298965902212,3.2161092386325403,2.6664094621048844,0.66480456142466,4.0921787570198305,1.077398288495145,3.8943530136899107,15.356753134006905,1.0559322286002673,1.6264859655787764,4.891755400426507,3.7754748076250837,3.0519862790131125,6.814961261892825,3.4987987894812003,25.23997172804195,4.506092919614522,8.47908325758563,5.053959815060862,1.9709541443401888,4.799854038142685,4.08260930600368,2.8264507485071735,5.294550279978792,4.573787932385874,9.147575864771747,3.58907517934775,4.6804463067593005,0.6730344154546152,13.675030829875201,2.9951703179336953,4.491652235459728,3.209126666621409,0.019747220495823888,5.139257395572757,0.03381017778612208,0.02929110252863198,4.1800646421543926,4.389522740383348,4.149054405411833,6.0096956256315215,4.799854038142685,2.4353252510794645,4.345211694058437,3.8462205279394492,4.742966663740634,11.677147709107835,1.4643448897744213,3.2071405686497796,3.638228781645842,3.5257183153944425,5.286582110329616,3.3555208920157016])                                                                                                                                                                                                                                                                                                                                                                                                                                                                                                                                                                                                                                                                                                                                                                                                                                                                                                                                                                                                                                                                                                                                                                                                                                                                                                                                     |\n",
      "|19      |(2000,[34,46,48,53,54,103,138,144,157,159,222,228,275,298,317,345,349,376,385,395,402,430,442,461,487,495,500,527,547,560,575,589,595,600,612,634,651,676,728,776,809,815,823,832,838,867,869,911,912,930,966,973,989,1023,1039,1046,1054,1098,1105,1114,1117,1136,1144,1146,1165,1171,1173,1255,1275,1276,1278,1339,1340,1349,1352,1362,1369,1372,1373,1391,1412,1427,1439,1449,1452,1456,1459,1475,1477,1513,1525,1530,1555,1623,1637,1644,1665,1671,1688,1728,1746,1751,1780,1800,1809,1822,1853,1911,1913,1955,1959,1962],[10.882795384032256,4.756888002259243,10.86923092987572,3.520276125091757,7.828547982368931,3.934599894198504,9.772844108902289,1.995164164463322,3.995649839826697,0.05679003752521338,3.587622746267435,3.542224879996145,4.195937991310683,0.6711473257296415,3.7427414803813286,5.132431430502358,2.9172288408707296,3.791362167387403,5.43151613505195,4.201285597637278,3.3788048309697465,3.117982027568234,2.841478353710811,4.621605806736367,4.392764234307519,3.9808266116937374,28.99014864218629,6.7908645848604765,1.077398288495145,3.553382596866798,2.781380164917933,4.128902589974524,2.1698972263579623,4.671825563715393,5.004870204864338,4.14651310798316,4.881117002221451,4.875839945120608,2.5144895429003102,7.715125609086767,2.808977185647632,5.928464895233326,4.780529765316283,3.9284586261764214,4.724701315763341,3.4987987894812003,3.396630614922347,2.370099208429765,4.566035955581556,21.804063172504584,4.958078043357579,5.43151613505195,4.975369540467641,2.840102837675501,5.1055841804661695,4.633926291124407,1.9709541443401888,13.101365411082543,19.258385279519555,2.865861310189021,4.929907166390883,3.7478391974529974,3.58907517934775,3.995994833166909,0.6730344154546152,4.040645106904647,9.012185839229044,4.987065580230832,3.5818340180911905,4.684784708357898,0.019747220495823888,8.576106560436978,3.7176355592502524,0.03381017778612208,3.524354988666578,2.1486753479950824,14.69135203070368,0.025106659310255984,4.027039454848869,2.7016864886857,4.824546650733057,4.8550058582177655,1.6464928203851115,4.963808718066565,4.38307110510186,5.422383651488677,5.840405641515712,4.233986058948212,3.7103167050373362,2.680371294486653,3.0521399100208173,4.317729048364605,4.1800646421543926,3.838729856210292,7.861003055612444,3.1026733089691687,6.965976366909116,4.061407098353077,3.6443543750725245,3.8424681783208987,1.4643448897744213,4.849864458717347,3.898305588005734,3.287679431133792,2.5575887353821627,4.697913999799691,14.091974072273029,4.7949878484915125,4.715692245820975,5.524248228445632,3.80569933053381,4.6422250939391025])                                                                                                                                                                                                                                                                                                                                                                                                 |\n",
      "|20      |(2000,[0,51,103,159,173,193,198,224,243,264,298,353,376,390,396,404,453,465,516,547,585,592,596,597,633,648,750,760,799,833,850,857,861,871,893,923,959,973,1066,1090,1146,1165,1199,1226,1278,1299,1325,1335,1349,1372,1446,1471,1476,1477,1510,1522,1526,1588,1589,1651,1712,1746,1765,1792,1800,1857,1859,1861],[3.6321404827785866,16.37827476950708,3.934599894198504,0.05679003752521338,3.6275984613440855,3.9469967471753327,6.979091168001434,3.275920877695714,4.941080466989009,3.9637686287891607,0.6711473257296415,3.528450557531315,3.791362167387403,3.297403981025787,4.609435271116111,8.501492455611356,3.3906533108138874,5.327073471684352,0.66480456142466,1.077398288495145,2.218529175195999,3.2653499547357034,4.172221464693367,1.0559322286002673,1.6264859655787764,4.671825563715393,3.6215743467407044,1.0173287596710374,4.018070784866109,1.7490794091602124,4.402552240673682,2.03430221200486,4.399278915328713,3.316034656888917,3.798505054899783,4.946714284707265,4.918857330204299,5.43151613505195,7.9832750555959064,2.8264507485071735,3.995994833166909,0.6730344154546152,2.6756956576810533,2.9951703179336953,0.019747220495823888,4.3639622434038134,4.386291719801902,4.470374837012443,0.03381017778612208,0.02929110252863198,4.38307110510186,2.5299937294362755,2.4353252510794645,1.8551583525186681,2.8278076008184634,5.386665568886598,3.870960134115205,19.832312173430317,2.9919651869847472,11.103725248423727,3.173007562280321,1.4643448897744213,3.8405972703850875,2.8149912365173875,3.287679431133792,3.4974716492731375,1.5000503440011725,9.89342856941453])                                                                                                                                                                                                                                                                                                                                                                                                                                                                                                                                                                                                                                                                                                                                                                                                                                                                                                                                                                                                                                                                                                                                                                                                                                                                                                                                                                                                                                      |\n",
      "|21      |(2000,[1,13,30,50,55,56,69,72,74,144,148,152,157,159,166,218,237,259,263,319,352,353,355,376,386,387,402,494,498,516,547,578,580,585,586,597,633,646,659,662,681,697,723,758,760,761,791,815,833,837,847,857,866,879,890,892,923,944,967,982,1017,1074,1119,1133,1177,1182,1204,1222,1226,1231,1245,1278,1304,1328,1348,1360,1372,1414,1457,1548,1559,1570,1585,1589,1590,1602,1652,1706,1728,1736,1746,1802,1837,1859,1918,1933,1935,1936,1948,1985,1989],[4.087382584756337,8.303204354981263,3.427065100222602,8.328878648502624,3.9387151263436104,3.949077913379157,2.920202820757856,4.247933286429063,5.210209131545041,1.995164164463322,3.493500763843645,5.645527202802887,1.9978249199133484,0.05679003752521338,3.111650029930727,4.684784708357898,4.891755400426507,4.520745196401393,2.99036646562105,4.004766819239745,4.225710149644353,3.528450557531315,3.5094797989015345,3.791362167387403,4.6298025739405455,3.6739746231342365,3.3788048309697465,3.316034656888917,4.897117343567893,0.66480456142466,1.077398288495145,4.360812634500917,4.288053280218489,2.218529175195999,3.9595492132464525,1.0559322286002673,1.6264859655787764,4.891755400426507,3.7807425985599425,3.6066709412381295,2.771064148223317,1.9065056848949378,3.9387151263436104,3.7077670581094986,2.034657519342075,4.849864458717347,3.5818340180911905,7.904619860311101,3.498158818320425,4.442691408264026,4.063740821699297,2.03430221200486,4.089777795482292,5.066618211932786,8.413323909347318,8.391875982621366,4.946714284707265,3.545002659560047,4.174829028100448,5.318842972547837,4.638067083790439,3.6867136489116663,4.415753752532218,6.717122407166824,4.38307110510186,7.919098426492905,5.65695589862651,4.535615358880844,2.9951703179336953,4.671825563715393,3.922354843238404,0.019747220495823888,3.3282774364045946,7.258220354858815,3.656719293043474,6.4264685892342746,0.025106659310255984,3.6739746231342365,8.947779558239775,3.5561915874778527,4.099416424320061,4.392764234307519,3.106254333386875,2.9919651869847472,9.024283706743892,3.4648529714103455,18.78196784774828,2.6675655315978033,3.8424681783208987,3.279114068274869,2.9286897795488427,4.084993097358956,4.589474528553573,1.5000503440011725,4.785325937579776,5.918171397890128,3.638228781645842,4.0475179861924095,6.272595115749334,5.286582110329616,3.5646662144688253])                                                                                                                                                                                                                                                                                                                                                                                                                                                                                                                                                                                                                                                                              |\n",
      "|22      |(2000,[37,114,115,140,157,159,218,257,267,268,298,300,313,355,434,435,447,468,508,516,517,547,554,555,557,585,597,604,616,648,652,657,679,688,702,708,718,738,743,747,760,763,781,791,796,815,850,852,855,857,864,937,950,956,1017,1023,1069,1090,1165,1166,1180,1226,1278,1286,1301,1304,1329,1341,1349,1372,1385,1404,1428,1443,1476,1572,1602,1712,1719,1724,1725,1743,1746,1775,1787,1796,1800,1844,1870,1878,1888,1910,1917,1967,1968,1984,1993],[3.0220121083370435,3.906257916196229,4.38307110510186,3.5934451790188686,1.9978249199133484,0.05679003752521338,4.684784708357898,4.2735392373342345,4.302781086928732,4.405836315874872,0.6711473257296415,8.058588494471916,4.066080004052469,3.5094797989015345,5.459424923169027,4.1800646421543926,3.8690352057056208,6.432218477265081,4.351422894151078,0.66480456142466,5.680212760790777,2.15479657699029,4.463381801521472,2.525467697068299,3.8405972703850875,2.218529175195999,1.0559322286002673,3.7110457495711966,4.004766819239745,4.671825563715393,4.0225450652610295,4.463381801521472,2.350111300812352,5.302582451676057,4.351422894151078,3.3338922742889237,16.29454840515585,4.780529765316283,2.9216931339994154,3.4370030702127345,1.0173287596710374,6.814961261892825,12.386707769923573,3.5818340180911905,3.545002659560047,1.9761549650777752,4.402552240673682,4.775756486563625,4.281578284399783,2.03430221200486,3.942847363628521,4.790145224015725,4.875839945120608,32.49557565757372,4.638067083790439,8.520308513026503,5.0169185433805135,5.652901497014347,0.6730344154546152,4.573787932385874,4.5583436099584,2.9951703179336953,0.019747220495823888,3.075346795923798,3.508138417077333,3.3282774364045946,4.379860829471611,4.342120501488765,0.03381017778612208,0.02929110252863198,3.561833351384521,4.1800646421543926,3.6412868880046627,4.470374837012443,2.4353252510794645,4.118976950174555,6.929705942820691,3.173007562280321,5.18122159467179,1.9111096199058963,3.6867136489116663,4.351422894151078,1.4643448897744213,4.684784708357898,3.0858364025948175,4.293918399670886,3.287679431133792,4.415753752532218,3.791362167387403,3.906257916196229,15.316752541398508,3.940779110564462,9.485933327481268,3.536692362426419,4.528152637679255,4.790145224015725,3.279114068274869])                                                                                                                                                                                                                                                                                                                                                                                                                                                                                                                                                                                                                                                                                                                                                          |\n",
      "|23      |(2000,[61,106,115,116,159,256,265,291,298,320,325,339,351,361,381,395,402,495,516,547,558,576,593,633,754,775,780,798,857,859,887,928,1095,1137,1165,1188,1226,1278,1349,1350,1361,1372,1446,1521,1536,1602,1646,1695,1734,1743,1746,1776,1870,1893,1967,1993],[3.8963273479936285,3.995994833166909,4.38307110510186,2.6396196012072437,0.05679003752521338,4.834596986586559,5.029113816474331,3.5703561302465037,0.6711473257296415,3.729273263330462,3.6899239245419144,4.389522740383348,3.233272708926628,1.6230204641999693,4.667542901923392,4.201285597637278,3.3788048309697465,3.9808266116937374,0.66480456142466,1.077398288495145,4.018070784866109,4.212067373240567,3.8613723329600513,1.6264859655787764,2.3438153723555373,4.697913999799691,4.535615358880844,3.7598359137406288,2.03430221200486,4.182692764560662,6.428218475931747,4.169620682993309,8.287956504759943,5.139257395572757,0.6730344154546152,2.609700472047018,2.9951703179336953,0.019747220495823888,0.03381017778612208,2.3396400009450566,8.740582756910921,0.02929110252863198,4.38307110510186,3.6367032283370047,2.774920194132407,3.4648529714103455,11.836342795780256,18.37373971907868,2.363676578773298,4.351422894151078,1.4643448897744213,4.296863909900644,3.791362167387403,2.052895868221252,3.536692362426419,3.279114068274869])                                                                                                                                                                                                                                                                                                                                                                                                                                                                                                                                                                                                                                                                                                                                                                                                                                                                                                                                                                                                                                                                                                                                                                                                                                                                                                                                                                                                                                                                                                                                                                                                                                                                                                                            |\n",
      "|24      |(2000,[29,72,108,116,142,157,159,173,193,232,240,298,344,355,388,398,424,472,483,516,526,547,575,597,679,693,728,760,765,803,815,857,861,897,899,999,1046,1088,1097,1105,1136,1156,1165,1166,1176,1185,1199,1215,1234,1256,1278,1332,1349,1372,1473,1510,1555,1611,1620,1644,1686,1724,1746,1863,1896],[4.101840667931567,4.247933286429063,8.146261124098272,5.279239202414487,4.8295591925566015,1.9978249199133484,0.05679003752521338,3.6275984613440855,3.9469967471753327,2.4288797555690333,2.8318892391381123,0.6711473257296415,6.374987142531967,3.5094797989015345,10.589100559957584,3.6835136461809954,4.466872206461241,5.18122159467179,4.1800646421543926,0.66480456142466,6.366537698299036,1.077398288495145,2.781380164917933,1.0559322286002673,9.400445203249408,3.7754748076250837,2.5144895429003102,1.0173287596710374,3.890416000730571,4.299818121798075,1.9761549650777752,2.03430221200486,4.399278915328713,3.7226065719722725,3.195306111002777,3.3682599177931314,4.633926291124407,5.488135029051458,3.9469967471753327,9.629192639759777,3.7478391974529974,3.8825881721103244,0.6730344154546152,4.573787932385874,4.907928259672108,4.870590589234464,2.6756956576810533,4.412436999906224,4.0025665983301435,3.161567971370927,0.019747220495823888,4.077858703245082,0.03381017778612208,0.02929110252863198,4.345211694058437,2.8278076008184634,4.1800646421543926,3.9808266116937374,4.581600472122668,3.1026733089691687,4.061407098353077,1.9111096199058963,1.4643448897744213,4.399278915328713,3.699617053747574])                                                                                                                                                                                                                                                                                                                                                                                                                                                                                                                                                                                                                                                                                                                                                                                                                                                                                                                                                                                                                                                                                                                                                                                                                                                                                                                                                                                                                                                                                                      |\n",
      "|25      |(2000,[15,26,43,49,67,69,71,87,159,196,232,241,263,289,290,292,298,316,335,342,370,391,402,409,440,489,490,507,514,540,547,633,688,711,750,774,783,813,832,833,851,857,887,904,911,917,976,1007,1011,1051,1056,1090,1165,1184,1192,1235,1245,1249,1258,1278,1284,1286,1326,1330,1344,1345,1349,1360,1362,1372,1394,1440,1503,1525,1564,1590,1596,1599,1611,1614,1620,1634,1662,1663,1667,1703,1706,1724,1732,1746,1755,1760,1784,1789,1831,1857,1955,1961,1998],[3.4738794672563174,3.791362167387403,3.888453291562722,3.6676654539409714,4.849864458717347,2.920202820757856,5.488135029051458,4.236759985830938,0.05679003752521338,8.402571195274556,1.2144398777845167,4.509735910893023,5.9807329312421,4.250746227805678,4.524442058282719,3.8462205279394492,0.6711473257296415,4.38307110510186,27.123747999408653,4.004766819239745,2.0052532708148654,3.949077913379157,3.3788048309697465,4.27642524222337,3.224149482951106,4.870590589234464,4.123927455334411,4.456437329168661,3.8111292081281793,4.0921787570198305,1.077398288495145,1.6264859655787764,15.907747355028171,5.079438900361847,3.6215743467407044,4.222966663698602,22.192612155110844,4.4880744141118445,3.9284586261764214,1.7490794091602124,5.041459652296631,2.03430221200486,3.2141092379658733,6.530699909471407,2.370099208429765,5.073008010031557,4.222966663698602,5.0924260958886585,3.611118687636366,5.369273826174729,3.038637595183178,2.8264507485071735,0.6730344154546152,4.009181837448863,4.212067373240567,3.6245818678046597,3.922354843238404,4.14651310798316,4.121449139319943,0.019747220495823888,5.294550279978792,3.075346795923798,4.546914914134778,3.197268820170626,3.4610092767357825,3.2486655218277996,0.03381017778612208,2.142156196411425,2.1486753479950824,0.03347554574700798,3.4546357688636906,3.0048478128157607,4.573787932385874,3.0521399100208173,3.9325486114279466,3.008094568914631,4.881117002221451,4.256395960347797,3.9808266116937374,3.8462205279394492,4.581600472122668,4.742966663740634,3.422132907733283,2.0426266010643914,3.9786783831554478,4.376660826740941,5.335131063195607,1.9111096199058963,4.689142013726854,1.4643448897744213,3.7702346209615274,4.502463151563944,4.761571851571668,3.9701313225769894,4.573787932385874,3.4974716492731375,2.762124114222816,4.929907166390883,4.844749358050577])                                                                                                                                                                                                                                                                                                                                                                                                                                                                                                                                                                                                                                                                                                    |\n",
      "|26      |(2000,[7,11,15,24,34,53,62,73,78,116,144,154,159,164,178,181,199,220,249,263,298,312,338,343,353,369,370,408,440,445,463,488,493,495,503,536,547,566,569,575,578,585,595,614,620,633,647,656,694,697,724,764,809,812,838,841,842,845,847,858,925,940,945,950,964,992,999,1007,1010,1032,1054,1078,1101,1111,1114,1134,1161,1165,1176,1187,1189,1234,1246,1278,1281,1349,1354,1360,1361,1362,1364,1372,1414,1415,1432,1495,1510,1513,1522,1530,1532,1544,1580,1594,1663,1675,1702,1720,1722,1766,1783,1787,1792,1809,1815,1824,1840,1870,1904,1922,1966,1997],[3.2590606258281394,5.195610332123889,6.947758934512635,4.167026647816263,3.6275984613440855,3.520276125091757,5.3606900824833374,4.348312471736685,0.8990152952801188,2.6396196012072437,1.995164164463322,4.128902589974524,0.05679003752521338,4.31472152730065,4.114050831838499,4.633926291124407,5.612004510764244,4.4880744141118445,4.402552240673682,2.99036646562105,0.6711473257296415,2.887965596966262,3.773725025901296,4.484509347947348,3.528450557531315,8.564444719815391,2.0052532708148654,4.676126645614784,3.224149482951106,5.079438900361847,2.5785319092274057,2.6664094621048844,3.132607516787213,3.9808266116937374,9.495171219193857,2.98717667025295,1.077398288495145,4.459903537145148,2.9314346872447143,2.781380164917933,4.360812634500917,2.218529175195999,2.1698972263579623,4.247933286429063,4.075491838234816,1.6264859655787764,3.504125033763874,5.167036959679833,4.498846511093755,1.9065056848949378,4.506092919614522,2.5706267297202925,2.808977185647632,4.897117343567893,4.724701315763341,3.8806407518259287,4.742966663740634,4.245128235501455,8.127481643398594,3.6443543750725245,4.094585497050396,3.5905297250587442,9.794234687135786,4.875839945120608,5.404365145986,4.546914914134778,3.3682599177931314,5.0924260958886585,4.613475680653116,5.680212760790777,1.9709541443401888,7.201542438221883,4.056755927177346,4.143978252379972,2.865861310189021,4.663278503136935,12.312812408354578,0.6730344154546152,4.907928259672108,4.633926291124407,3.942847363628521,8.005133196660287,3.209126666621409,0.019747220495823888,4.613475680653116,0.03381017778612208,3.6867136489116663,2.142156196411425,4.370291378455461,2.1486753479950824,3.898305588005734,0.025106659310255984,3.6739746231342365,4.733792287464593,4.509735910893023,6.336450304800213,2.8278076008184634,5.360742588973306,5.386665568886598,8.63545809672921,4.477417119637856,5.112228723184838,9.772844108902289,3.1026733089691687,2.0426266010643914,4.256395960347797,4.517061950985096,2.9127843891103056,5.318842972547837,3.162516288179786,15.649055761025764,3.0858364025948175,2.8149912365173875,2.5575887353821627,3.922354843238404,4.633926291124407,4.8295591925566015,3.791362167387403,4.2535671041473195,3.8165887303330783,4.646400465349583,5.112228723184838])                                                                                                                                                                         |\n",
      "|27      |(2000,[17,37,55,60,75,82,106,116,131,142,150,159,166,234,257,270,298,303,335,359,391,404,453,454,506,513,547,567,575,579,581,585,589,603,633,637,672,686,689,697,704,719,728,758,763,776,815,857,869,895,925,972,1007,1016,1043,1049,1054,1057,1078,1101,1118,1133,1138,1149,1165,1171,1190,1226,1233,1264,1275,1278,1286,1296,1301,1307,1317,1330,1348,1349,1352,1360,1362,1372,1377,1387,1388,1410,1411,1439,1440,1513,1521,1525,1535,1538,1539,1548,1568,1585,1589,1590,1614,1648,1651,1659,1668,1690,1706,1718,1720,1752,1761,1781,1782,1788,1802,1808,1809,1851,1852,1863,1870,1916,1924,1931,1955,1957],[4.09699804345578,3.0220121083370435,3.9387151263436104,2.696314944883789,4.285133570115154,5.153050717705093,3.995994833166909,2.6396196012072437,4.844749358050577,4.8295591925566015,3.527083503319782,0.05679003752521338,3.111650029930727,4.0225450652610295,4.2735392373342345,4.684784708357898,0.6711473257296415,3.075346795923798,11.624463428317995,4.288053280218489,3.949077913379157,4.250746227805678,6.781306621627775,3.7376696182833684,4.589474528553573,3.8275980158414478,1.077398288495145,8.702845788302156,2.781380164917933,4.299818121798075,3.2281939778476123,2.218529175195999,4.128902589974524,5.118917711335635,3.252971931157553,4.958078043357579,3.778983583154763,5.18122159467179,3.3717625483443334,1.9065056848949378,4.459903537145148,6.618838835540396,2.5144895429003102,3.7077670581094986,3.4074806309464125,3.8575628045433836,1.9761549650777752,2.03430221200486,3.396630614922347,4.506092919614522,8.189170994100792,5.3606900824833374,10.184852191777317,4.99296530235802,4.562182386265566,3.9387151263436104,1.9709541443401888,3.7967145441259946,3.6007712191109413,4.056755927177346,4.449540750109601,2.239040802388941,5.240062094694723,4.946714284707265,0.6730344154546152,4.040645106904647,4.351422894151078,2.9951703179336953,3.5001276933312537,4.775756486563625,3.5818340180911905,0.019747220495823888,3.075346795923798,5.112228723184838,3.508138417077333,5.098983496434817,3.924385300788786,3.197268820170626,3.656719293043474,0.03381017778612208,3.524354988666578,2.142156196411425,2.1486753479950824,0.03347554574700798,10.541667506722954,5.5378965386105214,3.268509515026072,3.4172249224210907,4.154156457295728,1.6464928203851115,3.0048478128157607,2.680371294486653,3.6367032283370047,3.0521399100208173,5.167036959679833,3.6803238508128953,3.9042638975893644,3.5561915874778527,4.080231183598713,3.106254333386875,2.9919651869847472,3.008094568914631,3.8462205279394492,3.9203285000931714,3.7012417494745757,2.0563425268111,4.354543021487322,3.4520976964352195,2.6675655315978033,4.531877036770237,2.9127843891103056,3.7259343620649474,4.891755400426507,3.659834560360424,3.968005923264676,4.539367708499395,12.254979292076868,3.5675071254704287,2.5575887353821627,3.9449199032304936,4.48095694634298,13.19783674598614,3.791362167387403,5.053959815060862,3.9701313225769894,4.676126645614784,2.762124114222816,4.31472152730065])|\n",
      "|28      |(2000,[22,28,50,53,63,116,159,166,232,245,249,279,298,425,429,468,478,495,516,527,547,585,597,702,743,756,760,791,809,815,835,840,855,857,859,889,906,909,970,996,999,1057,1065,1095,1165,1197,1199,1211,1235,1278,1286,1299,1320,1349,1360,1372,1404,1405,1454,1494,1496,1555,1597,1602,1642,1690,1724,1726,1746,1753,1793,1809,1910,1921,1936,1948,1980,1996],[5.004870204864338,4.399278915328713,4.164439324251312,3.520276125091757,4.256395960347797,2.6396196012072437,0.05679003752521338,3.111650029930727,1.2144398777845167,4.667542901923392,4.402552240673682,3.9916375277979532,0.6711473257296415,4.535615358880844,15.689419372953616,3.2161092386325403,4.671825563715393,3.9808266116937374,0.66480456142466,10.186296877290715,1.077398288495145,2.218529175195999,1.0559322286002673,4.351422894151078,2.9216931339994154,3.4533659274232145,1.0173287596710374,3.5818340180911905,2.808977185647632,1.9761549650777752,3.8111292081281793,3.3293978847010846,2.1407891421998917,2.03430221200486,4.182692764560662,4.517061950985096,4.790145224015725,3.642819455354441,4.373471031372841,3.9449199032304936,3.3682599177931314,3.7967145441259946,3.844342593115249,4.143978252379972,0.6730344154546152,4.3087334854560275,2.6756956576810533,4.136412011996656,3.6245818678046597,0.019747220495823888,6.150693591847596,4.3639622434038134,4.513392222096134,0.03381017778612208,2.142156196411425,0.02929110252863198,8.360129284308785,4.389522740383348,5.153050717705093,3.995994833166909,3.6007712191109413,4.1800646421543926,4.706763615076674,3.4648529714103455,4.169620682993309,3.4520976964352195,1.9111096199058963,4.998900037877835,1.4643448897744213,4.084993097358956,3.906257916196229,2.5575887353821627,3.940779110564462,14.806434634321016,4.0475179861924095,3.136297557874667,3.884539392241586,4.054438429036983])                                                                                                                                                                                                                                                                                                                                                                                                                                                                                                                                                                                                                                                                                                                                                                                                                                                                                                                                                                                                                                                                                                                                                                                              |\n",
      "|29      |(2000,[100,115,126,144,157,159,170,235,251,298,335,375,383,391,402,430,499,516,520,540,543,547,579,582,597,615,633,688,696,719,723,743,758,760,790,815,824,850,855,857,869,879,882,887,889,899,906,911,918,994,1048,1054,1065,1068,1074,1086,1122,1129,1133,1164,1165,1178,1205,1259,1278,1279,1286,1299,1328,1349,1356,1360,1372,1388,1399,1417,1443,1513,1517,1525,1538,1543,1563,1590,1591,1644,1651,1652,1663,1665,1734,1746,1764,1792,1818,1826,1861,1883,1888,1934,1966],[4.392764234307519,4.38307110510186,3.440755419831285,1.995164164463322,1.9978249199133484,0.05679003752521338,4.004766819239745,4.357672914496249,4.742966663740634,0.6711473257296415,7.749642285545329,5.004870204864338,3.9042638975893644,3.949077913379157,3.3788048309697465,3.117982027568234,3.7259343620649474,0.66480456142466,3.4622888674414076,4.0921787570198305,10.824453979225693,1.077398288495145,4.299818121798075,5.310679661908677,1.0559322286002673,5.327073471684352,1.6264859655787764,5.302582451676057,9.041490392802785,3.309419417770198,3.9387151263436104,2.9216931339994154,11.123301174328496,2.034657519342075,3.8111292081281793,5.928464895233326,3.7044990813448826,4.402552240673682,2.1407891421998917,2.03430221200486,3.396630614922347,5.066618211932786,4.9523800222429415,6.428218475931747,4.517061950985096,3.195306111002777,4.790145224015725,2.370099208429765,5.335372274499048,4.299818121798075,3.532562969084408,1.9709541443401888,3.844342593115249,5.132431430502358,3.6867136489116663,4.354543021487322,4.562182386265566,4.206661954673659,2.239040802388941,4.849864458717347,0.6730344154546152,4.865368645253312,4.693518388326653,4.128902589974524,0.019747220495823888,3.136297557874667,3.075346795923798,8.727924486807627,3.6291101774294074,0.03381017778612208,3.9722612488348146,2.142156196411425,0.03347554574700798,3.268509515026072,5.1055841804661695,4.149054405411833,4.470374837012443,2.680371294486653,4.918857330204299,3.0521399100208173,3.6803238508128953,4.456437329168661,4.689142013726854,3.008094568914631,4.902508192202769,3.1026733089691687,7.4024834989491515,7.512787139099312,2.0426266010643914,3.482988183454558,2.363676578773298,1.4643448897744213,5.422383651488677,2.8149912365173875,5.1461302748605195,3.4546357688636906,4.946714284707265,4.084993097358956,5.1055841804661695,5.634227647548954,4.646400465349583])                                                                                                                                                                                                                                                                                                                                                                                                                                                                                                                                                                                                                                                   |\n",
      "+--------+---------------------------------------------------------------------------------------------------------------------------------------------------------------------------------------------------------------------------------------------------------------------------------------------------------------------------------------------------------------------------------------------------------------------------------------------------------------------------------------------------------------------------------------------------------------------------------------------------------------------------------------------------------------------------------------------------------------------------------------------------------------------------------------------------------------------------------------------------------------------------------------------------------------------------------------------------------------------------------------------------------------------------------------------------------------------------------------------------------------------------------------------------------------------------------------------------------------------------------------------------------------------------------------------------------------------------------------------------------------------------------------------------------------------------------------------------------------------------------------------------------------------------------------------------------------------------------------------------------------------------------------------------------------------------------------------------------------------------------------------------------------------------------------------------------------------------------------------------------------------------------------------------------------------------------------------------------------------------------------------------------------------------------------------------------------------------------------------------------------------------------------------------------------------------------------------------------------------------------------------------------------------------------------------------------------------------------------------------------------------------------------------------------------------------------------------------------------------------------------------------------------------------------------------------------------------------------------------------------------------------------------------------------------------------------------------------------------------------------------------------------------------------------------------------------------------------------------------------------------------------------------------------------------------------------------------------------------------------------------------------------------------------------------------------------------------+\n",
      "only showing top 20 rows"
     ]
    }
   ],
   "source": [
    "from pyspark.ml.feature import HashingTF, IDF\n",
    "from pyspark.ml import Pipeline\n",
    "\n",
    "# Crear un HashingTF para vectorizar el texto procesado\n",
    "hashingTF = HashingTF(inputCol=\"filtered_text\", outputCol=\"raw_features\", numFeatures=2000)\n",
    "\n",
    "# Calcular TF-IDF\n",
    "idf = IDF(inputCol=\"raw_features\", outputCol=\"features\")\n",
    "\n",
    "# Pipeline para las transformaciones\n",
    "pipeline = Pipeline(stages=[hashingTF, idf])\n",
    "\n",
    "model = pipeline.fit(data)\n",
    "data = model.transform(data)\n",
    "\n",
    "data.select(\"anime_id\", \"features\").show(truncate=False)"
   ]
  },
  {
   "cell_type": "code",
   "execution_count": 23,
   "metadata": {},
   "outputs": [
    {
     "data": {
      "application/vnd.jupyter.widget-view+json": {
       "model_id": "",
       "version_major": 2,
       "version_minor": 0
      },
      "text/plain": [
       "FloatProgress(value=0.0, bar_style='info', description='Progress:', layout=Layout(height='25px', width='50%'),…"
      ]
     },
     "metadata": {},
     "output_type": "display_data"
    },
    {
     "name": "stdout",
     "output_type": "stream",
     "text": [
      "+--------+--------+--------------------+\n",
      "|anime_id|anime_id|cosine_sim          |\n",
      "+--------+--------+--------------------+\n",
      "|1       |5       |0.27717354606684236 |\n",
      "|1       |6       |0.0690976769271532  |\n",
      "|1       |7       |0.09294476362953948 |\n",
      "|1       |8       |0.006376256346380185|\n",
      "|1       |15      |0.056060148310866184|\n",
      "|1       |16      |0.04618445294864644 |\n",
      "|1       |17      |0.01772991669864651 |\n",
      "|1       |18      |0.02069310117986595 |\n",
      "|1       |19      |0.04082176935981903 |\n",
      "|1       |20      |0.030847117965757585|\n",
      "|1       |21      |0.04204461941452779 |\n",
      "|1       |22      |0.011677840543964705|\n",
      "|1       |23      |0.04325172642824893 |\n",
      "|1       |24      |0.05588853133369697 |\n",
      "|1       |25      |0.041362318687139306|\n",
      "|1       |26      |0.05154599008042234 |\n",
      "|1       |27      |0.09314454749797456 |\n",
      "|1       |28      |0.03713050452584757 |\n",
      "|1       |29      |0.04007128724352351 |\n",
      "|1       |30      |0.039689196822682314|\n",
      "+--------+--------+--------------------+\n",
      "only showing top 20 rows"
     ]
    }
   ],
   "source": [
    "from pyspark.ml.linalg import Vectors\n",
    "from pyspark.sql.functions import col, udf\n",
    "from pyspark.sql.types import DoubleType\n",
    "import numpy as np\n",
    "\n",
    "# Función UDF para calcular la similitud de coseno\n",
    "def cosine_similarity(vec1, vec2):\n",
    "    # Convertir vectores de SparseVector a arrays\n",
    "    vec1_array = np.array(vec1.toArray())\n",
    "    vec2_array = np.array(vec2.toArray())\n",
    "    \n",
    "    # Calcular el producto punto y las longitudes de los vectores\n",
    "    dot_product = np.dot(vec1_array, vec2_array)\n",
    "    norm_a = np.linalg.norm(vec1_array)\n",
    "    norm_b = np.linalg.norm(vec2_array)\n",
    "    \n",
    "    # Calcular la similitud de coseno\n",
    "    return float(dot_product / (norm_a * norm_b)) if norm_a and norm_b else 0.0\n",
    "\n",
    "# Registrar la UDF de similitud de coseno\n",
    "cosine_udf = udf(cosine_similarity, DoubleType())\n",
    "\n",
    "# matriz de similitudes\n",
    "cosine_sim_matrix = data.alias(\"df1\").join(data.alias(\"df2\"), col(\"df1.anime_id\") != col(\"df2.anime_id\")) \\\n",
    "    .withColumn(\"cosine_sim\", cosine_udf(col(\"df1.features\"), col(\"df2.features\")))\n",
    "\n",
    "cosine_sim_matrix.select(\"df1.anime_id\", \"df2.anime_id\", \"cosine_sim\").show(truncate=False)"
   ]
  },
  {
   "cell_type": "code",
   "execution_count": 24,
   "metadata": {},
   "outputs": [
    {
     "data": {
      "application/vnd.jupyter.widget-view+json": {
       "model_id": "",
       "version_major": 2,
       "version_minor": 0
      },
      "text/plain": [
       "FloatProgress(value=0.0, bar_style='info', description='Progress:', layout=Layout(height='25px', width='50%'),…"
      ]
     },
     "metadata": {},
     "output_type": "display_data"
    }
   ],
   "source": [
    "from pyspark.sql.functions import col, desc\n",
    "\n",
    "# Función para obtener recomendaciones basadas en la similitud de coseno\n",
    "def get_recommendations(anime_name, cosine_sim_matrix, df, top_n=10):\n",
    "    # Buscar el anime_id basado en el nombre\n",
    "    anime_id_row = df.filter(col(\"Name\") == anime_name).select(\"anime_id\").first()\n",
    "    \n",
    "    if anime_id_row is None:\n",
    "        return \"Anime not found\"\n",
    "    \n",
    "    anime_id = anime_id_row[\"anime_id\"]\n",
    "    \n",
    "    # Filtrar las similitudes para el anime_id dado\n",
    "    recommendations = cosine_sim_matrix.filter(col(\"df1.anime_id\") == anime_id) \\\n",
    "        .orderBy(desc(\"cosine_sim\")) \\\n",
    "        .select(\"df2.anime_id\", \"df2.Name\", \"cosine_sim\")\n",
    "    \n",
    "    # Mostrar las top_n recomendaciones\n",
    "    recommendations = recommendations.limit(top_n)\n",
    "    \n",
    "    return recommendations"
   ]
  },
  {
   "cell_type": "code",
   "execution_count": 25,
   "metadata": {},
   "outputs": [
    {
     "data": {
      "application/vnd.jupyter.widget-view+json": {
       "model_id": "",
       "version_major": 2,
       "version_minor": 0
      },
      "text/plain": [
       "FloatProgress(value=0.0, bar_style='info', description='Progress:', layout=Layout(height='25px', width='50%'),…"
      ]
     },
     "metadata": {},
     "output_type": "display_data"
    },
    {
     "name": "stdout",
     "output_type": "stream",
     "text": [
      "+--------+------------------------------------------------------------------+-------------------+\n",
      "|anime_id|Name                                                              |cosine_sim         |\n",
      "+--------+------------------------------------------------------------------+-------------------+\n",
      "|45753   |Tensei shitara Slime Datta Ken: Kanwa - Hinata Sakaguchi          |0.30129526747204816|\n",
      "|49318   |Tensei shitara Slime Datta Ken 2nd Season: Kanwa - Veldora Nikki 2|0.26550321253120623|\n",
      "|37985   |Aggressive Retsuko (ONA) 2nd Season                               |0.26027111840745987|\n",
      "|39551   |Tensei shitara Slime Datta Ken 2nd Season                         |0.2587535974467901 |\n",
      "|39607   |Tensei shitara Slime Datta Ken: Kanwa - Veldora Nikki             |0.25143453132829896|\n",
      "|40215   |Aggressive Retsuko (ONA) 3rd Season                               |0.2495441762293923 |\n",
      "|46387   |Zhiduo Xingjimu                                                   |0.2457635910277627 |\n",
      "|53580   |Tensei shitara Slime Datta Ken 3rd Season                         |0.2446066253647421 |\n",
      "|49877   |Tensei shitara Slime Datta Ken Movie: Guren no Kizuna-hen         |0.23552996183218014|\n",
      "|1580    |Mouryou Senki Madara                                              |0.23426890198941822|\n",
      "|45489   |Aggressive Retsuko (ONA) 4th Season                               |0.23340205978922823|\n",
      "|50598   |Aggressive Retsuko (ONA) 5th Season                               |0.23073136719839166|\n",
      "|1082    |Hikari to Mizu no Daphne                                          |0.2253330251320429 |\n",
      "|54498   |Movin' feat. Maia Hirasawa                                        |0.21318192977488548|\n",
      "|46602   |Kuaile de Allocca                                                 |0.20810298131278882|\n",
      "|32977   |Aggressive Retsuko                                                |0.2034710569768223 |\n",
      "|23185   |Chamebou Kuukijuu no Maki                                         |0.20201810972547654|\n",
      "|41205   |Kouya no Kotobuki Hikoutai Kanzenban                              |0.20088589683841032|\n",
      "|41488   |Tensura Nikki: Tensei shitara Slime Datta Ken                     |0.20071939356477655|\n",
      "|1746    |Zoids Fuzors                                                      |0.20018367455442876|\n",
      "+--------+------------------------------------------------------------------+-------------------+"
     ]
    }
   ],
   "source": [
    "# Ejemplo:\n",
    "recommended_animes = get_recommendations(anime_name=\"Tensei shitara Slime Datta Ken\", cosine_sim_matrix=cosine_sim_matrix, df=data, top_n=20)\n",
    "recommended_animes.show(truncate=False)"
   ]
  },
  {
   "cell_type": "code",
   "execution_count": 29,
   "metadata": {},
   "outputs": [
    {
     "data": {
      "application/vnd.jupyter.widget-view+json": {
       "model_id": "",
       "version_major": 2,
       "version_minor": 0
      },
      "text/plain": [
       "FloatProgress(value=0.0, bar_style='info', description='Progress:', layout=Layout(height='25px', width='50%'),…"
      ]
     },
     "metadata": {},
     "output_type": "display_data"
    }
   ],
   "source": [
    "data_flattened = data.select(\n",
    "    'anime_id',\n",
    "    'features'\n",
    ")\n",
    "\n",
    "data_flattened = data_flattened.withColumn(\"features\", col(\"features\").cast(\"string\"))\n",
    "data_flattened.write.csv(\"s3://proyecto-mineria-de-datos/anime_vector2.csv\", header=True)"
   ]
  },
  {
   "cell_type": "code",
   "execution_count": 31,
   "metadata": {},
   "outputs": [
    {
     "data": {
      "application/vnd.jupyter.widget-view+json": {
       "model_id": "",
       "version_major": 2,
       "version_minor": 0
      },
      "text/plain": [
       "FloatProgress(value=0.0, bar_style='info', description='Progress:', layout=Layout(height='25px', width='50%'),…"
      ]
     },
     "metadata": {},
     "output_type": "display_data"
    }
   ],
   "source": [
    "model.write().overwrite().save(\"s3://proyecto-mineria-de-datos/tfidf_pipeline_model\")"
   ]
  }
 ],
 "metadata": {
  "kernelspec": {
   "display_name": "PySpark",
   "language": "python",
   "name": "pysparkkernel"
  },
  "language_info": {
   "codemirror_mode": {
    "name": "python",
    "version": 3
   },
   "file_extension": ".py",
   "mimetype": "text/x-python",
   "name": "pyspark",
   "pygments_lexer": "python3"
  }
 },
 "nbformat": 4,
 "nbformat_minor": 2
}
