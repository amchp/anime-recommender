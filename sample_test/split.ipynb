{
 "cells": [
  {
   "cell_type": "code",
   "execution_count": null,
   "metadata": {},
   "outputs": [],
   "source": [
    "!pip install pandas\n",
    "!pip install matplotlib"
   ]
  },
  {
   "cell_type": "code",
   "execution_count": 11,
   "metadata": {},
   "outputs": [],
   "source": [
    "import pandas as pd\n",
    "import numpy as np\n",
    "import matplotlib.pyplot as plt"
   ]
  },
  {
   "cell_type": "code",
   "execution_count": 4,
   "metadata": {},
   "outputs": [],
   "source": [
    "df = pd.read_csv('datos/user-filtered.csv')"
   ]
  },
  {
   "cell_type": "code",
   "execution_count": 6,
   "metadata": {},
   "outputs": [
    {
     "data": {
      "text/html": [
       "<div>\n",
       "<style scoped>\n",
       "    .dataframe tbody tr th:only-of-type {\n",
       "        vertical-align: middle;\n",
       "    }\n",
       "\n",
       "    .dataframe tbody tr th {\n",
       "        vertical-align: top;\n",
       "    }\n",
       "\n",
       "    .dataframe thead th {\n",
       "        text-align: right;\n",
       "    }\n",
       "</style>\n",
       "<table border=\"1\" class=\"dataframe\">\n",
       "  <thead>\n",
       "    <tr style=\"text-align: right;\">\n",
       "      <th></th>\n",
       "      <th>user_id</th>\n",
       "      <th>anime_id</th>\n",
       "      <th>rating</th>\n",
       "    </tr>\n",
       "  </thead>\n",
       "  <tbody>\n",
       "    <tr>\n",
       "      <th>0</th>\n",
       "      <td>0</td>\n",
       "      <td>67</td>\n",
       "      <td>9</td>\n",
       "    </tr>\n",
       "    <tr>\n",
       "      <th>1</th>\n",
       "      <td>0</td>\n",
       "      <td>6702</td>\n",
       "      <td>7</td>\n",
       "    </tr>\n",
       "    <tr>\n",
       "      <th>2</th>\n",
       "      <td>0</td>\n",
       "      <td>242</td>\n",
       "      <td>10</td>\n",
       "    </tr>\n",
       "    <tr>\n",
       "      <th>3</th>\n",
       "      <td>0</td>\n",
       "      <td>4898</td>\n",
       "      <td>0</td>\n",
       "    </tr>\n",
       "    <tr>\n",
       "      <th>4</th>\n",
       "      <td>0</td>\n",
       "      <td>21</td>\n",
       "      <td>10</td>\n",
       "    </tr>\n",
       "  </tbody>\n",
       "</table>\n",
       "</div>"
      ],
      "text/plain": [
       "   user_id  anime_id  rating\n",
       "0        0        67       9\n",
       "1        0      6702       7\n",
       "2        0       242      10\n",
       "3        0      4898       0\n",
       "4        0        21      10"
      ]
     },
     "execution_count": 6,
     "metadata": {},
     "output_type": "execute_result"
    }
   ],
   "source": [
    "df.head()"
   ]
  },
  {
   "cell_type": "code",
   "execution_count": 7,
   "metadata": {},
   "outputs": [],
   "source": [
    "df = df[df['rating'] != 0]"
   ]
  },
  {
   "cell_type": "code",
   "execution_count": 8,
   "metadata": {},
   "outputs": [
    {
     "name": "stdout",
     "output_type": "stream",
     "text": [
      "[        1         4         5 ... 109224585 109224632 109224634]\n"
     ]
    }
   ],
   "source": [
    "popularity_df = df.groupby('anime_id').size().reset_index(name='popularity').sort_values(by='popularity', ascending=False)\n",
    "\n",
    "top_popular_items = popularity_df.head(500)\n",
    "\n",
    "df_filter = df[df['anime_id'].isin(top_popular_items['anime_id'])]\n",
    "\n",
    "num_anime_per_user = df_filter.groupby('user_id')['anime_id'].transform('count')\n",
    "\n",
    "num_items = num_anime_per_user[num_anime_per_user >= 5]\n",
    "user_ids = np.array(num_items.index)\n",
    "print(user_ids)\n",
    "\n",
    "df_filter = df_filter[df_filter['user_id'].isin(user_ids)]\n"
   ]
  },
  {
   "cell_type": "code",
   "execution_count": 9,
   "metadata": {},
   "outputs": [
    {
     "name": "stdout",
     "output_type": "stream",
     "text": [
      "76467 500\n",
      "Density: 0.1762561366341036\n"
     ]
    }
   ],
   "source": [
    "num_users = len(df_filter['user_id'].unique())\n",
    "num_animes = len(df_filter['anime_id'].unique())\n",
    "print(num_users, num_animes)\n",
    "print(f\"Density: { len(df_filter) / (num_users*num_animes)}\")"
   ]
  },
  {
   "cell_type": "code",
   "execution_count": 23,
   "metadata": {},
   "outputs": [
    {
     "name": "stdout",
     "output_type": "stream",
     "text": [
      "[195516, 178216, 172040, 146216, 146180, 144115, 144098, 143123, 142974, 133784, 133303, 129325, 127931, 127088, 124764, 124155, 123695, 122221, 115881, 114898, 113048, 112211, 112041, 111027, 110886, 110490, 109933, 108486, 107916, 106161, 106007, 103888, 103257, 102701, 102013, 101572, 100925, 100597, 100573, 100381, 100136, 98933, 97803, 97163, 96756, 96645, 95196, 95124, 93271, 93102, 92951, 92772, 92675, 92286, 92192, 91988, 90231, 89959, 89479, 88538, 88404, 88104, 87748, 87555, 85809, 85687, 84199, 83890, 83578, 83402, 83275, 83232, 83030, 82854, 80661, 80632, 80489, 80388, 80147, 79867, 79221, 78227, 77771, 77401, 77067, 77004, 76743, 75490, 75044, 74427, 74373, 74369, 74314, 73967, 73359, 72349, 71814, 70822, 70115, 70034, 69708, 69041, 68966, 68705, 68504, 68440, 68220, 67890, 67543, 67517, 67379, 67197, 66967, 66443, 65948, 65500, 65305, 65251, 64772, 64565, 64526, 64003, 64001, 63839, 63820, 63808, 63634, 63502, 63233, 63216, 63115, 63079, 63004, 62850, 62353, 62257, 61927, 61677, 61600, 61467, 61342, 61292, 60794, 60780, 60436, 60188, 59764, 59151, 59086, 58832, 58724, 58651, 58392, 58312, 57961, 57956, 57913, 57282, 57279, 57011, 56884, 56744, 56364, 56337, 55759, 55757, 55416, 55246, 55198, 55179, 54894, 54725, 53951, 53809, 53783, 53754, 53652, 53482, 53470, 53289, 53285, 53229, 53199, 53132, 53107, 52604, 52468, 52449, 52217, 52215, 52183, 52118, 52080, 51656, 51600, 51551, 51474, 51394, 51362, 51138, 51126, 50996, 50969, 50967, 50943, 50908, 50847, 50772, 50473, 49827, 49824, 49767, 49596, 49576, 49458, 49389, 49164, 49118, 49096, 48729, 48660, 48285, 48138, 48092, 48013, 47908, 47904, 47892, 47705, 47662, 47471, 47319, 47306, 47265, 47253, 47214, 47187, 47152, 47048, 46979, 46871, 46864, 46863, 46708, 46409, 46272, 46156, 46070, 45811, 45618, 45615, 45602, 45476, 45250, 45130, 45016, 44945, 44916, 44864, 44709, 44632, 44621, 44582, 44397, 44196, 44101, 43913, 43909, 43865, 43816, 43656, 43300, 42953, 42850, 42827, 42747, 42712, 42690, 42500, 42481, 42371, 42235, 42150, 42129, 42090, 42009, 41933, 41884, 41784, 41670, 41630, 41515, 41503, 41423, 41390, 41386, 41076, 41061, 41024, 41003, 40962, 40933, 40813, 40789, 40728, 40725, 40596, 40433, 40424, 40353, 40261, 40244, 40057, 40032, 39962, 39891, 39861, 39761, 39562, 39531, 39529, 39423, 39304, 39223, 39128, 39049, 39013, 38990, 38916, 38522, 38392, 38391, 38381, 38214, 38185, 38166, 37953, 37918, 37878, 37863, 37797, 37789, 37683, 37607, 37508, 37417, 37259, 37227, 37175, 37137, 37086, 37061, 37054, 36899, 36862, 36785, 36712, 36667, 36652, 36539, 36500, 36471, 36450, 36406, 36318, 36203, 35859, 35856, 35798, 35729, 35621, 35593, 35560, 35549, 35378, 35320, 34995, 34794, 34757, 34676, 34573, 34554, 34546, 34484, 34478, 34466, 34431, 34431, 34405, 34342, 34270, 34254, 34241, 34226, 34124, 34116, 34115, 34108, 34050, 34043, 34009, 34003, 33995, 33955, 33921, 33850, 33831, 33821, 33817, 33768, 33757, 33691, 33644, 33606, 33591, 33561, 33543, 33497, 33478, 33475, 33436, 33281, 33271, 33192, 33170, 33067, 33065, 33053, 32973, 32966, 32931, 32781, 32744, 32584, 32565, 32529, 32419, 32353, 32284, 32173, 32132, 32122, 32112, 31998, 31986, 31969, 31882, 31880, 31870, 31847, 31789, 31660, 31640, 31615, 31600, 31589, 31564, 31558, 31557, 31457, 31440, 31400, 31383, 31374, 31356, 31349, 31262, 31173, 31168, 31124, 31117, 30948, 30924, 30900, 30808, 30792, 30724, 30640, 30634, 30609, 30608, 30510, 30501, 30485, 30454, 30426, 30359, 30358, 30352, 30338, 30322, 30289, 30146, 30119, 29968, 29936, 29930, 29921, 29818, 29781]\n"
     ]
    }
   ],
   "source": [
    "print(list(top_popular_items['popularity']))"
   ]
  },
  {
   "cell_type": "code",
   "execution_count": 10,
   "metadata": {},
   "outputs": [],
   "source": [
    "df_filter.to_csv('datos/sample-user-filtered-2023.csv', index=False)"
   ]
  }
 ],
 "metadata": {
  "kernelspec": {
   "display_name": "Python 3",
   "language": "python",
   "name": "python3"
  },
  "language_info": {
   "codemirror_mode": {
    "name": "ipython",
    "version": 3
   },
   "file_extension": ".py",
   "mimetype": "text/x-python",
   "name": "python",
   "nbconvert_exporter": "python",
   "pygments_lexer": "ipython3",
   "version": "3.10.11"
  }
 },
 "nbformat": 4,
 "nbformat_minor": 2
}
