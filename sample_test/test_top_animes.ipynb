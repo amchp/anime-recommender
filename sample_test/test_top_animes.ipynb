{
  "nbformat": 4,
  "nbformat_minor": 0,
  "metadata": {
    "colab": {
      "provenance": []
    },
    "kernelspec": {
      "name": "python3",
      "display_name": "Python 3"
    },
    "language_info": {
      "name": "python"
    }
  },
  "cells": [
    {
      "cell_type": "code",
      "execution_count": 1,
      "metadata": {
        "colab": {
          "base_uri": "https://localhost:8080/",
          "height": 742
        },
        "id": "Ls0fZMu4L2c7",
        "outputId": "a792fc44-3499-4b74-92b1-3ea53a303b60"
      },
      "outputs": [
        {
          "output_type": "stream",
          "name": "stdout",
          "text": [
            "\u001b[33m\r0% [Working]\u001b[0m\r            \rGet:1 https://cloud.r-project.org/bin/linux/ubuntu jammy-cran40/ InRelease [3,626 B]\n",
            "Get:2 https://developer.download.nvidia.com/compute/cuda/repos/ubuntu2204/x86_64  InRelease [1,581 B]\n",
            "Get:3 http://security.ubuntu.com/ubuntu jammy-security InRelease [129 kB]\n",
            "Get:4 https://r2u.stat.illinois.edu/ubuntu jammy InRelease [6,555 B]\n",
            "Hit:5 http://archive.ubuntu.com/ubuntu jammy InRelease\n",
            "Get:6 http://archive.ubuntu.com/ubuntu jammy-updates InRelease [128 kB]\n",
            "Get:7 https://developer.download.nvidia.com/compute/cuda/repos/ubuntu2204/x86_64  Packages [1,172 kB]\n",
            "Hit:8 https://ppa.launchpadcontent.net/deadsnakes/ppa/ubuntu jammy InRelease\n",
            "Hit:9 https://ppa.launchpadcontent.net/graphics-drivers/ppa/ubuntu jammy InRelease\n",
            "Hit:10 https://ppa.launchpadcontent.net/ubuntugis/ppa/ubuntu jammy InRelease\n",
            "Get:11 https://r2u.stat.illinois.edu/ubuntu jammy/main all Packages [8,501 kB]\n",
            "Get:12 http://archive.ubuntu.com/ubuntu jammy-backports InRelease [127 kB]\n",
            "Get:13 https://r2u.stat.illinois.edu/ubuntu jammy/main amd64 Packages [2,617 kB]\n",
            "Get:14 http://security.ubuntu.com/ubuntu jammy-security/main amd64 Packages [2,452 kB]\n",
            "Get:15 http://archive.ubuntu.com/ubuntu jammy-updates/universe amd64 Packages [1,512 kB]\n",
            "Get:16 http://security.ubuntu.com/ubuntu jammy-security/universe amd64 Packages [1,223 kB]\n",
            "Get:17 http://security.ubuntu.com/ubuntu jammy-security/restricted amd64 Packages [3,323 kB]\n",
            "Get:18 http://archive.ubuntu.com/ubuntu jammy-updates/main amd64 Packages [2,734 kB]\n",
            "Fetched 23.9 MB in 3s (7,723 kB/s)\n",
            "Reading package lists... Done\n",
            "Building dependency tree... Done\n",
            "Reading state information... Done\n",
            "49 packages can be upgraded. Run 'apt list --upgradable' to see them.\n",
            "\u001b[1;33mW: \u001b[0mSkipping acquire of configured file 'main/source/Sources' as repository 'https://r2u.stat.illinois.edu/ubuntu jammy InRelease' does not seem to provide it (sources.list entry misspelt?)\u001b[0m\n",
            "tar: spark-3.2.1-bin-hadoop3.2.tgz: Cannot open: No such file or directory\n",
            "tar: Error is not recoverable: exiting now\n",
            "Requirement already satisfied: pyspark in /usr/local/lib/python3.10/dist-packages (3.5.3)\n",
            "Requirement already satisfied: py4j==0.10.9.7 in /usr/local/lib/python3.10/dist-packages (from pyspark) (0.10.9.7)\n",
            "Requirement already satisfied: py4j in /usr/local/lib/python3.10/dist-packages (0.10.9.7)\n"
          ]
        },
        {
          "output_type": "execute_result",
          "data": {
            "text/plain": [
              "<pyspark.sql.session.SparkSession at 0x79738304b670>"
            ],
            "text/html": [
              "\n",
              "            <div>\n",
              "                <p><b>SparkSession - in-memory</b></p>\n",
              "                \n",
              "        <div>\n",
              "            <p><b>SparkContext</b></p>\n",
              "\n",
              "            <p><a href=\"http://488c7b61b551:4040\">Spark UI</a></p>\n",
              "\n",
              "            <dl>\n",
              "              <dt>Version</dt>\n",
              "                <dd><code>v3.5.3</code></dd>\n",
              "              <dt>Master</dt>\n",
              "                <dd><code>local[*]</code></dd>\n",
              "              <dt>AppName</dt>\n",
              "                <dd><code>Content Based Recommendation</code></dd>\n",
              "            </dl>\n",
              "        </div>\n",
              "        \n",
              "            </div>\n",
              "        "
            ]
          },
          "metadata": {},
          "execution_count": 1
        }
      ],
      "source": [
        "## Para Colab\n",
        "!sudo apt update\n",
        "!apt-get install openjdk-8-jdk-headless -qq > /dev/null\n",
        "#Check this site for the latest download link https://www.apache.org/dyn/closer.lua/spark/spark-3.2.1/spark-3.2.1-bin-hadoop3.2.tgz\n",
        "!wget -q https://dlcdn.apache.org/spark/spark-3.2.1/spark-3.2.1-bin-hadoop3.2.tgz\n",
        "!tar xf spark-3.2.1-bin-hadoop3.2.tgz\n",
        "!pip install -q findspark\n",
        "!pip install pyspark\n",
        "!pip install py4j\n",
        "\n",
        "import os\n",
        "import sys\n",
        "# os.environ[\"JAVA_HOME\"] = \"/usr/lib/jvm/java-8-openjdk-amd64\"\n",
        "# os.environ[\"SPARK_HOME\"] = \"/content/spark-3.2.1-bin-hadoop3.2\"\n",
        "\n",
        "\n",
        "import findspark\n",
        "findspark.init()\n",
        "findspark.find()\n",
        "\n",
        "import pyspark\n",
        "\n",
        "from pyspark.sql import DataFrame, SparkSession\n",
        "from typing import List\n",
        "import pyspark.sql.types as T\n",
        "import pyspark.sql.functions as F\n",
        "\n",
        "spark= SparkSession \\\n",
        "       .builder \\\n",
        "       .appName(\"Content Based Recommendation\") \\\n",
        "       .getOrCreate()\n",
        "\n",
        "spark"
      ]
    },
    {
      "cell_type": "code",
      "source": [
        "from pyspark.sql.functions import expr, col, udf, desc, collect_list\n",
        "from pyspark.ml.feature import StringIndexer, IndexToString\n",
        "from pyspark.sql.types import ArrayType, StructType, StructField, StringType, FloatType\n",
        "from pyspark.sql import functions as F\n",
        "from pyspark.ml.evaluation import RegressionEvaluator\n",
        "from pyspark.ml.recommendation import ALS\n",
        "from pyspark.ml.tuning import ParamGridBuilder, CrossValidator\n",
        "from pyspark.mllib.evaluation import RankingMetrics\n",
        "from pyspark.sql import Window\n",
        "from pyspark.sql.functions import row_number"
      ],
      "metadata": {
        "id": "aDZnQlP_NT07"
      },
      "execution_count": 2,
      "outputs": []
    },
    {
      "cell_type": "code",
      "source": [
        "from pyspark.sql import SparkSession\n",
        "\n",
        "spark = SparkSession.builder.appName(\"RecommenderSystem\").getOrCreate()"
      ],
      "metadata": {
        "id": "GUfsndOsOLPN"
      },
      "execution_count": 3,
      "outputs": []
    },
    {
      "cell_type": "code",
      "source": [
        "df = spark.read.csv(\"/content/sample-user-filtered-2023.csv\", header=True, inferSchema=True)"
      ],
      "metadata": {
        "id": "X9-WtMuxOM8j"
      },
      "execution_count": 4,
      "outputs": []
    },
    {
      "cell_type": "code",
      "source": [
        "df.printSchema()"
      ],
      "metadata": {
        "colab": {
          "base_uri": "https://localhost:8080/"
        },
        "id": "ll8t-lj8OS44",
        "outputId": "26f17e0e-9e5d-448c-ae09-6d29c23b4126"
      },
      "execution_count": 5,
      "outputs": [
        {
          "output_type": "stream",
          "name": "stdout",
          "text": [
            "root\n",
            " |-- user_id: integer (nullable = true)\n",
            " |-- anime_id: integer (nullable = true)\n",
            " |-- rating: integer (nullable = true)\n",
            "\n"
          ]
        }
      ]
    },
    {
      "cell_type": "code",
      "source": [
        "df_final = df\n",
        "\n",
        "total_users = df.select(\"user_id\").distinct().count()\n",
        "total_animes = df.select(\"anime_id\").distinct().count()"
      ],
      "metadata": {
        "id": "meyu7Vl5OQ9F"
      },
      "execution_count": 6,
      "outputs": []
    },
    {
      "cell_type": "code",
      "source": [
        "indexer_user = StringIndexer(inputCol='user_id', outputCol='user_index').setHandleInvalid(\"keep\")\n",
        "indexer_anime = StringIndexer(inputCol='anime_id', outputCol='anime_index').setHandleInvalid(\"keep\")\n",
        "\n",
        "user_indexer_model = indexer_user.fit(df_final)\n",
        "anime_indexer_model = indexer_anime.fit(df_final)\n",
        "\n",
        "df_final = user_indexer_model.transform(df_final)\n",
        "df_final = anime_indexer_model.transform(df_final)\n",
        "\n",
        "df_final = df_final.withColumn('user_index', df_final['user_index'].cast('integer'))\n",
        "df_final = df_final.withColumn('anime_index', df_final['anime_index'].cast('integer'))"
      ],
      "metadata": {
        "id": "1n80WjuuObar"
      },
      "execution_count": 7,
      "outputs": []
    },
    {
      "cell_type": "code",
      "source": [
        "percent_users_to_mask = 0.95\n",
        "percent_animes_to_mask = 0.9\n",
        "\n",
        "user_cutoff = int(total_users * (1 - percent_users_to_mask))\n",
        "anime_cutoff = int(total_animes * (1 - percent_animes_to_mask))\n",
        "print(user_cutoff, total_users)\n",
        "print(anime_cutoff, total_animes)"
      ],
      "metadata": {
        "colab": {
          "base_uri": "https://localhost:8080/"
        },
        "id": "k0hIe8PXPHxs",
        "outputId": "871c4ce7-489b-43ca-93eb-7259f268a110"
      },
      "execution_count": 8,
      "outputs": [
        {
          "output_type": "stream",
          "name": "stdout",
          "text": [
            "3823 76467\n",
            "49 500\n"
          ]
        }
      ]
    },
    {
      "cell_type": "code",
      "source": [
        "train_data = df_final.filter(~((col(\"user_index\") > user_cutoff) & (col(\"anime_index\") > anime_cutoff)))\n",
        "test_data = df_final.filter((col(\"user_index\") > user_cutoff) & (col(\"anime_index\") > anime_cutoff))\n",
        "print(train_data.count())\n",
        "print(test_data.count())"
      ],
      "metadata": {
        "colab": {
          "base_uri": "https://localhost:8080/"
        },
        "id": "Vq8J_hupPPId",
        "outputId": "f97ccb5f-12b6-4754-b2fd-304d7b511dbb"
      },
      "execution_count": 9,
      "outputs": [
        {
          "output_type": "stream",
          "name": "stdout",
          "text": [
            "2421115\n",
            "4317774\n"
          ]
        }
      ]
    },
    {
      "cell_type": "code",
      "source": [
        "final_als = ALS(\n",
        "    userCol='user_index',\n",
        "    itemCol='anime_index',\n",
        "    ratingCol='rating',\n",
        "    coldStartStrategy='drop',\n",
        "    nonnegative=True,\n",
        "    rank=20,\n",
        "    maxIter=20,\n",
        "    regParam=0.15\n",
        ")\n",
        "\n",
        "best_model = final_als.fit(train_data)"
      ],
      "metadata": {
        "id": "CtQnubRRPn2R"
      },
      "execution_count": 10,
      "outputs": []
    },
    {
      "cell_type": "code",
      "source": [
        "!pip install recommenders"
      ],
      "metadata": {
        "id": "KfhILo89VDqb"
      },
      "execution_count": null,
      "outputs": []
    },
    {
      "cell_type": "code",
      "source": [
        "#dfs_pred = best_model.transform(test_data).drop('ratings')"
      ],
      "metadata": {
        "id": "FTg3Xx07V-z3"
      },
      "execution_count": 18,
      "outputs": []
    },
    {
      "cell_type": "code",
      "source": [
        "# Get the cross join of all user-item pairs and score them.\n",
        "users = train_data.select('user_index').distinct()\n",
        "items = train_data.select('anime_index').distinct()\n",
        "user_item = users.crossJoin(items)\n",
        "dfs_pred = best_model.transform(user_item)\n",
        "\n",
        "# Remove seen items.\n",
        "dfs_pred_exclude_train = dfs_pred.alias(\"pred\").join(\n",
        "    train_data.alias(\"train\"),\n",
        "    (dfs_pred['user_index'] == train_data['user_index']) & (dfs_pred['anime_index'] == train_data['anime_index']),\n",
        "    how='outer'\n",
        ")\n",
        "\n",
        "dfs_pred_final = dfs_pred_exclude_train.filter(dfs_pred_exclude_train[\"train.Rating\"].isNull()) \\\n",
        "    .select('pred.' + 'user_index', 'pred.' + 'anime_index', 'pred.' + \"prediction\")\n",
        "\n",
        "dfs_pred_final.show()"
      ],
      "metadata": {
        "colab": {
          "base_uri": "https://localhost:8080/"
        },
        "id": "RpAHReHlWh87",
        "outputId": "0049199a-83b3-4780-8937-bc8953126a1e"
      },
      "execution_count": 20,
      "outputs": [
        {
          "output_type": "stream",
          "name": "stdout",
          "text": [
            "+----------+-----------+----------+\n",
            "|user_index|anime_index|prediction|\n",
            "+----------+-----------+----------+\n",
            "|         1|        133| 5.7830753|\n",
            "|         2|        299|  4.244053|\n",
            "|         3|        305| 7.8052225|\n",
            "|         4|        385|  7.593605|\n",
            "|         5|         16|  8.881258|\n",
            "|         5|        305|  8.095629|\n",
            "|         6|        198|  6.871107|\n",
            "|         6|        264|  7.537586|\n",
            "|         6|        349| 7.1090765|\n",
            "|         7|        151|  8.815727|\n",
            "|         8|        274| 7.4829044|\n",
            "|         9|        399|  6.422617|\n",
            "|        10|        240|  8.590752|\n",
            "|        10|        371| 6.8143687|\n",
            "|        10|        394|  6.893742|\n",
            "|        10|        428|  5.255093|\n",
            "|        10|        486|  7.945748|\n",
            "|        11|        329|  7.172482|\n",
            "|        11|        387| 6.8482666|\n",
            "|        12|        372| 7.5034337|\n",
            "+----------+-----------+----------+\n",
            "only showing top 20 rows\n",
            "\n"
          ]
        }
      ]
    },
    {
      "cell_type": "code",
      "source": [
        "from recommenders.evaluation.spark_evaluation import SparkRankingEvaluation, SparkRatingEvaluation"
      ],
      "metadata": {
        "id": "Ogy8EWFgU8-U"
      },
      "execution_count": 17,
      "outputs": []
    },
    {
      "cell_type": "code",
      "source": [
        "evaluations = SparkRankingEvaluation(\n",
        "    test_data,\n",
        "    dfs_pred_final,\n",
        "    col_user='user_index',\n",
        "    col_item='anime_index',\n",
        "    col_rating='rating',\n",
        "    col_prediction='prediction',\n",
        "    k=10\n",
        ")\n",
        "\n",
        "print(\n",
        "    \"Precision@k = {}\".format(evaluations.precision_at_k()),\n",
        "    \"Recall@k = {}\".format(evaluations.recall_at_k()),\n",
        "    \"NDCG@k = {}\".format(evaluations.ndcg_at_k()),\n",
        "    \"Mean average precision = {}\".format(evaluations.map_at_k()),\n",
        "    sep=\"\\n\"\n",
        ")"
      ],
      "metadata": {
        "colab": {
          "base_uri": "https://localhost:8080/"
        },
        "id": "WHjkUD8QTuDU",
        "outputId": "4b46cd6f-3c50-4c81-92bc-3aa56a0c443f"
      },
      "execution_count": 22,
      "outputs": [
        {
          "output_type": "stream",
          "name": "stderr",
          "text": [
            "/usr/local/lib/python3.10/dist-packages/pyspark/sql/context.py:158: FutureWarning: Deprecated in 3.0.0. Use SparkSession.builder.getOrCreate() instead.\n",
            "  warnings.warn(\n"
          ]
        },
        {
          "output_type": "stream",
          "name": "stdout",
          "text": [
            "Precision@k = 0.1908351832098491\n",
            "Recall@k = 0.038377746147481864\n",
            "NDCG@k = 0.19729355192825335\n",
            "Mean average precision = 0.10333281639625423\n"
          ]
        }
      ]
    },
    {
      "cell_type": "code",
      "source": [],
      "metadata": {
        "id": "YjhSwGm-X49z"
      },
      "execution_count": null,
      "outputs": []
    }
  ]
}