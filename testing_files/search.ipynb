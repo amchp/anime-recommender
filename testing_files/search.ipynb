{
 "cells": [
  {
   "cell_type": "code",
   "execution_count": 3,
   "metadata": {},
   "outputs": [],
   "source": [
    "import pandas as pd"
   ]
  },
  {
   "cell_type": "code",
   "execution_count": 7,
   "metadata": {},
   "outputs": [],
   "source": [
    "df = pd.read_csv('../raw/anime-dataset-2023.csv')"
   ]
  },
  {
   "cell_type": "code",
   "execution_count": null,
   "metadata": {},
   "outputs": [
    {
     "name": "stdout",
     "output_type": "stream",
     "text": [
      "       anime_id                                Name English name  \\\n",
      "12705     35035  Sam-chan no Obake Nanka Kowaku Nai      UNKNOWN   \n",
      "\n",
      "             Other name    Score        Genres  \\\n",
      "12705  サムちゃんのおばけなんか怖くない  UNKNOWN  Supernatural   \n",
      "\n",
      "                                                Synopsis Type Episodes  \\\n",
      "12705  It's Halloween and Tuxedo Sam gets scared by g...  OVA      1.0   \n",
      "\n",
      "          Aired  ...  Studios    Source Duration        Rating     Rank  \\\n",
      "12705  Aug 1998  ...  UNKNOWN  Original   10 min  G - All Ages  19342.0   \n",
      "\n",
      "      Popularity Favorites Scored By Members  \\\n",
      "12705      18447         0   UNKNOWN     226   \n",
      "\n",
      "                                               Image URL  \n",
      "12705  https://cdn.myanimelist.net/images/anime/3/845...  \n",
      "\n",
      "[1 rows x 24 columns]\n"
     ]
    }
   ],
   "source": [
    "print(df[df['anime_id'] ==  35035]['English name'])"
   ]
  },
  {
   "cell_type": "code",
   "execution_count": null,
   "metadata": {},
   "outputs": [],
   "source": [
    "df2 = pd.read_csv('datos/user-filtered.csv')"
   ]
  },
  {
   "cell_type": "code",
   "execution_count": null,
   "metadata": {},
   "outputs": [
    {
     "name": "stdout",
     "output_type": "stream",
     "text": [
      "         user_id  anime_id  rating\n",
      "5217493    17162     41619       0\n",
      "5217494    17162     39195       8\n",
      "5217495    17162     31043       8\n",
      "5217496    17162     31964       7\n",
      "5217497    17162     31478       8\n",
      "...          ...       ...     ...\n",
      "5217582    17162      6114       0\n",
      "5217583    17162      1942       0\n",
      "5217584    17162     35994       0\n",
      "5217585    17162     23273       0\n",
      "5217586    17162     38826       0\n",
      "\n",
      "[94 rows x 3 columns]\n"
     ]
    }
   ],
   "source": [
    "print(df2[df2['user_id'] == 17162])"
   ]
  }
 ],
 "metadata": {
  "kernelspec": {
   "display_name": "Python 3",
   "language": "python",
   "name": "python3"
  },
  "language_info": {
   "codemirror_mode": {
    "name": "ipython",
    "version": 3
   },
   "file_extension": ".py",
   "mimetype": "text/x-python",
   "name": "python",
   "nbconvert_exporter": "python",
   "pygments_lexer": "ipython3",
   "version": "3.10.11"
  }
 },
 "nbformat": 4,
 "nbformat_minor": 2
}
